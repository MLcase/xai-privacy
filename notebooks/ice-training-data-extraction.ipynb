{
 "cells": [
  {
   "cell_type": "markdown",
   "id": "75916e17",
   "metadata": {},
   "source": [
    "# ICE Training Data Extraction Experiments"
   ]
  },
  {
   "cell_type": "code",
   "execution_count": 3,
   "id": "f6661d3f",
   "metadata": {
    "execution": {
     "iopub.execute_input": "2021-07-24T15:03:19.180050Z",
     "iopub.status.busy": "2021-07-24T15:03:19.176105Z",
     "iopub.status.idle": "2021-07-24T15:03:22.523551Z",
     "shell.execute_reply": "2021-07-24T15:03:22.522429Z"
    }
   },
   "outputs": [],
   "source": [
    "import pandas as pd\n",
    "import sklearn.ensemble as es\n",
    "from sklearn.tree import DecisionTreeClassifier\n",
    "import matplotlib.pyplot as plt\n",
    "from sklearn.inspection import partial_dependence\n",
    "from sklearn.inspection import plot_partial_dependence\n",
    "from sklearn.preprocessing import LabelEncoder\n",
    "import numpy as np\n",
    "import random\n",
    "import logging\n",
    "import sys\n",
    "import time\n",
    "import multiprocessing\n",
    "\n",
    "threads = 32\n",
    "# number of repetitions per experiment\n",
    "N = 100"
   ]
  },
  {
   "cell_type": "markdown",
   "id": "c6a61bbc",
   "metadata": {},
   "source": [
    "This notebook will go through the experiment for training data extraction with individual conditional expectation (ICE). Training data extraction means an attacker can find out the feature values of samples from the training data without prior knowledge of them. The attacker only has access to the model's prediction function and the explanation.\n",
    "\n",
    "The idea for ICE training data extraction is as follows: The attacker can check which predictions values are the same for different ICE lines from the same training sample (each training sample has one ICE line for every feature). If there is only one possible combination of feature values with the same prediction value, then these feature values must make up the original sample. If multiple possibilites exist, then false training data samples must be excluded by checking whether the model's prediction matches the prediction in the ICE graphs. We can further reduce the number of candidates by performing membership inference with ICE on them.\n",
    "\n",
    "First, we define a few functions that will help us run the experiment later.\n",
    "\n",
    "The first function performs membership inference in order to help the training data extraction discard false candidates."
   ]
  },
  {
   "cell_type": "code",
   "execution_count": 1,
   "id": "c274d28d",
   "metadata": {
    "execution": {
     "iopub.execute_input": "2021-07-24T15:03:22.538559Z",
     "iopub.status.busy": "2021-07-24T15:03:22.535180Z",
     "iopub.status.idle": "2021-07-24T15:03:22.543828Z",
     "shell.execute_reply": "2021-07-24T15:03:22.542946Z"
    }
   },
   "outputs": [],
   "source": [
    "# sample: numpy array with feature values of one sample\n",
    "# ice_features: list of ice explanations (one for each feature)\n",
    "# pred_func: prediction function by model. Takes an array of samples and returns array of predictions.\n",
    "# class_num: index for output of pred_func: class to consider for ice explanation\n",
    "# sample_index: index of the sample in the ICE lines.\n",
    "# returns: true if sample appears to be part of training data, false otherwise\n",
    "def membership_inference_ice_fast(sample, ice_features, pred_func, class_num, sample_index):\n",
    "    \n",
    "    # Recreate ice lines for all given features for the sample.\n",
    "\n",
    "    for num, ice in enumerate(ice_features):\n",
    "        \n",
    "        # Get the grid for this feature. These are the points at which we will get predictions from the model.\n",
    "        feature_values = ice['values'][0]\n",
    "\n",
    "        # Create array that contains the sample as many times as there are different grid points for this feature.\n",
    "        changed_samples = np.tile(sample, (feature_values.shape[0], 1))\n",
    "        \n",
    "        # Change each copied samples feature in question to a point from the grid.\n",
    "        changed_samples[:, num] = feature_values\n",
    "        \n",
    "        # Get the predictions for these changed samples.\n",
    "        preds = pred_func(changed_samples)[:, 1]\n",
    "        \n",
    "        # Compare the predictions to the actual ICE line for this sample. If they match, continue with the next feature.\n",
    "        # Otherwise this sample is not part of the training data. Return false.\n",
    "        if not np.allclose(preds, ice['individual'][0, sample_index]):\n",
    "            return False\n",
    "        \n",
    "    # This is only reached if the ICE line matched for every feature. \n",
    "    # Return true to predict that the sample was in training data.\n",
    "    return True"
   ]
  },
  {
   "cell_type": "markdown",
   "id": "7c13bae5",
   "metadata": {},
   "source": [
    "The second function can execute training data extraction for ICE explanations. It takes a list of ICE explanations (for different features), the index of the sample to extract and the prediction function of the machine learning model. The function returns a list of candidates for that sample. If only one candidate is returned and it matches the original sample then it has been succesfully extracted. The success rate of the extraction is tested in the following experiments."
   ]
  },
  {
   "cell_type": "code",
   "execution_count": 3,
   "id": "00ca3518",
   "metadata": {
    "execution": {
     "iopub.execute_input": "2021-07-24T15:03:22.567643Z",
     "iopub.status.busy": "2021-07-24T15:03:22.560412Z",
     "iopub.status.idle": "2021-07-24T15:03:22.571711Z",
     "shell.execute_reply": "2021-07-24T15:03:22.570803Z"
    }
   },
   "outputs": [],
   "source": [
    "# ice_features: list of ice explanations (one for each feature)\n",
    "# pred_func: prediction function by model. Takes an array of samples and returns array of predictions.\n",
    "# sample_index: index of the sample to extract in the ICE lines.\n",
    "# max_precandidates: maximum number of precandidates (all possible combinations of feature values that share a prediction value)\n",
    "#                    to create. If the possible combinations exceed this number, they won't be created and that prediction value\n",
    "#                    will be skipped.\n",
    "# max_candidates: maximum number of candidates for which membership inference will be executed. If the number of candidates \n",
    "#                 exceeds this number, they will be discarded and an empty list of candidates for the sample is returned.\n",
    "# returns: list of candidates for the sample with sample_index in the ICE lines\n",
    "def training_data_extraction_ice(ice_features, pred_func, sample_index, max_precandidates=1E8, max_candidates=1E5):\n",
    "    \n",
    "    num_of_features = len(ice_features)\n",
    "    \n",
    "    # Create array that contains all predictions values that are shared across all ICE lines for this sample.\n",
    "    shared_preds = ice_features[0]['individual'][0][sample_index]\n",
    "    for i in range(num_of_features):\n",
    "        shared_preds = np.intersect1d(shared_preds, ice_features[i]['individual'][0][sample_index])\n",
    "\n",
    "    # This list will contain arrays of candidates. Each array belongs to one shared prediction value.\n",
    "    sample_candidates_list = []\n",
    "    \n",
    "    # Number of found candidates so far.\n",
    "    num_of_candidates = 0\n",
    "\n",
    "    for prediction in shared_preds:\n",
    "\n",
    "        # Each element of this list will be one array with the possible values for that feature.\n",
    "        # These values are at the points where the shared prediction value appears for the feature.\n",
    "        values_for_each_feature = []\n",
    "        \n",
    "        # The values for all features must be combined in all possible ways to create the plausible training data samples.\n",
    "        # The number of possible combinations are counted first to avoid allocating to much memory \n",
    "        # in case there are too many possibilities.\n",
    "        combinations = 1\n",
    "\n",
    "        for i in range(num_of_features):\n",
    "            \n",
    "            # Get indices where the ICE lines prediction is equal to the shared prediction.\n",
    "            indices = np.where(ice_features[i]['individual'][0][sample_index] == prediction)[0]\n",
    "            \n",
    "            # Get the feature values for those indices and add them to the list.\n",
    "            values = ice_features[i]['values'][0][indices]\n",
    "            values_for_each_feature.append(values)\n",
    "            \n",
    "            # Update possible combinations counter.\n",
    "            combinations = combinations * values.shape[0]\n",
    "            \n",
    "        # Skip creating the possible combinations for this shared prediction value if they exceed the threshhold.\n",
    "        if combinations > max_precandidates:\n",
    "            logging.debug(\"Sample index %s: %s precandidates exceeds limit. Skipping prediction value %s.\" \\\n",
    "                          % (sample_index, combinations, prediction))\n",
    "            continue\n",
    "\n",
    "        logging.debug(\"Sample index %s: creating %s precandidates for prediction value %s.\" \\\n",
    "                      % (sample_index, combinations, prediction))\n",
    "            \n",
    "        # Create precandidates by finding all possible combinations of the possible feature values.\n",
    "        sample_precandidates = np.array(np.meshgrid(*values_for_each_feature)).T.reshape(-1, num_of_features)\n",
    "\n",
    "        # Get the model's predictions for these precandidates.\n",
    "        actual_preds = pred_func(sample_precandidates)[:, 1]\n",
    "\n",
    "        # Only select precandidates that match the shared prediction and add them to the list\n",
    "        sample_candidates = sample_precandidates[np.where(actual_preds == prediction)]\n",
    "        sample_candidates_list.append(sample_candidates)\n",
    "        \n",
    "        # Update number of found candidates\n",
    "        num_of_candidates += sample_candidates.shape[0]\n",
    "\n",
    "        # Abort if number of found candidates already exceeds the limit\n",
    "        if num_of_candidates > max_candidates:\n",
    "            logging.debug(\"Sample index %s: %s candidates exceeds limit. No result.\" % (sample_index, num_of_candidates))\n",
    "            return []\n",
    "    \n",
    "    logging.debug(\"Sample index %s: checking %s candidates.\" % (sample_index, num_of_candidates))\n",
    "    \n",
    "    # List of candidates for which membership inference confirms their existence in the training data.\n",
    "    final_candidates = []\n",
    "    \n",
    "    # Iterate over every candidate for every shared prediction and check if membership can be inferred for them.\n",
    "    # If yes, add them to the final candidates.\n",
    "    for cands in sample_candidates_list:\n",
    "        for candidate in cands:\n",
    "            if membership_inference_ice_fast(candidate, ice_features, pred_func, 1, sample_index):\n",
    "                final_candidates.append(candidate)\n",
    "            \n",
    "    # Return the list of final candidates.\n",
    "    return final_candidates"
   ]
  },
  {
   "cell_type": "markdown",
   "id": "a2c5cb00",
   "metadata": {},
   "source": [
    "This function takes multiple sample indices and executes training data extraction on each of them. It is necessary in order to parallalize the algorithm."
   ]
  },
  {
   "cell_type": "code",
   "execution_count": 4,
   "id": "427630a6",
   "metadata": {
    "execution": {
     "iopub.execute_input": "2021-07-24T15:03:22.579515Z",
     "iopub.status.busy": "2021-07-24T15:03:22.578486Z",
     "iopub.status.idle": "2021-07-24T15:03:22.582714Z",
     "shell.execute_reply": "2021-07-24T15:03:22.581627Z"
    }
   },
   "outputs": [],
   "source": [
    "# ice_features: list of ice explanations (one for each feature)\n",
    "# pred_func: prediction function by model. Takes an array of samples and returns array of predictions.\n",
    "# sample_indices: numpy array of indices of samples to extract. They point to the corresponding ICE lines.\n",
    "# max_precandidates: maximum number of precandidates (all possible combinations of feature values that share a prediction value)\n",
    "#                    to create. If the possible combinations exceed this number, they won't be created and that prediction value\n",
    "#                    will be skipped.\n",
    "# max_candidates: maximum number of candidates for which membership inference will be executed. If the number of candidates \n",
    "#                 exceeds this number, they will be discarded and an empty list of candidates for the sample is returned.\n",
    "# returns: list of lists of candidates for the samples with the given indices in the ICE lines\n",
    "def training_data_extraction_ice_multiple(ice_features, pred_func, sample_indices, max_precandidates=1E8, max_candidates=1E5):\n",
    "    \n",
    "    results = []\n",
    "    \n",
    "    # executes training data extraction for each sample index\n",
    "    for sample_index in sample_indices:\n",
    "        results.append(training_data_extraction_ice(ice_features, pred_func, sample_index, max_precandidates, max_candidates))\n",
    "        \n",
    "    return results"
   ]
  },
  {
   "cell_type": "markdown",
   "id": "40692f76",
   "metadata": {},
   "source": [
    "This function calculates the ICE graphs. It is also needed for parallelization because the `multiprocessing` package does not work with keyword arguments."
   ]
  },
  {
   "cell_type": "code",
   "execution_count": 5,
   "id": "6960c351",
   "metadata": {
    "execution": {
     "iopub.execute_input": "2021-07-24T15:03:22.589423Z",
     "iopub.status.busy": "2021-07-24T15:03:22.588390Z",
     "iopub.status.idle": "2021-07-24T15:03:22.593230Z",
     "shell.execute_reply": "2021-07-24T15:03:22.592200Z"
    }
   },
   "outputs": [],
   "source": [
    "# clf: a classifier for which ICE is supposed to be calculated\n",
    "# features: the training data of the classifier. ICE lines will be created for these samples.\n",
    "# feature_index: index of feature for which ICE is supposed to be calculated\n",
    "# grid: number of points on the grid for ICE\n",
    "# returns: ICE (result of partial_dependence function)\n",
    "def ice_for_features(clf, features, feature_index, grid):\n",
    "    \n",
    "    \n",
    "    values = partial_dependence(estimator=clf, X=features, features=[feature_index], percentiles=(0,1), \\\n",
    "                                               grid_resolution=grid, kind='individual')\n",
    "    \n",
    "    logging.debug('Calculated ICE for feature %s' % feature_index)\n",
    "    \n",
    "    return values"
   ]
  },
  {
   "cell_type": "markdown",
   "id": "2b4dd301",
   "metadata": {},
   "source": [
    "Next, we will define a function that executes the entire experiment. It takes the features and the labels as panda dataframes. Random sample indices are supplied to the training data extraction algorithm which returns a list of candidates for each of them. The experiment function checks how many candidates are returned and whether the original sample is among them."
   ]
  },
  {
   "cell_type": "code",
   "execution_count": 6,
   "id": "2ecfc88a",
   "metadata": {
    "execution": {
     "iopub.execute_input": "2021-07-24T15:03:22.608706Z",
     "iopub.status.busy": "2021-07-24T15:03:22.607574Z",
     "iopub.status.idle": "2021-07-24T15:03:22.612449Z",
     "shell.execute_reply": "2021-07-24T15:03:22.611544Z"
    }
   },
   "outputs": [],
   "source": [
    "# features: pandas dataframe of the features for all training samples\n",
    "# labels: pandas dataframe of the labels for all training samples\n",
    "# number_of_extractions: number of samples to attempt to extract from the training data\n",
    "# random_state: seed for randomness during experiment (needed for reproducability)\n",
    "# returns: hit_percentage (likelihood of finding at least one candidate for a sample) and accuracy (likelihood of a candidate\n",
    "#          to be an actual trainign sample)\n",
    "def experiment(features, labels, number_of_extractions, random_state=39,\\\n",
    "               clf=es.RandomForestClassifier(random_state=17)):\n",
    "    \n",
    "    rs = np.random.RandomState(seed=random_state)\n",
    "    random.seed(random_state)\n",
    "    \n",
    "    # Train classifier.\n",
    "    clf = clf.fit(features, labels)\n",
    "    \n",
    "    num_of_samples = features.shape[0]\n",
    "    num_of_features = features.shape[1]\n",
    "    \n",
    "    # Calculate ICE for all features in parallel\n",
    "    logging.debug(\"Calculating ICE...\")\n",
    "    \n",
    "    arg_list = []\n",
    "    \n",
    "    for i in range(num_of_features):\n",
    "        # grid_resolution must be greater than the number of samples so that the grid points are forced to correspond\n",
    "        # to the actual values of the training samples. Otherwise there may be possible feature values that do not \n",
    "        # appear on the grid.\n",
    "        arg_list.append((clf, features, i, num_of_samples + 1))\n",
    "    \n",
    "    with multiprocessing.Pool(threads) as p:\n",
    "        ice_features = p.starmap(ice_for_features, arg_list)\n",
    "    \n",
    "    logging.debug(\"ICE calculation done\")\n",
    "        \n",
    "    # Begin experiment. Record number of correct and incorrect samples.\n",
    "    num_of_times_candidates_found = 0\n",
    "    num_of_found_samples = 0\n",
    "    num_of_total_candidates = 0\n",
    "    perfect_findings = 0\n",
    "    \n",
    "    # Indices of samples to test training data extraction for\n",
    "    test_samples_indices = np.empty(number_of_extractions, dtype=int)\n",
    "    # Actual values of samples to test training data extraction for\n",
    "    test_samples = np.empty((number_of_extractions, num_of_features))\n",
    "    \n",
    "    # Fill the two created arrays with random samples and their indices\n",
    "    for i in range(number_of_extractions):\n",
    "        # Choose random sample.\n",
    "        index = int(random.uniform(0, 1) * num_of_samples)\n",
    "        test_samples_indices[i] = index\n",
    "        test_samples[i] = features.iloc[index].to_numpy()\n",
    "        \n",
    "    arg_list = []\n",
    "    \n",
    "    samples_per_thread = number_of_extractions / threads\n",
    "    \n",
    "    for i in range(threads):\n",
    "        start_idx = int(i * samples_per_thread)\n",
    "        end_idx = int((i + 1) * samples_per_thread)\n",
    "        arg_list.append((ice_features, clf.predict_proba, test_samples_indices[start_idx : end_idx]))\n",
    "        \n",
    "    logging.debug(\"Begin training data extraction for selected samples:\")\n",
    "    \n",
    "    with multiprocessing.Pool(threads) as p:\n",
    "        results = p.starmap(training_data_extraction_ice_multiple, arg_list)\n",
    "        \n",
    "    results_flat = [item for sublist in results for item in sublist]\n",
    "    \n",
    "    for i, candidates in enumerate(results_flat):\n",
    "        test_sample = test_samples[i]\n",
    "        test_sample_index = test_samples_indices[i]\n",
    "        \n",
    "        num_of_candidates = len(candidates)\n",
    "        \n",
    "        logging.debug(\"%s with index %s chosen as test sample\" % (test_sample, test_sample_index))\n",
    "        logging.debug(\"Found candidates: \")\n",
    "        logging.debug(candidates)\n",
    "        \n",
    "        # Update counters.\n",
    "        if num_of_candidates > 0:\n",
    "            num_of_times_candidates_found += 1\n",
    "            num_of_total_candidates += num_of_candidates\n",
    "            \n",
    "            if (test_sample == candidates).all(1).any():\n",
    "                logging.debug(\"Sample is part of candidates.\")\n",
    "                num_of_found_samples += 1\n",
    "                \n",
    "                if num_of_candidates == 1:\n",
    "                    perfect_findings += 1\n",
    "                \n",
    "    logging.debug('Number of times candidates were found: %s' % num_of_times_candidates_found)\n",
    "    logging.debug('Number of total candidates: %s' % num_of_total_candidates)\n",
    "    logging.debug('Number of found samples: %s' % num_of_found_samples)\n",
    "    logging.debug('Number of only candidate being the sample: %s' % perfect_findings)\n",
    "    \n",
    "    # Likelihood of the sample being inside the found candidates\n",
    "    accuracy_relaxed = num_of_found_samples / number_of_extractions\n",
    "    \n",
    "    # Likelihood of finding exactly one candidate that is the sample in question\n",
    "    accuracy = perfect_findings / number_of_extractions\n",
    "    \n",
    "    print(\"Likelihood of the sample being inside the found candidates: %s\" % accuracy_relaxed)\n",
    "    print(\"Likelihood of finding exactly one candidate that is the sample in question: %s\" % accuracy)\n",
    "    \n",
    "    return accuracy_relaxed, accuracy"
   ]
  },
  {
   "cell_type": "markdown",
   "id": "d2ef61e5",
   "metadata": {},
   "source": [
    "# Dataset 1: Heart Disease"
   ]
  },
  {
   "cell_type": "markdown",
   "id": "eec7e1e9",
   "metadata": {},
   "source": [
    "Load dataset one: heart disease"
   ]
  },
  {
   "cell_type": "code",
   "execution_count": 4,
   "id": "035f86f2",
   "metadata": {
    "execution": {
     "iopub.execute_input": "2021-07-24T15:03:22.619709Z",
     "iopub.status.busy": "2021-07-24T15:03:22.618669Z",
     "iopub.status.idle": "2021-07-24T15:03:22.636518Z",
     "shell.execute_reply": "2021-07-24T15:03:22.635659Z"
    }
   },
   "outputs": [],
   "source": [
    "filename = '../data/framingham.csv'\n",
    "\n",
    "names = ['sex', 'age', 'education', 'smoker', 'cigs_per_day', 'bp_meds', 'prevalent_stroke', 'prevelant_hyp', 'diabetes', \\\n",
    "         'total_chol', 'sys_bp', 'dia_bp', 'bmi', 'heart_rate', 'glucose', 'heart_disease_label']\n",
    "\n",
    "data = pd.read_csv(filename, names=names)"
   ]
  },
  {
   "cell_type": "markdown",
   "id": "fc59b38b",
   "metadata": {},
   "source": [
    "For this dataset we only look at numerical data so we drop the categorical columns. We also drop the column \"education\" for which there is no feature description on kaggle: https://www.kaggle.com/dileep070/heart-disease-prediction-using-logistic-regression"
   ]
  },
  {
   "cell_type": "code",
   "execution_count": 5,
   "id": "c74db71d",
   "metadata": {
    "execution": {
     "iopub.execute_input": "2021-07-24T15:03:22.659914Z",
     "iopub.status.busy": "2021-07-24T15:03:22.647964Z",
     "iopub.status.idle": "2021-07-24T15:03:22.678424Z",
     "shell.execute_reply": "2021-07-24T15:03:22.679238Z"
    }
   },
   "outputs": [
    {
     "data": {
      "text/html": [
       "<div>\n",
       "<style scoped>\n",
       "    .dataframe tbody tr th:only-of-type {\n",
       "        vertical-align: middle;\n",
       "    }\n",
       "\n",
       "    .dataframe tbody tr th {\n",
       "        vertical-align: top;\n",
       "    }\n",
       "\n",
       "    .dataframe thead th {\n",
       "        text-align: right;\n",
       "    }\n",
       "</style>\n",
       "<table border=\"1\" class=\"dataframe\">\n",
       "  <thead>\n",
       "    <tr style=\"text-align: right;\">\n",
       "      <th></th>\n",
       "      <th>age</th>\n",
       "      <th>cigs_per_day</th>\n",
       "      <th>total_chol</th>\n",
       "      <th>sys_bp</th>\n",
       "      <th>dia_bp</th>\n",
       "      <th>bmi</th>\n",
       "      <th>heart_rate</th>\n",
       "      <th>glucose</th>\n",
       "      <th>heart_disease_label</th>\n",
       "    </tr>\n",
       "  </thead>\n",
       "  <tbody>\n",
       "    <tr>\n",
       "      <th>0</th>\n",
       "      <td>39</td>\n",
       "      <td>0.0</td>\n",
       "      <td>195.0</td>\n",
       "      <td>106.0</td>\n",
       "      <td>70.0</td>\n",
       "      <td>26.97</td>\n",
       "      <td>80.0</td>\n",
       "      <td>77.0</td>\n",
       "      <td>0</td>\n",
       "    </tr>\n",
       "    <tr>\n",
       "      <th>1</th>\n",
       "      <td>46</td>\n",
       "      <td>0.0</td>\n",
       "      <td>250.0</td>\n",
       "      <td>121.0</td>\n",
       "      <td>81.0</td>\n",
       "      <td>28.73</td>\n",
       "      <td>95.0</td>\n",
       "      <td>76.0</td>\n",
       "      <td>0</td>\n",
       "    </tr>\n",
       "    <tr>\n",
       "      <th>2</th>\n",
       "      <td>48</td>\n",
       "      <td>20.0</td>\n",
       "      <td>245.0</td>\n",
       "      <td>127.5</td>\n",
       "      <td>80.0</td>\n",
       "      <td>25.34</td>\n",
       "      <td>75.0</td>\n",
       "      <td>70.0</td>\n",
       "      <td>0</td>\n",
       "    </tr>\n",
       "    <tr>\n",
       "      <th>3</th>\n",
       "      <td>61</td>\n",
       "      <td>30.0</td>\n",
       "      <td>225.0</td>\n",
       "      <td>150.0</td>\n",
       "      <td>95.0</td>\n",
       "      <td>28.58</td>\n",
       "      <td>65.0</td>\n",
       "      <td>103.0</td>\n",
       "      <td>1</td>\n",
       "    </tr>\n",
       "    <tr>\n",
       "      <th>4</th>\n",
       "      <td>46</td>\n",
       "      <td>23.0</td>\n",
       "      <td>285.0</td>\n",
       "      <td>130.0</td>\n",
       "      <td>84.0</td>\n",
       "      <td>23.10</td>\n",
       "      <td>85.0</td>\n",
       "      <td>85.0</td>\n",
       "      <td>0</td>\n",
       "    </tr>\n",
       "  </tbody>\n",
       "</table>\n",
       "</div>"
      ],
      "text/plain": [
       "   age  cigs_per_day  total_chol  sys_bp  dia_bp    bmi  heart_rate  glucose  \\\n",
       "0   39           0.0       195.0   106.0    70.0  26.97        80.0     77.0   \n",
       "1   46           0.0       250.0   121.0    81.0  28.73        95.0     76.0   \n",
       "2   48          20.0       245.0   127.5    80.0  25.34        75.0     70.0   \n",
       "3   61          30.0       225.0   150.0    95.0  28.58        65.0    103.0   \n",
       "4   46          23.0       285.0   130.0    84.0  23.10        85.0     85.0   \n",
       "\n",
       "   heart_disease_label  \n",
       "0                    0  \n",
       "1                    0  \n",
       "2                    0  \n",
       "3                    1  \n",
       "4                    0  "
      ]
     },
     "execution_count": 5,
     "metadata": {},
     "output_type": "execute_result"
    }
   ],
   "source": [
    "data_num = data.drop('sex', axis=1).drop('smoker', axis=1).drop('bp_meds', axis=1).drop('prevalent_stroke', axis=1)\\\n",
    "    .drop('prevelant_hyp', axis=1).drop('diabetes', axis=1).drop('education', axis=1)\n",
    "\n",
    "data_num.head(5)"
   ]
  },
  {
   "cell_type": "markdown",
   "id": "5added0a",
   "metadata": {},
   "source": [
    "Remove any rows that are missing data. Afterwards there should be no more entries with NaN values. We also drop any duplicate rows."
   ]
  },
  {
   "cell_type": "code",
   "execution_count": 9,
   "id": "81a93713",
   "metadata": {
    "execution": {
     "iopub.execute_input": "2021-07-24T15:03:22.694286Z",
     "iopub.status.busy": "2021-07-24T15:03:22.693196Z",
     "iopub.status.idle": "2021-07-24T15:03:22.707057Z",
     "shell.execute_reply": "2021-07-24T15:03:22.705879Z"
    }
   },
   "outputs": [
    {
     "data": {
      "text/plain": [
       "age                    0\n",
       "cigs_per_day           0\n",
       "total_chol             0\n",
       "sys_bp                 0\n",
       "dia_bp                 0\n",
       "bmi                    0\n",
       "heart_rate             0\n",
       "glucose                0\n",
       "heart_disease_label    0\n",
       "dtype: int64"
      ]
     },
     "execution_count": 9,
     "metadata": {},
     "output_type": "execute_result"
    }
   ],
   "source": [
    "data_num = data_num.dropna()\n",
    "data_num = data_num.drop_duplicates()\n",
    "\n",
    "data_num.isnull().sum()"
   ]
  },
  {
   "cell_type": "markdown",
   "id": "bdb2e40d",
   "metadata": {},
   "source": [
    "Before running the experiment, we we will have a short look at the visual explanation of ICE. The underlying data of these graphs will be our attack vector for training data extraction.\n",
    "\n",
    "The dark blue lines represent the average change in predictions for a change in the specified feature. The light blue lines are the change in prediction for single samples from the training data. These are the ICE lines for individual samples from the training data."
   ]
  },
  {
   "cell_type": "code",
   "execution_count": 11,
   "id": "5fd55f04",
   "metadata": {
    "execution": {
     "iopub.execute_input": "2021-07-24T15:03:22.729627Z",
     "iopub.status.busy": "2021-07-24T15:03:22.728587Z",
     "iopub.status.idle": "2021-07-24T15:03:22.732952Z",
     "shell.execute_reply": "2021-07-24T15:03:22.731907Z"
    }
   },
   "outputs": [],
   "source": [
    "features = data_num.drop('heart_disease_label', axis=1)\n",
    "labels = data_num['heart_disease_label']\n",
    "\n",
    "data_num_100 = data_num.sample(n = 100, random_state=13)\n",
    "features_100 = data_num_100.drop('heart_disease_label', axis=1)\n",
    "labels_100 = data_num_100['heart_disease_label']"
   ]
  },
  {
   "cell_type": "code",
   "execution_count": 12,
   "id": "64c4cf59",
   "metadata": {
    "execution": {
     "iopub.execute_input": "2021-07-24T15:03:22.743006Z",
     "iopub.status.busy": "2021-07-24T15:03:22.741876Z",
     "iopub.status.idle": "2021-07-24T15:03:29.039191Z",
     "shell.execute_reply": "2021-07-24T15:03:29.038287Z"
    }
   },
   "outputs": [
    {
     "data": {
      "image/png": "[encoded data removed]",
      "text/plain": [
       "<Figure size 1008x1008 with 9 Axes>"
      ]
     },
     "metadata": {
      "needs_background": "light"
     },
     "output_type": "display_data"
    }
   ],
   "source": [
    "# Train a random forest classifier on training data.\n",
    "clf = es.RandomForestClassifier(random_state=0)\n",
    "clf = clf.fit(features, labels)\n",
    "\n",
    "feature_names = ['age', 'cigs_per_day', 'total_chol', 'sys_bp', 'dia_bp', 'bmi', 'heart_rate', 'glucose']\n",
    "num_of_features = 8\n",
    "\n",
    "fig, ax = plt.subplots(figsize=(14, 14))\n",
    "\n",
    "display = plot_partial_dependence(\n",
    "       clf, features, feature_names, kind=\"both\", subsample=10,\n",
    "       n_jobs=3, grid_resolution=20, random_state=0, percentiles = (0.05, 0.95), ax=ax\n",
    ")"
   ]
  },
  {
   "cell_type": "markdown",
   "id": "883edb84",
   "metadata": {},
   "source": [
    "As a proof of concept for our privacy attack, we run the experiment for a few iterations with logging to show that the training data extraction function works in principle."
   ]
  },
  {
   "cell_type": "code",
   "execution_count": 13,
   "id": "813b7a63",
   "metadata": {
    "execution": {
     "iopub.execute_input": "2021-07-24T15:03:29.051026Z",
     "iopub.status.busy": "2021-07-24T15:03:29.049935Z",
     "iopub.status.idle": "2021-07-24T15:13:47.247899Z",
     "shell.execute_reply": "2021-07-24T15:13:47.247522Z"
    },
    "scrolled": false
   },
   "outputs": [
    {
     "name": "stderr",
     "output_type": "stream",
     "text": [
      "DEBUG:root:Calculating ICE...\n",
      "DEBUG:root:Calculated ICE for feature 1\n",
      "DEBUG:root:Calculated ICE for feature 0\n",
      "DEBUG:root:Calculated ICE for feature 6\n",
      "DEBUG:root:Calculated ICE for feature 7\n",
      "DEBUG:root:Calculated ICE for feature 4\n",
      "DEBUG:root:Calculated ICE for feature 3\n",
      "DEBUG:root:Calculated ICE for feature 2\n",
      "DEBUG:root:Calculated ICE for feature 5\n",
      "DEBUG:root:ICE calculation done\n",
      "DEBUG:root:Begin training data extraction for selected samples:\n",
      "DEBUG:root:Sample index 3208: creating 332640 precandidates for prediction value 0.03.\n",
      "DEBUG:root:Sample index 2880: creating 4274127 precandidates for prediction value 0.52.\n",
      "DEBUG:root:Sample index 3208: 185702 candidates exceeds limit. No result.\n",
      "DEBUG:root:Sample index 1598: 317757440 precandidates exceeds limit. Skipping prediction value 0.02.\n",
      "DEBUG:root:Sample index 1598: creating 30429000 precandidates for prediction value 0.03.\n",
      "DEBUG:root:Sample index 983: creating 2 precandidates for prediction value 0.68.\n",
      "DEBUG:root:Sample index 983: checking 2 candidates.\n",
      "DEBUG:root:Sample index 1942: 85999320000 precandidates exceeds limit. Skipping prediction value 0.01.\n",
      "DEBUG:root:Sample index 1942: checking 0 candidates.\n",
      "DEBUG:root:Sample index 1538: creating 59512320 precandidates for prediction value 0.0.\n",
      "DEBUG:root:Sample index 2978: creating 63879840 precandidates for prediction value 0.0.\n",
      "DEBUG:root:Sample index 1152: creating 8640 precandidates for prediction value 0.07.\n",
      "DEBUG:root:Sample index 1152: creating 7371000 precandidates for prediction value 0.09.\n",
      "DEBUG:root:Sample index 2880: 134203 candidates exceeds limit. No result.\n",
      "DEBUG:root:Sample index 1152: 594589 candidates exceeds limit. No result.\n",
      "DEBUG:root:Sample index 1598: 1181337 candidates exceeds limit. No result.\n",
      "DEBUG:root:Sample index 2978: 27895974 candidates exceeds limit. No result.\n",
      "DEBUG:root:Sample index 1538: 23508518 candidates exceeds limit. No result.\n",
      "DEBUG:root:[ 48.     0.   235.   135.    88.    27.61  92.   137.  ] with index 3208 chosen as test sample\n",
      "DEBUG:root:Found candidates: \n",
      "DEBUG:root:[]\n",
      "DEBUG:root:[ 43.    15.   300.   120.    78.    28.18  75.   106.  ] with index 2880 chosen as test sample\n",
      "DEBUG:root:Found candidates: \n",
      "DEBUG:root:[]\n",
      "DEBUG:root:[ 55.    20.   249.   109.    66.5   24.79  94.    85.  ] with index 1598 chosen as test sample\n",
      "DEBUG:root:Found candidates: \n",
      "DEBUG:root:[]\n",
      "DEBUG:root:[ 45.     0.   232.   122.5   82.5   27.55  74.    59.  ] with index 983 chosen as test sample\n",
      "DEBUG:root:Found candidates: \n",
      "DEBUG:root:[array([ 45.  ,   0.  , 232.  , 122.5 ,  82.5 ,  27.54,  74.  ,  59.  ]), array([ 45.  ,   0.  , 232.  , 122.5 ,  82.5 ,  27.55,  74.  ,  59.  ])]\n",
      "DEBUG:root:Sample is part of candidates.\n",
      "DEBUG:root:[ 41.     0.   203.   124.    86.    28.25  83.    80.  ] with index 1942 chosen as test sample\n",
      "DEBUG:root:Found candidates: \n",
      "DEBUG:root:[]\n",
      "DEBUG:root:[ 47.     3.   246.   120.    78.    24.71  63.    75.  ] with index 1538 chosen as test sample\n",
      "DEBUG:root:Found candidates: \n",
      "DEBUG:root:[]\n",
      "DEBUG:root:[ 39.     0.   200.   141.    87.    24.04  75.    70.  ] with index 2978 chosen as test sample\n",
      "DEBUG:root:Found candidates: \n",
      "DEBUG:root:[]\n",
      "DEBUG:root:[ 54.     0.   272.   146.    95.    23.66  72.    80.  ] with index 1152 chosen as test sample\n",
      "DEBUG:root:Found candidates: \n",
      "DEBUG:root:[]\n",
      "DEBUG:root:Number of times candidates were found: 1\n",
      "DEBUG:root:Number of total candidates: 2\n",
      "DEBUG:root:Number of found samples: 1\n",
      "DEBUG:root:Number of only candidate being the sample: 0\n"
     ]
    },
    {
     "name": "stdout",
     "output_type": "stream",
     "text": [
      "Likelihood of the sample being inside the found candidates: 0.125\n",
      "Likelihood of finding exactly one candidate that is the sample in question: 0.0\n",
      "--- 618.1990509033203 seconds ---\n"
     ]
    }
   ],
   "source": [
    "start = time.time()\n",
    "\n",
    "logging.root.setLevel(logging.DEBUG)\n",
    "\n",
    "experiment(features, labels, number_of_extractions=8, random_state=0)\n",
    "\n",
    "logging.root.setLevel(logging.INFO)\n",
    "\n",
    "print(\"--- %s seconds ---\" % (time.time() - start))"
   ]
  },
  {
   "cell_type": "markdown",
   "id": "3192b2eb",
   "metadata": {},
   "source": [
    "The proof of concept should show that the training data extraction function can accurately extract samples, but not every time. You can change the random state to try out a few different runs with different ICE lines."
   ]
  },
  {
   "cell_type": "markdown",
   "id": "4dcb3db0",
   "metadata": {},
   "source": [
    "Now we execute the entire experiment for this dataset."
   ]
  },
  {
   "cell_type": "code",
   "execution_count": 14,
   "id": "e60d9c33",
   "metadata": {
    "execution": {
     "iopub.execute_input": "2021-07-24T15:13:47.253797Z",
     "iopub.status.busy": "2021-07-24T15:13:47.253383Z",
     "iopub.status.idle": "2021-07-24T15:13:47.257638Z",
     "shell.execute_reply": "2021-07-24T15:13:47.256965Z"
    }
   },
   "outputs": [],
   "source": [
    "results_ = {'dataset': [], 'training_samples': [], 'model': [], \\\n",
    "            'accuracy_relaxed': [], 'accuracy': []}\n",
    "\n",
    "results = pd.DataFrame(data = results_)"
   ]
  },
  {
   "cell_type": "code",
   "execution_count": 15,
   "id": "2ced13c7",
   "metadata": {
    "execution": {
     "iopub.execute_input": "2021-07-24T15:13:47.265975Z",
     "iopub.status.busy": "2021-07-24T15:13:47.265163Z",
     "iopub.status.idle": "2021-07-24T15:14:00.547740Z",
     "shell.execute_reply": "2021-07-24T15:14:00.546831Z"
    }
   },
   "outputs": [
    {
     "name": "stdout",
     "output_type": "stream",
     "text": [
      "features: continuous, training samples: all, model: decision tree.\n",
      "Likelihood of the sample being inside the found candidates: 0.0\n",
      "Likelihood of finding exactly one candidate that is the sample in question: 0.0\n",
      "--- 13.278495073318481 seconds ---\n"
     ]
    }
   ],
   "source": [
    "print(\"features: continuous, training samples: all, model: decision tree.\")\n",
    "\n",
    "start_time = time.time()\n",
    "\n",
    "accuracy_relaxed, accuracy = experiment(features, labels, number_of_extractions=N, random_state=1,\\\n",
    "                                      clf=DecisionTreeClassifier(random_state=0))\n",
    "\n",
    "results.loc[len(results.index)] = ['continuous', 'all', 'decision tree', accuracy_relaxed, accuracy]\n",
    "\n",
    "print(\"--- %s seconds ---\" % (time.time() - start_time))"
   ]
  },
  {
   "cell_type": "code",
   "execution_count": 16,
   "id": "3b80f123",
   "metadata": {
    "execution": {
     "iopub.execute_input": "2021-07-24T15:14:00.558262Z",
     "iopub.status.busy": "2021-07-24T15:14:00.557175Z",
     "iopub.status.idle": "2021-07-24T15:44:16.497686Z",
     "shell.execute_reply": "2021-07-24T15:44:16.496615Z"
    }
   },
   "outputs": [
    {
     "name": "stdout",
     "output_type": "stream",
     "text": [
      "features: continuous, training samples: all, model: random forest.\n",
      "Likelihood of the sample being inside the found candidates: 0.23\n",
      "Likelihood of finding exactly one candidate that is the sample in question: 0.11\n",
      "--- 1815.9372742176056 seconds ---\n"
     ]
    }
   ],
   "source": [
    "print(\"features: continuous, training samples: all, model: random forest.\")\n",
    "\n",
    "start_time = time.time()\n",
    "\n",
    "accuracy_relaxed, accuracy = experiment(features, labels, number_of_extractions=N, random_state=1,\\\n",
    "                                      clf=es.RandomForestClassifier(random_state=0))\n",
    "\n",
    "results.loc[len(results.index)] = ['continuous', 'all', 'random forest', accuracy_relaxed, accuracy]\n",
    "\n",
    "print(\"--- %s seconds ---\" % (time.time() - start_time))"
   ]
  },
  {
   "cell_type": "code",
   "execution_count": 17,
   "id": "c9a0d7fa",
   "metadata": {
    "execution": {
     "iopub.execute_input": "2021-07-24T15:44:16.509369Z",
     "iopub.status.busy": "2021-07-24T15:44:16.508337Z",
     "iopub.status.idle": "2021-07-24T15:44:17.624456Z",
     "shell.execute_reply": "2021-07-24T15:44:17.623380Z"
    }
   },
   "outputs": [
    {
     "name": "stdout",
     "output_type": "stream",
     "text": [
      "features: continuous, training samples: 100, model: decision tree.\n",
      "Likelihood of the sample being inside the found candidates: 0.0\n",
      "Likelihood of finding exactly one candidate that is the sample in question: 0.0\n",
      "--- 1.1147220134735107 seconds ---\n"
     ]
    }
   ],
   "source": [
    "print(\"features: continuous, training samples: 100, model: decision tree.\")\n",
    "\n",
    "start_time = time.time()\n",
    "\n",
    "accuracy_relaxed, accuracy = experiment(features_100, labels_100, number_of_extractions=N, random_state=1,\\\n",
    "                                      clf=DecisionTreeClassifier(random_state=0))\n",
    "\n",
    "results.loc[len(results.index)] = ['continuous', '100', 'decision tree', accuracy_relaxed, accuracy]\n",
    "\n",
    "print(\"--- %s seconds ---\" % (time.time() - start_time))"
   ]
  },
  {
   "cell_type": "code",
   "execution_count": 18,
   "id": "94bb4ddf",
   "metadata": {
    "execution": {
     "iopub.execute_input": "2021-07-24T15:44:17.656781Z",
     "iopub.status.busy": "2021-07-24T15:44:17.651352Z",
     "iopub.status.idle": "2021-07-24T16:20:13.296015Z",
     "shell.execute_reply": "2021-07-24T16:20:13.294922Z"
    }
   },
   "outputs": [
    {
     "name": "stdout",
     "output_type": "stream",
     "text": [
      "features: continuous, training samples: 100, model: random forest.\n",
      "Likelihood of the sample being inside the found candidates: 0.5\n",
      "Likelihood of finding exactly one candidate that is the sample in question: 0.08\n",
      "--- 2155.658906698227 seconds ---\n"
     ]
    }
   ],
   "source": [
    "print(\"features: continuous, training samples: 100, model: random forest.\")\n",
    "\n",
    "start_time = time.time()\n",
    "\n",
    "accuracy_relaxed, accuracy = experiment(features_100, labels_100, number_of_extractions=N, random_state=1,\\\n",
    "                                      clf=es.RandomForestClassifier(random_state=0))\n",
    "\n",
    "results.loc[len(results.index)] = ['continuous', '100', 'random forest', accuracy_relaxed, accuracy]\n",
    "\n",
    "print(\"--- %s seconds ---\" % (time.time() - start_time))"
   ]
  },
  {
   "cell_type": "markdown",
   "id": "0612e9e6",
   "metadata": {},
   "source": [
    "# Dataset 2: Census Income"
   ]
  },
  {
   "cell_type": "markdown",
   "id": "4ee9708a",
   "metadata": {},
   "source": [
    "Load dataset two: census income"
   ]
  },
  {
   "cell_type": "code",
   "execution_count": 6,
   "id": "6e529ef8",
   "metadata": {
    "execution": {
     "iopub.execute_input": "2021-07-24T16:20:13.304541Z",
     "iopub.status.busy": "2021-07-24T16:20:13.303505Z",
     "iopub.status.idle": "2021-07-24T16:20:13.613675Z",
     "shell.execute_reply": "2021-07-24T16:20:13.612797Z"
    }
   },
   "outputs": [
    {
     "data": {
      "text/html": [
       "<div>\n",
       "<style scoped>\n",
       "    .dataframe tbody tr th:only-of-type {\n",
       "        vertical-align: middle;\n",
       "    }\n",
       "\n",
       "    .dataframe tbody tr th {\n",
       "        vertical-align: top;\n",
       "    }\n",
       "\n",
       "    .dataframe thead th {\n",
       "        text-align: right;\n",
       "    }\n",
       "</style>\n",
       "<table border=\"1\" class=\"dataframe\">\n",
       "  <thead>\n",
       "    <tr style=\"text-align: right;\">\n",
       "      <th></th>\n",
       "      <th>age</th>\n",
       "      <th>workclass</th>\n",
       "      <th>fnlwgt</th>\n",
       "      <th>education</th>\n",
       "      <th>education_num</th>\n",
       "      <th>marital_status</th>\n",
       "      <th>occupation</th>\n",
       "      <th>relationship</th>\n",
       "      <th>race</th>\n",
       "      <th>sex</th>\n",
       "      <th>capital_gain</th>\n",
       "      <th>capital_loss</th>\n",
       "      <th>hours_per_week</th>\n",
       "      <th>native_country</th>\n",
       "      <th>label</th>\n",
       "    </tr>\n",
       "  </thead>\n",
       "  <tbody>\n",
       "    <tr>\n",
       "      <th>0</th>\n",
       "      <td>39</td>\n",
       "      <td>State-gov</td>\n",
       "      <td>77516</td>\n",
       "      <td>Bachelors</td>\n",
       "      <td>13</td>\n",
       "      <td>Never-married</td>\n",
       "      <td>Adm-clerical</td>\n",
       "      <td>Not-in-family</td>\n",
       "      <td>White</td>\n",
       "      <td>Male</td>\n",
       "      <td>2174</td>\n",
       "      <td>0</td>\n",
       "      <td>40</td>\n",
       "      <td>United-States</td>\n",
       "      <td>&lt;=50K</td>\n",
       "    </tr>\n",
       "    <tr>\n",
       "      <th>1</th>\n",
       "      <td>50</td>\n",
       "      <td>Self-emp-not-inc</td>\n",
       "      <td>83311</td>\n",
       "      <td>Bachelors</td>\n",
       "      <td>13</td>\n",
       "      <td>Married-civ-spouse</td>\n",
       "      <td>Exec-managerial</td>\n",
       "      <td>Husband</td>\n",
       "      <td>White</td>\n",
       "      <td>Male</td>\n",
       "      <td>0</td>\n",
       "      <td>0</td>\n",
       "      <td>13</td>\n",
       "      <td>United-States</td>\n",
       "      <td>&lt;=50K</td>\n",
       "    </tr>\n",
       "    <tr>\n",
       "      <th>2</th>\n",
       "      <td>38</td>\n",
       "      <td>Private</td>\n",
       "      <td>215646</td>\n",
       "      <td>HS-grad</td>\n",
       "      <td>9</td>\n",
       "      <td>Divorced</td>\n",
       "      <td>Handlers-cleaners</td>\n",
       "      <td>Not-in-family</td>\n",
       "      <td>White</td>\n",
       "      <td>Male</td>\n",
       "      <td>0</td>\n",
       "      <td>0</td>\n",
       "      <td>40</td>\n",
       "      <td>United-States</td>\n",
       "      <td>&lt;=50K</td>\n",
       "    </tr>\n",
       "    <tr>\n",
       "      <th>3</th>\n",
       "      <td>53</td>\n",
       "      <td>Private</td>\n",
       "      <td>234721</td>\n",
       "      <td>11th</td>\n",
       "      <td>7</td>\n",
       "      <td>Married-civ-spouse</td>\n",
       "      <td>Handlers-cleaners</td>\n",
       "      <td>Husband</td>\n",
       "      <td>Black</td>\n",
       "      <td>Male</td>\n",
       "      <td>0</td>\n",
       "      <td>0</td>\n",
       "      <td>40</td>\n",
       "      <td>United-States</td>\n",
       "      <td>&lt;=50K</td>\n",
       "    </tr>\n",
       "    <tr>\n",
       "      <th>4</th>\n",
       "      <td>28</td>\n",
       "      <td>Private</td>\n",
       "      <td>338409</td>\n",
       "      <td>Bachelors</td>\n",
       "      <td>13</td>\n",
       "      <td>Married-civ-spouse</td>\n",
       "      <td>Prof-specialty</td>\n",
       "      <td>Wife</td>\n",
       "      <td>Black</td>\n",
       "      <td>Female</td>\n",
       "      <td>0</td>\n",
       "      <td>0</td>\n",
       "      <td>40</td>\n",
       "      <td>Cuba</td>\n",
       "      <td>&lt;=50K</td>\n",
       "    </tr>\n",
       "  </tbody>\n",
       "</table>\n",
       "</div>"
      ],
      "text/plain": [
       "   age          workclass  fnlwgt   education  education_num  \\\n",
       "0   39          State-gov   77516   Bachelors             13   \n",
       "1   50   Self-emp-not-inc   83311   Bachelors             13   \n",
       "2   38            Private  215646     HS-grad              9   \n",
       "3   53            Private  234721        11th              7   \n",
       "4   28            Private  338409   Bachelors             13   \n",
       "\n",
       "        marital_status          occupation    relationship    race      sex  \\\n",
       "0        Never-married        Adm-clerical   Not-in-family   White     Male   \n",
       "1   Married-civ-spouse     Exec-managerial         Husband   White     Male   \n",
       "2             Divorced   Handlers-cleaners   Not-in-family   White     Male   \n",
       "3   Married-civ-spouse   Handlers-cleaners         Husband   Black     Male   \n",
       "4   Married-civ-spouse      Prof-specialty            Wife   Black   Female   \n",
       "\n",
       "   capital_gain  capital_loss  hours_per_week  native_country   label  \n",
       "0          2174             0              40   United-States   <=50K  \n",
       "1             0             0              13   United-States   <=50K  \n",
       "2             0             0              40   United-States   <=50K  \n",
       "3             0             0              40   United-States   <=50K  \n",
       "4             0             0              40            Cuba   <=50K  "
      ]
     },
     "execution_count": 6,
     "metadata": {},
     "output_type": "execute_result"
    }
   ],
   "source": [
    "filename = '../data/adult.data.csv'\n",
    "\n",
    "names = ['age', 'workclass', 'fnlwgt', 'education', 'education_num', 'marital_status', 'occupation', \\\n",
    "         'relationship', 'race', 'sex', 'capital_gain', 'capital_loss', 'hours_per_week', 'native_country', 'label']\n",
    "\n",
    "data_cat = pd.read_csv(filename, names=names)\n",
    "\n",
    "data_cat.head(5)"
   ]
  },
  {
   "cell_type": "markdown",
   "id": "ce92b935",
   "metadata": {},
   "source": [
    "There is missing data in the columns workclass and native_country that needs to be removed."
   ]
  },
  {
   "cell_type": "code",
   "execution_count": 7,
   "id": "9c21ee62",
   "metadata": {
    "execution": {
     "iopub.execute_input": "2021-07-24T16:20:13.626806Z",
     "iopub.status.busy": "2021-07-24T16:20:13.625714Z",
     "iopub.status.idle": "2021-07-24T16:20:13.650922Z",
     "shell.execute_reply": "2021-07-24T16:20:13.651746Z"
    }
   },
   "outputs": [
    {
     "name": "stdout",
     "output_type": "stream",
     "text": [
      "Unique values of columns before removal: \n",
      "[' State-gov' ' Self-emp-not-inc' ' Private' ' Federal-gov' ' Local-gov'\n",
      " ' ?' ' Self-emp-inc' ' Without-pay' ' Never-worked']\n",
      "[' United-States' ' Cuba' ' Jamaica' ' India' ' ?' ' Mexico' ' South'\n",
      " ' Puerto-Rico' ' Honduras' ' England' ' Canada' ' Germany' ' Iran'\n",
      " ' Philippines' ' Italy' ' Poland' ' Columbia' ' Cambodia' ' Thailand'\n",
      " ' Ecuador' ' Laos' ' Taiwan' ' Haiti' ' Portugal' ' Dominican-Republic'\n",
      " ' El-Salvador' ' France' ' Guatemala' ' China' ' Japan' ' Yugoslavia'\n",
      " ' Peru' ' Outlying-US(Guam-USVI-etc)' ' Scotland' ' Trinadad&Tobago'\n",
      " ' Greece' ' Nicaragua' ' Vietnam' ' Hong' ' Ireland' ' Hungary'\n",
      " ' Holand-Netherlands']\n",
      "Unique values of columns after removal: \n",
      "[' State-gov' ' Self-emp-not-inc' ' Private' ' Federal-gov' ' Local-gov'\n",
      " ' Self-emp-inc' ' Without-pay' ' Never-worked']\n",
      "[' United-States' ' Cuba' ' Jamaica' ' India' ' Mexico' ' Puerto-Rico'\n",
      " ' Honduras' ' England' ' Canada' ' Germany' ' Iran' ' Philippines'\n",
      " ' Poland' ' Columbia' ' Cambodia' ' Thailand' ' Ecuador' ' Laos'\n",
      " ' Taiwan' ' Haiti' ' Portugal' ' Dominican-Republic' ' El-Salvador'\n",
      " ' France' ' Guatemala' ' Italy' ' China' ' South' ' Japan' ' Yugoslavia'\n",
      " ' Peru' ' Outlying-US(Guam-USVI-etc)' ' Scotland' ' Trinadad&Tobago'\n",
      " ' Greece' ' Nicaragua' ' Vietnam' ' Hong' ' Ireland' ' Hungary'\n",
      " ' Holand-Netherlands']\n"
     ]
    }
   ],
   "source": [
    "print(\"Unique values of columns before removal: \")\n",
    "print(data_cat.workclass.unique())\n",
    "print(data_cat.native_country.unique())\n",
    "\n",
    "data_cat = data_cat[data_cat.workclass != ' ?']\n",
    "data_cat = data_cat[data_cat.native_country != ' ?']\n",
    "\n",
    "print(\"Unique values of columns after removal: \")\n",
    "print(data_cat.workclass.unique())\n",
    "print(data_cat.native_country.unique())"
   ]
  },
  {
   "cell_type": "markdown",
   "id": "57733f48",
   "metadata": {},
   "source": [
    "We will only use the categorical features of this dataset. Remove continuous columns:"
   ]
  },
  {
   "cell_type": "code",
   "execution_count": 8,
   "id": "1c72dcd3",
   "metadata": {
    "execution": {
     "iopub.execute_input": "2021-07-24T16:20:13.662104Z",
     "iopub.status.busy": "2021-07-24T16:20:13.658868Z",
     "iopub.status.idle": "2021-07-24T16:20:13.693036Z",
     "shell.execute_reply": "2021-07-24T16:20:13.692001Z"
    }
   },
   "outputs": [
    {
     "data": {
      "text/html": [
       "<div>\n",
       "<style scoped>\n",
       "    .dataframe tbody tr th:only-of-type {\n",
       "        vertical-align: middle;\n",
       "    }\n",
       "\n",
       "    .dataframe tbody tr th {\n",
       "        vertical-align: top;\n",
       "    }\n",
       "\n",
       "    .dataframe thead th {\n",
       "        text-align: right;\n",
       "    }\n",
       "</style>\n",
       "<table border=\"1\" class=\"dataframe\">\n",
       "  <thead>\n",
       "    <tr style=\"text-align: right;\">\n",
       "      <th></th>\n",
       "      <th>workclass</th>\n",
       "      <th>education</th>\n",
       "      <th>marital_status</th>\n",
       "      <th>occupation</th>\n",
       "      <th>relationship</th>\n",
       "      <th>race</th>\n",
       "      <th>sex</th>\n",
       "      <th>native_country</th>\n",
       "      <th>label</th>\n",
       "    </tr>\n",
       "  </thead>\n",
       "  <tbody>\n",
       "    <tr>\n",
       "      <th>0</th>\n",
       "      <td>State-gov</td>\n",
       "      <td>Bachelors</td>\n",
       "      <td>Never-married</td>\n",
       "      <td>Adm-clerical</td>\n",
       "      <td>Not-in-family</td>\n",
       "      <td>White</td>\n",
       "      <td>Male</td>\n",
       "      <td>United-States</td>\n",
       "      <td>&lt;=50K</td>\n",
       "    </tr>\n",
       "    <tr>\n",
       "      <th>1</th>\n",
       "      <td>Self-emp-not-inc</td>\n",
       "      <td>Bachelors</td>\n",
       "      <td>Married-civ-spouse</td>\n",
       "      <td>Exec-managerial</td>\n",
       "      <td>Husband</td>\n",
       "      <td>White</td>\n",
       "      <td>Male</td>\n",
       "      <td>United-States</td>\n",
       "      <td>&lt;=50K</td>\n",
       "    </tr>\n",
       "    <tr>\n",
       "      <th>2</th>\n",
       "      <td>Private</td>\n",
       "      <td>HS-grad</td>\n",
       "      <td>Divorced</td>\n",
       "      <td>Handlers-cleaners</td>\n",
       "      <td>Not-in-family</td>\n",
       "      <td>White</td>\n",
       "      <td>Male</td>\n",
       "      <td>United-States</td>\n",
       "      <td>&lt;=50K</td>\n",
       "    </tr>\n",
       "  </tbody>\n",
       "</table>\n",
       "</div>"
      ],
      "text/plain": [
       "           workclass   education       marital_status          occupation  \\\n",
       "0          State-gov   Bachelors        Never-married        Adm-clerical   \n",
       "1   Self-emp-not-inc   Bachelors   Married-civ-spouse     Exec-managerial   \n",
       "2            Private     HS-grad             Divorced   Handlers-cleaners   \n",
       "\n",
       "     relationship    race    sex  native_country   label  \n",
       "0   Not-in-family   White   Male   United-States   <=50K  \n",
       "1         Husband   White   Male   United-States   <=50K  \n",
       "2   Not-in-family   White   Male   United-States   <=50K  "
      ]
     },
     "execution_count": 8,
     "metadata": {},
     "output_type": "execute_result"
    }
   ],
   "source": [
    "data_cat = data_cat.drop('age', axis=1).drop('fnlwgt', axis=1).drop('education_num', axis=1).drop('capital_gain', axis=1)\\\n",
    "    .drop('capital_loss', axis=1).drop('hours_per_week', axis=1)\n",
    "\n",
    "data_cat.head(3)"
   ]
  },
  {
   "cell_type": "markdown",
   "id": "2548b031",
   "metadata": {},
   "source": [
    "Transform workclass, education, marital_status, occupation, relationship, race, sex and native_country into label encoded features:"
   ]
  },
  {
   "cell_type": "code",
   "execution_count": 9,
   "id": "f81470d8",
   "metadata": {
    "execution": {
     "iopub.execute_input": "2021-07-24T16:20:13.728729Z",
     "iopub.status.busy": "2021-07-24T16:20:13.712017Z",
     "iopub.status.idle": "2021-07-24T16:20:13.772710Z",
     "shell.execute_reply": "2021-07-24T16:20:13.771678Z"
    }
   },
   "outputs": [
    {
     "data": {
      "text/html": [
       "<div>\n",
       "<style scoped>\n",
       "    .dataframe tbody tr th:only-of-type {\n",
       "        vertical-align: middle;\n",
       "    }\n",
       "\n",
       "    .dataframe tbody tr th {\n",
       "        vertical-align: top;\n",
       "    }\n",
       "\n",
       "    .dataframe thead th {\n",
       "        text-align: right;\n",
       "    }\n",
       "</style>\n",
       "<table border=\"1\" class=\"dataframe\">\n",
       "  <thead>\n",
       "    <tr style=\"text-align: right;\">\n",
       "      <th></th>\n",
       "      <th>sex</th>\n",
       "      <th>label</th>\n",
       "      <th>workclass_encoded</th>\n",
       "      <th>education_encoded</th>\n",
       "      <th>marital_status_encoded</th>\n",
       "      <th>occupation_encoded</th>\n",
       "      <th>relationship_encoded</th>\n",
       "      <th>race_encoded</th>\n",
       "      <th>native_country_encoded</th>\n",
       "    </tr>\n",
       "  </thead>\n",
       "  <tbody>\n",
       "    <tr>\n",
       "      <th>0</th>\n",
       "      <td>Male</td>\n",
       "      <td>&lt;=50K</td>\n",
       "      <td>6</td>\n",
       "      <td>9</td>\n",
       "      <td>4</td>\n",
       "      <td>1</td>\n",
       "      <td>1</td>\n",
       "      <td>4</td>\n",
       "      <td>38</td>\n",
       "    </tr>\n",
       "    <tr>\n",
       "      <th>1</th>\n",
       "      <td>Male</td>\n",
       "      <td>&lt;=50K</td>\n",
       "      <td>5</td>\n",
       "      <td>9</td>\n",
       "      <td>2</td>\n",
       "      <td>4</td>\n",
       "      <td>0</td>\n",
       "      <td>4</td>\n",
       "      <td>38</td>\n",
       "    </tr>\n",
       "    <tr>\n",
       "      <th>2</th>\n",
       "      <td>Male</td>\n",
       "      <td>&lt;=50K</td>\n",
       "      <td>3</td>\n",
       "      <td>11</td>\n",
       "      <td>0</td>\n",
       "      <td>6</td>\n",
       "      <td>1</td>\n",
       "      <td>4</td>\n",
       "      <td>38</td>\n",
       "    </tr>\n",
       "  </tbody>\n",
       "</table>\n",
       "</div>"
      ],
      "text/plain": [
       "     sex   label  workclass_encoded  education_encoded  \\\n",
       "0   Male   <=50K                  6                  9   \n",
       "1   Male   <=50K                  5                  9   \n",
       "2   Male   <=50K                  3                 11   \n",
       "\n",
       "   marital_status_encoded  occupation_encoded  relationship_encoded  \\\n",
       "0                       4                   1                     1   \n",
       "1                       2                   4                     0   \n",
       "2                       0                   6                     1   \n",
       "\n",
       "   race_encoded  native_country_encoded  \n",
       "0             4                      38  \n",
       "1             4                      38  \n",
       "2             4                      38  "
      ]
     },
     "execution_count": 9,
     "metadata": {},
     "output_type": "execute_result"
    }
   ],
   "source": [
    "data_cat['workclass_encoded'] = LabelEncoder().fit_transform(data_cat['workclass'])\n",
    "data_cat['education_encoded'] = LabelEncoder().fit_transform(data_cat['education'])\n",
    "data_cat['marital_status_encoded'] = LabelEncoder().fit_transform(data_cat['marital_status'])\n",
    "data_cat['occupation_encoded'] = LabelEncoder().fit_transform(data_cat['occupation'])\n",
    "data_cat['relationship_encoded'] = LabelEncoder().fit_transform(data_cat['relationship'])\n",
    "data_cat['race_encoded'] = LabelEncoder().fit_transform(data_cat['race'])\n",
    "data_cat['native_country_encoded'] = LabelEncoder().fit_transform(data_cat['native_country'])\n",
    "\n",
    "data_cat = data_cat.drop('workclass', axis=1).drop('education', axis=1).drop('marital_status', axis=1)\\\n",
    "    .drop('occupation', axis=1).drop('relationship', axis=1).drop('race', axis=1).drop('native_country', axis=1)\n",
    "\n",
    "data_cat.head(3)"
   ]
  },
  {
   "cell_type": "markdown",
   "id": "1578d642",
   "metadata": {},
   "source": [
    "Transform label and sex into binary encoding:"
   ]
  },
  {
   "cell_type": "code",
   "execution_count": 10,
   "id": "481afa84",
   "metadata": {
    "execution": {
     "iopub.execute_input": "2021-07-24T16:20:13.785153Z",
     "iopub.status.busy": "2021-07-24T16:20:13.781958Z",
     "iopub.status.idle": "2021-07-24T16:20:13.800739Z",
     "shell.execute_reply": "2021-07-24T16:20:13.799852Z"
    }
   },
   "outputs": [
    {
     "data": {
      "text/html": [
       "<div>\n",
       "<style scoped>\n",
       "    .dataframe tbody tr th:only-of-type {\n",
       "        vertical-align: middle;\n",
       "    }\n",
       "\n",
       "    .dataframe tbody tr th {\n",
       "        vertical-align: top;\n",
       "    }\n",
       "\n",
       "    .dataframe thead th {\n",
       "        text-align: right;\n",
       "    }\n",
       "</style>\n",
       "<table border=\"1\" class=\"dataframe\">\n",
       "  <thead>\n",
       "    <tr style=\"text-align: right;\">\n",
       "      <th></th>\n",
       "      <th>workclass_encoded</th>\n",
       "      <th>education_encoded</th>\n",
       "      <th>marital_status_encoded</th>\n",
       "      <th>occupation_encoded</th>\n",
       "      <th>relationship_encoded</th>\n",
       "      <th>race_encoded</th>\n",
       "      <th>native_country_encoded</th>\n",
       "      <th>female</th>\n",
       "      <th>&gt;50K</th>\n",
       "    </tr>\n",
       "  </thead>\n",
       "  <tbody>\n",
       "    <tr>\n",
       "      <th>0</th>\n",
       "      <td>6</td>\n",
       "      <td>9</td>\n",
       "      <td>4</td>\n",
       "      <td>1</td>\n",
       "      <td>1</td>\n",
       "      <td>4</td>\n",
       "      <td>38</td>\n",
       "      <td>0</td>\n",
       "      <td>0</td>\n",
       "    </tr>\n",
       "    <tr>\n",
       "      <th>1</th>\n",
       "      <td>5</td>\n",
       "      <td>9</td>\n",
       "      <td>2</td>\n",
       "      <td>4</td>\n",
       "      <td>0</td>\n",
       "      <td>4</td>\n",
       "      <td>38</td>\n",
       "      <td>0</td>\n",
       "      <td>0</td>\n",
       "    </tr>\n",
       "    <tr>\n",
       "      <th>2</th>\n",
       "      <td>3</td>\n",
       "      <td>11</td>\n",
       "      <td>0</td>\n",
       "      <td>6</td>\n",
       "      <td>1</td>\n",
       "      <td>4</td>\n",
       "      <td>38</td>\n",
       "      <td>0</td>\n",
       "      <td>0</td>\n",
       "    </tr>\n",
       "  </tbody>\n",
       "</table>\n",
       "</div>"
      ],
      "text/plain": [
       "   workclass_encoded  education_encoded  marital_status_encoded  \\\n",
       "0                  6                  9                       4   \n",
       "1                  5                  9                       2   \n",
       "2                  3                 11                       0   \n",
       "\n",
       "   occupation_encoded  relationship_encoded  race_encoded  \\\n",
       "0                   1                     1             4   \n",
       "1                   4                     0             4   \n",
       "2                   6                     1             4   \n",
       "\n",
       "   native_country_encoded  female  >50K  \n",
       "0                      38       0     0  \n",
       "1                      38       0     0  \n",
       "2                      38       0     0  "
      ]
     },
     "execution_count": 10,
     "metadata": {},
     "output_type": "execute_result"
    }
   ],
   "source": [
    "data_cat['female'] = data_cat['sex'].map( {' Male': 0, ' Female': 1} )\n",
    "data_cat['>50K'] = data_cat['label'].map( {' <=50K': 0, ' >50K': 1} )\n",
    "\n",
    "data_cat = data_cat.drop('sex', axis=1).drop('label', axis=1)\n",
    "\n",
    "data_cat.head(3)"
   ]
  },
  {
   "cell_type": "code",
   "execution_count": 24,
   "id": "685bc419",
   "metadata": {
    "execution": {
     "iopub.execute_input": "2021-07-24T16:20:13.807895Z",
     "iopub.status.busy": "2021-07-24T16:20:13.806868Z",
     "iopub.status.idle": "2021-07-24T16:20:13.816532Z",
     "shell.execute_reply": "2021-07-24T16:20:13.815583Z"
    }
   },
   "outputs": [],
   "source": [
    "data_cat = data_cat.drop_duplicates()"
   ]
  },
  {
   "cell_type": "markdown",
   "id": "07c3550d",
   "metadata": {},
   "source": [
    "Now all variations of the training data extraction experiment will be executed for the second dataset."
   ]
  },
  {
   "cell_type": "code",
   "execution_count": 25,
   "id": "0756a23d",
   "metadata": {
    "execution": {
     "iopub.execute_input": "2021-07-24T16:20:13.826743Z",
     "iopub.status.busy": "2021-07-24T16:20:13.825659Z",
     "iopub.status.idle": "2021-07-24T16:20:13.829976Z",
     "shell.execute_reply": "2021-07-24T16:20:13.828925Z"
    },
    "scrolled": false
   },
   "outputs": [],
   "source": [
    "features_cat = data_cat.drop('>50K', axis=1)\n",
    "labels_cat = data_cat['>50K']\n",
    "\n",
    "data_cat_100 = data_cat.sample(n = 100, random_state=13)\n",
    "features_cat_100 = data_cat_100.drop('>50K', axis=1)\n",
    "labels_cat_100 = data_cat_100['>50K'] "
   ]
  },
  {
   "cell_type": "code",
   "execution_count": 26,
   "id": "429e4cd2",
   "metadata": {
    "execution": {
     "iopub.execute_input": "2021-07-24T16:20:13.839870Z",
     "iopub.status.busy": "2021-07-24T16:20:13.838780Z",
     "iopub.status.idle": "2021-07-24T16:21:00.625668Z",
     "shell.execute_reply": "2021-07-24T16:21:00.624719Z"
    }
   },
   "outputs": [
    {
     "name": "stdout",
     "output_type": "stream",
     "text": [
      "features: categorical, training samples: all, model: decision tree.\n",
      "Likelihood of the sample being inside the found candidates: 0.25\n",
      "Likelihood of finding exactly one candidate that is the sample in question: 0.02\n",
      "--- 46.78488779067993 seconds ---\n"
     ]
    }
   ],
   "source": [
    "print(\"features: categorical, training samples: all, model: decision tree.\")\n",
    "\n",
    "start_time = time.time()\n",
    "\n",
    "accuracy_relaxed, accuracy = experiment(features_cat, labels_cat, number_of_extractions=N, random_state=1,\\\n",
    "                                      clf=DecisionTreeClassifier(random_state=0))\n",
    "\n",
    "results.loc[len(results.index)] = ['categorical', 'all', 'decision tree', accuracy_relaxed, accuracy]\n",
    "\n",
    "print(\"--- %s seconds ---\" % (time.time() - start_time))"
   ]
  },
  {
   "cell_type": "code",
   "execution_count": 27,
   "id": "2bdf3527",
   "metadata": {
    "execution": {
     "iopub.execute_input": "2021-07-24T16:21:00.636568Z",
     "iopub.status.busy": "2021-07-24T16:21:00.635540Z",
     "iopub.status.idle": "2021-07-24T16:35:11.909380Z",
     "shell.execute_reply": "2021-07-24T16:35:11.908443Z"
    }
   },
   "outputs": [
    {
     "name": "stdout",
     "output_type": "stream",
     "text": [
      "features: categorical, training samples: all, model: random forest.\n",
      "Likelihood of the sample being inside the found candidates: 0.99\n",
      "Likelihood of finding exactly one candidate that is the sample in question: 0.92\n",
      "--- 851.2708022594452 seconds ---\n"
     ]
    }
   ],
   "source": [
    "print(\"features: categorical, training samples: all, model: random forest.\")\n",
    "\n",
    "start_time = time.time()\n",
    "\n",
    "accuracy_relaxed, accuracy = experiment(features_cat, labels_cat, number_of_extractions=N, random_state=1,\\\n",
    "                                      clf=es.RandomForestClassifier(random_state=0))\n",
    "\n",
    "results.loc[len(results.index)] = ['categorical', 'all', 'random forest', accuracy_relaxed, accuracy]\n",
    "\n",
    "print(\"--- %s seconds ---\" % (time.time() - start_time))"
   ]
  },
  {
   "cell_type": "code",
   "execution_count": 28,
   "id": "2336b83d",
   "metadata": {
    "execution": {
     "iopub.execute_input": "2021-07-24T16:35:11.920388Z",
     "iopub.status.busy": "2021-07-24T16:35:11.919432Z",
     "iopub.status.idle": "2021-07-24T16:36:24.230925Z",
     "shell.execute_reply": "2021-07-24T16:36:24.229752Z"
    }
   },
   "outputs": [
    {
     "name": "stdout",
     "output_type": "stream",
     "text": [
      "features: categorical, training samples: 100, model: decision tree.\n",
      "Likelihood of the sample being inside the found candidates: 0.13\n",
      "Likelihood of finding exactly one candidate that is the sample in question: 0.0\n",
      "--- 72.30913805961609 seconds ---\n"
     ]
    }
   ],
   "source": [
    "print(\"features: categorical, training samples: 100, model: decision tree.\")\n",
    "\n",
    "start_time = time.time()\n",
    "\n",
    "accuracy_relaxed, accuracy = experiment(features_cat_100, labels_cat_100, number_of_extractions=N, random_state=1,\\\n",
    "                                      clf=DecisionTreeClassifier(random_state=0))\n",
    "\n",
    "results.loc[len(results.index)] = ['categorical', '100', 'decision tree', accuracy_relaxed, accuracy]\n",
    "\n",
    "print(\"--- %s seconds ---\" % (time.time() - start_time))"
   ]
  },
  {
   "cell_type": "code",
   "execution_count": 29,
   "id": "9fcb23f9",
   "metadata": {
    "execution": {
     "iopub.execute_input": "2021-07-24T16:36:24.262858Z",
     "iopub.status.busy": "2021-07-24T16:36:24.251047Z",
     "iopub.status.idle": "2021-07-24T16:36:50.851586Z",
     "shell.execute_reply": "2021-07-24T16:36:50.850525Z"
    }
   },
   "outputs": [
    {
     "name": "stdout",
     "output_type": "stream",
     "text": [
      "features: categorical, training samples: 100, model: random forest.\n",
      "Likelihood of the sample being inside the found candidates: 1.0\n",
      "Likelihood of finding exactly one candidate that is the sample in question: 0.71\n",
      "--- 26.60749125480652 seconds ---\n"
     ]
    }
   ],
   "source": [
    "print(\"features: categorical, training samples: 100, model: random forest.\")\n",
    "\n",
    "start_time = time.time()\n",
    "\n",
    "accuracy_relaxed, accuracy = experiment(features_cat_100, labels_cat_100, number_of_extractions=N, random_state=1,\\\n",
    "                                      clf=es.RandomForestClassifier(random_state=0))\n",
    "\n",
    "results.loc[len(results.index)] = ['categorical', '100', 'random forest', accuracy_relaxed, accuracy]\n",
    "\n",
    "print(\"--- %s seconds ---\" % (time.time() - start_time))"
   ]
  },
  {
   "cell_type": "markdown",
   "id": "771e68de",
   "metadata": {},
   "source": [
    "# Results\n",
    "\n",
    "The results of all variations of the training data extraction experiment with ICE. In each experiment, samples and their indices were picked randomly from the training data. Each index along with the ICE explanation was given to the training data extraction function which returns a list of possible sample candidates for that index.\n",
    "\n",
    "\"Accuracy relaxed\" measures the percentage of sample indices for which it was possible to extract the original sample. The orginal sample must be contained in the list of sample candidates. It is possible that other sample candidates are found which do not correspond to the original sample.\n",
    "\n",
    "\"Accuracy\" measures the percentage of indices for which it was possible to extract the original sample without ambiguities. The original sample must be the only element in the list of sample candidates."
   ]
  },
  {
   "cell_type": "code",
   "execution_count": 30,
   "id": "1efac983",
   "metadata": {
    "execution": {
     "iopub.execute_input": "2021-07-24T16:36:50.865756Z",
     "iopub.status.busy": "2021-07-24T16:36:50.864700Z",
     "iopub.status.idle": "2021-07-24T16:36:50.870435Z",
     "shell.execute_reply": "2021-07-24T16:36:50.869580Z"
    }
   },
   "outputs": [
    {
     "data": {
      "text/html": [
       "<div>\n",
       "<style scoped>\n",
       "    .dataframe tbody tr th:only-of-type {\n",
       "        vertical-align: middle;\n",
       "    }\n",
       "\n",
       "    .dataframe tbody tr th {\n",
       "        vertical-align: top;\n",
       "    }\n",
       "\n",
       "    .dataframe thead th {\n",
       "        text-align: right;\n",
       "    }\n",
       "</style>\n",
       "<table border=\"1\" class=\"dataframe\">\n",
       "  <thead>\n",
       "    <tr style=\"text-align: right;\">\n",
       "      <th></th>\n",
       "      <th>dataset</th>\n",
       "      <th>training_samples</th>\n",
       "      <th>model</th>\n",
       "      <th>accuracy_relaxed</th>\n",
       "      <th>accuracy</th>\n",
       "    </tr>\n",
       "  </thead>\n",
       "  <tbody>\n",
       "    <tr>\n",
       "      <th>0</th>\n",
       "      <td>continuous</td>\n",
       "      <td>all</td>\n",
       "      <td>decision tree</td>\n",
       "      <td>0.00</td>\n",
       "      <td>0.00</td>\n",
       "    </tr>\n",
       "    <tr>\n",
       "      <th>1</th>\n",
       "      <td>continuous</td>\n",
       "      <td>all</td>\n",
       "      <td>random forest</td>\n",
       "      <td>0.23</td>\n",
       "      <td>0.11</td>\n",
       "    </tr>\n",
       "    <tr>\n",
       "      <th>2</th>\n",
       "      <td>continuous</td>\n",
       "      <td>100</td>\n",
       "      <td>decision tree</td>\n",
       "      <td>0.00</td>\n",
       "      <td>0.00</td>\n",
       "    </tr>\n",
       "    <tr>\n",
       "      <th>3</th>\n",
       "      <td>continuous</td>\n",
       "      <td>100</td>\n",
       "      <td>random forest</td>\n",
       "      <td>0.50</td>\n",
       "      <td>0.08</td>\n",
       "    </tr>\n",
       "    <tr>\n",
       "      <th>4</th>\n",
       "      <td>categorical</td>\n",
       "      <td>all</td>\n",
       "      <td>decision tree</td>\n",
       "      <td>0.25</td>\n",
       "      <td>0.02</td>\n",
       "    </tr>\n",
       "    <tr>\n",
       "      <th>5</th>\n",
       "      <td>categorical</td>\n",
       "      <td>all</td>\n",
       "      <td>random forest</td>\n",
       "      <td>0.99</td>\n",
       "      <td>0.92</td>\n",
       "    </tr>\n",
       "    <tr>\n",
       "      <th>6</th>\n",
       "      <td>categorical</td>\n",
       "      <td>100</td>\n",
       "      <td>decision tree</td>\n",
       "      <td>0.13</td>\n",
       "      <td>0.00</td>\n",
       "    </tr>\n",
       "    <tr>\n",
       "      <th>7</th>\n",
       "      <td>categorical</td>\n",
       "      <td>100</td>\n",
       "      <td>random forest</td>\n",
       "      <td>1.00</td>\n",
       "      <td>0.71</td>\n",
       "    </tr>\n",
       "  </tbody>\n",
       "</table>\n",
       "</div>"
      ],
      "text/plain": [
       "       dataset training_samples          model  accuracy_relaxed  accuracy\n",
       "0   continuous              all  decision tree              0.00      0.00\n",
       "1   continuous              all  random forest              0.23      0.11\n",
       "2   continuous              100  decision tree              0.00      0.00\n",
       "3   continuous              100  random forest              0.50      0.08\n",
       "4  categorical              all  decision tree              0.25      0.02\n",
       "5  categorical              all  random forest              0.99      0.92\n",
       "6  categorical              100  decision tree              0.13      0.00\n",
       "7  categorical              100  random forest              1.00      0.71"
      ]
     },
     "execution_count": 30,
     "metadata": {},
     "output_type": "execute_result"
    }
   ],
   "source": [
    "results"
   ]
  },
  {
   "cell_type": "code",
   "execution_count": null,
   "id": "52dd63d4",
   "metadata": {},
   "outputs": [],
   "source": []
  }
 ],
 "metadata": {
  "kernelspec": {
   "display_name": "Python 3 (ipykernel)",
   "language": "python",
   "name": "python3"
  },
  "language_info": {
   "codemirror_mode": {
    "name": "ipython",
    "version": 3
   },
   "file_extension": ".py",
   "mimetype": "text/x-python",
   "name": "python",
   "nbconvert_exporter": "python",
   "pygments_lexer": "ipython3",
   "version": "3.9.5"
  }
 },
 "nbformat": 4,
 "nbformat_minor": 5
}
