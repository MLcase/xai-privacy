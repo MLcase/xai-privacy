{
 "cells": [
  {
   "cell_type": "markdown",
   "id": "75916e17",
   "metadata": {},
   "source": [
    "# ICE Membership Inference Experiments"
   ]
  },
  {
   "cell_type": "code",
   "execution_count": 1,
   "id": "f6661d3f",
   "metadata": {},
   "outputs": [],
   "source": [
    "import pandas as pd\n",
    "import sklearn.ensemble as es\n",
    "from sklearn.tree import DecisionTreeClassifier\n",
    "from sklearn.model_selection import train_test_split\n",
    "import matplotlib.pyplot as plt\n",
    "from sklearn.inspection import partial_dependence\n",
    "from sklearn.inspection import plot_partial_dependence\n",
    "import numpy as np\n",
    "import random\n",
    "import logging\n",
    "import sys\n",
    "import time\n",
    "import multiprocessing\n",
    "\n",
    "threads = 4"
   ]
  },
  {
   "cell_type": "markdown",
   "id": "c6a61bbc",
   "metadata": {},
   "source": [
    "This notebook will go through the experiment for membership inference with individual conditional expectation (ICE). Membership inference means an attacker with access to the explanation can tell with high confidence for any sample whether it was included in the training data or not.\n",
    "\n",
    "The idea for ICE membership inference is as follows: The attacker can recreate the ICE lines for any sample and check whether they occur in the given explanation. If they do, there is a high chance that the sample was used in the training data (which was also used to create the ICE explanation). Otherwise the sample was not included in the training data.\n",
    "\n",
    "First, we define two functions that will help us run the experiment later.\n",
    "\n",
    "The first function can execute membership inference for ICE explanations. It takes an array of samples, a list of ICE explanations (for different features) and the prediction function of the machine learning model and returns true or false for each sample. True if it guesses the sample is part of the training data, false otherwise."
   ]
  },
  {
   "cell_type": "code",
   "execution_count": 109,
   "id": "037ef4f9",
   "metadata": {},
   "outputs": [],
   "source": [
    "# samples: numpy array with feature values of samples\n",
    "# ice_features: list of ice explanations (one for each feature)\n",
    "# pred_func: prediction function by model. Takes an array of samples and returns array of predictions.\n",
    "# class_num: index for output of pred_func: class to consider for ice explanation\n",
    "# returns: true if sample appears to be part of training data, false otherwise\n",
    "def membership_inference_ice_parallel(samples, ice_features, pred_func, class_num):\n",
    "    \n",
    "    # Recreate ice lines for all given features for the samples.\n",
    "    \n",
    "    results = np.empty(samples.shape[0])\n",
    "\n",
    "    for i in range(samples.shape[0]):\n",
    "    \n",
    "        sample = samples[i]\n",
    "    \n",
    "        for num, ice in enumerate(ice_features):\n",
    "\n",
    "            # Get the grid for this feature. These are the points at which we will get predictions from the model.\n",
    "            feature_values = ice['values'][0]\n",
    "\n",
    "            # Create array that contains the sample as many times as there are different grid points for this feature.\n",
    "            changed_samples = np.tile(sample, (feature_values.shape[0], 1))\n",
    "\n",
    "            # Change each copied samples feature in question to a point from the grid.\n",
    "            changed_samples[:, num] = feature_values\n",
    "\n",
    "            # Get the predictions for these changed samples.\n",
    "            preds = pred_func(changed_samples)[:, class_num]\n",
    "\n",
    "            # First, create array with boolean values whether the recreated predictions and the actual ICE predictions match.\n",
    "            # Then check if there is any row where all elements are true. \n",
    "            # That means there is at least one ICE line with identical predictions.\n",
    "            res = (preds == ice['individual'][0]).all(1).any()\n",
    "\n",
    "            # If there is no identical ICE line for this feature, the sample can't be part of the training data.\n",
    "            # Break out of loop. res is false and will be appended to the list of results.\n",
    "            if res == False:\n",
    "                break;\n",
    "\n",
    "        logging.debug(\"%s membership inference: %s\" % (sample, res))\n",
    "                \n",
    "        # This appends the last res to the results list. If a matching line for every feature was found, this is true \n",
    "        # (sample is in training data). Otherwise the last res will be false (sample is not in training data)\n",
    "        results[i] = res\n",
    "        \n",
    "    return results"
   ]
  },
  {
   "cell_type": "markdown",
   "id": "2b4dd301",
   "metadata": {},
   "source": [
    "Next, we will define a function that executes the entire experiment. It takes the features and the labels as panda dataframes and the number of features for which ice should be calculated. The data is split in two halves. One is used as training data, the other as control data for the experiment. After training a random forest on the training data, ICE graphs are created for the specified features. Samples are randomly drawn from either the training data or the control data. Then the membership_inference function is called on the sample and its result is catalogued based on whether the membership was inferred correctly or not. Finally, the result of the experiment is printed out with the overall accuracy of membership inference and the sensitivity and specificity."
   ]
  },
  {
   "cell_type": "code",
   "execution_count": 149,
   "id": "2ecfc88a",
   "metadata": {},
   "outputs": [],
   "source": [
    "# features: pandas dataframe of the features of the data\n",
    "# labels: pandas dataframe of the labels of the data corresponding to the features\n",
    "# num_of_ice_features: number of ICE graphs that are supplied to the attacker\n",
    "# repetitions: number of times the experiment is repeated\n",
    "# random_state: seed for random decisions\n",
    "# clf: machine learning classifier that will be trained on the features and labels\n",
    "def experiment(features, labels, num_of_ice_features, repetitions=30, random_state=17,\\\n",
    "               clf=es.RandomForestClassifier(random_state=17)):\n",
    "    \n",
    "    rs = np.random.RandomState(seed=random_state)\n",
    "    \n",
    "    # Split data into two halves.\n",
    "    idx_mid = int(features.shape[0] / 2)\n",
    "\n",
    "    x_ctrl = features.iloc[:idx_mid, :]\n",
    "    y_ctrl = labels.iloc[:idx_mid]\n",
    "\n",
    "    x_train = features.iloc[idx_mid:, :]\n",
    "    y_train = labels.iloc[idx_mid:]\n",
    "    \n",
    "    # Train classifier on training data.\n",
    "    clf = clf.fit(x_train, y_train)\n",
    "    \n",
    "    # Calculate ICE for the specified feature indexes\n",
    "    ice_features = []\n",
    "    \n",
    "    for i in range(num_of_ice_features):\n",
    "        ice_features.append(partial_dependence(estimator=clf, X=x_train, features=[i], percentiles=(0,1), \n",
    "                                         grid_resolution=20, kind='individual'))\n",
    "    \n",
    "    sample_membership = np.empty(repetitions)\n",
    "    \n",
    "    samples = np.empty((repetitions, features.shape[1]))\n",
    "    \n",
    "    for i in range(repetitions):\n",
    "        if i % 2 == 0:\n",
    "            # Choose sample from training data.\n",
    "            sample = x_train.sample(random_state=rs).to_numpy()[0]\n",
    "            sample_membership[i] = True\n",
    "            logging.debug('%s taken from training data' % sample)\n",
    "        else:\n",
    "            # Choose sample from control data.\n",
    "            sample = x_ctrl.sample(random_state=rs).to_numpy()[0]\n",
    "            sample_membership[i] = False\n",
    "            logging.debug('%s taken from control data' % sample)\n",
    "\n",
    "        samples[i] = sample\n",
    "        \n",
    "    samples_in_training_data = np.count_nonzero(sample_membership)\n",
    "    samples_not_in_training_data = repetitions - samples_in_training_data\n",
    "        \n",
    "    arg_list = []\n",
    "    \n",
    "    samples_per_thread = repetitions / threads\n",
    "    \n",
    "    for i in range(threads):\n",
    "        start_idx = int(i * samples_per_thread)\n",
    "        end_idx = int((i + 1) * samples_per_thread)\n",
    "        arg_list.append((samples[ start_idx : end_idx ], ice_features, clf.predict_proba, 1))\n",
    "    \n",
    "    logging.debug(\"Begin membership inference for selected samples:\")\n",
    "    \n",
    "    with multiprocessing.Pool(threads) as p:\n",
    "        results = p.starmap(membership_inference_ice_parallel, arg_list)\n",
    "        \n",
    "    results_np = np.concatenate(results)\n",
    "    \n",
    "    correct_predictions = np.count_nonzero(np.equal(results_np, sample_membership))\n",
    "    predict_in_training_data_correct = np.count_nonzero(results_np[sample_membership == True])\n",
    "    predict_not_in_training_data_correct = np.count_nonzero(results_np[sample_membership == False] == False)\n",
    "                \n",
    "    ratio_correct = correct_predictions / repetitions\n",
    "    ratio_correct_td = predict_in_training_data_correct / samples_in_training_data\n",
    "    ratio_correct_cd = predict_not_in_training_data_correct / samples_not_in_training_data\n",
    "        \n",
    "    print('Membership Inference Accuracy: %s, Sensitivity: %s, Specificity: %s'\\\n",
    "          % (ratio_correct, ratio_correct_td, ratio_correct_cd))\n",
    "    \n",
    "    return ratio_correct, ratio_correct_td, ratio_correct_cd"
   ]
  },
  {
   "cell_type": "markdown",
   "id": "d2ef61e5",
   "metadata": {},
   "source": [
    "# Dataset 1: Heart Disease (continuous)"
   ]
  },
  {
   "cell_type": "markdown",
   "id": "eec7e1e9",
   "metadata": {},
   "source": [
    "Load dataset one: heart disease"
   ]
  },
  {
   "cell_type": "code",
   "execution_count": 2,
   "id": "035f86f2",
   "metadata": {},
   "outputs": [],
   "source": [
    "filename = '../data/framingham.csv'\n",
    "\n",
    "names = ['sex', 'age', 'education', 'smoker', 'cigs_per_day', 'bp_meds', 'prevalent_stroke', 'prevelant_hyp', 'diabetes', \\\n",
    "         'total_chol', 'sys_bp', 'dia_bp', 'bmi', 'heart_rate', 'glucose', 'heart_disease_label']\n",
    "\n",
    "data = pd.read_csv(filename, names=names)"
   ]
  },
  {
   "cell_type": "markdown",
   "id": "fc59b38b",
   "metadata": {},
   "source": [
    "For this dataset we only look at numerical data so we drop the categorical columns. We also drop the column \"education\" for which there is no feature description on kaggle: https://www.kaggle.com/dileep070/heart-disease-prediction-using-logistic-regression"
   ]
  },
  {
   "cell_type": "code",
   "execution_count": 4,
   "id": "c74db71d",
   "metadata": {},
   "outputs": [
    {
     "data": {
      "text/html": [
       "<div>\n",
       "<style scoped>\n",
       "    .dataframe tbody tr th:only-of-type {\n",
       "        vertical-align: middle;\n",
       "    }\n",
       "\n",
       "    .dataframe tbody tr th {\n",
       "        vertical-align: top;\n",
       "    }\n",
       "\n",
       "    .dataframe thead th {\n",
       "        text-align: right;\n",
       "    }\n",
       "</style>\n",
       "<table border=\"1\" class=\"dataframe\">\n",
       "  <thead>\n",
       "    <tr style=\"text-align: right;\">\n",
       "      <th></th>\n",
       "      <th>age</th>\n",
       "      <th>cigs_per_day</th>\n",
       "      <th>total_chol</th>\n",
       "      <th>sys_bp</th>\n",
       "      <th>dia_bp</th>\n",
       "      <th>bmi</th>\n",
       "      <th>heart_rate</th>\n",
       "      <th>glucose</th>\n",
       "      <th>heart_disease_label</th>\n",
       "    </tr>\n",
       "  </thead>\n",
       "  <tbody>\n",
       "    <tr>\n",
       "      <th>0</th>\n",
       "      <td>39</td>\n",
       "      <td>0.0</td>\n",
       "      <td>195.0</td>\n",
       "      <td>106.0</td>\n",
       "      <td>70.0</td>\n",
       "      <td>26.97</td>\n",
       "      <td>80.0</td>\n",
       "      <td>77.0</td>\n",
       "      <td>0</td>\n",
       "    </tr>\n",
       "    <tr>\n",
       "      <th>1</th>\n",
       "      <td>46</td>\n",
       "      <td>0.0</td>\n",
       "      <td>250.0</td>\n",
       "      <td>121.0</td>\n",
       "      <td>81.0</td>\n",
       "      <td>28.73</td>\n",
       "      <td>95.0</td>\n",
       "      <td>76.0</td>\n",
       "      <td>0</td>\n",
       "    </tr>\n",
       "    <tr>\n",
       "      <th>2</th>\n",
       "      <td>48</td>\n",
       "      <td>20.0</td>\n",
       "      <td>245.0</td>\n",
       "      <td>127.5</td>\n",
       "      <td>80.0</td>\n",
       "      <td>25.34</td>\n",
       "      <td>75.0</td>\n",
       "      <td>70.0</td>\n",
       "      <td>0</td>\n",
       "    </tr>\n",
       "    <tr>\n",
       "      <th>3</th>\n",
       "      <td>61</td>\n",
       "      <td>30.0</td>\n",
       "      <td>225.0</td>\n",
       "      <td>150.0</td>\n",
       "      <td>95.0</td>\n",
       "      <td>28.58</td>\n",
       "      <td>65.0</td>\n",
       "      <td>103.0</td>\n",
       "      <td>1</td>\n",
       "    </tr>\n",
       "    <tr>\n",
       "      <th>4</th>\n",
       "      <td>46</td>\n",
       "      <td>23.0</td>\n",
       "      <td>285.0</td>\n",
       "      <td>130.0</td>\n",
       "      <td>84.0</td>\n",
       "      <td>23.10</td>\n",
       "      <td>85.0</td>\n",
       "      <td>85.0</td>\n",
       "      <td>0</td>\n",
       "    </tr>\n",
       "  </tbody>\n",
       "</table>\n",
       "</div>"
      ],
      "text/plain": [
       "   age  cigs_per_day  total_chol  sys_bp  dia_bp    bmi  heart_rate  glucose  \\\n",
       "0   39           0.0       195.0   106.0    70.0  26.97        80.0     77.0   \n",
       "1   46           0.0       250.0   121.0    81.0  28.73        95.0     76.0   \n",
       "2   48          20.0       245.0   127.5    80.0  25.34        75.0     70.0   \n",
       "3   61          30.0       225.0   150.0    95.0  28.58        65.0    103.0   \n",
       "4   46          23.0       285.0   130.0    84.0  23.10        85.0     85.0   \n",
       "\n",
       "   heart_disease_label  \n",
       "0                    0  \n",
       "1                    0  \n",
       "2                    0  \n",
       "3                    1  \n",
       "4                    0  "
      ]
     },
     "execution_count": 4,
     "metadata": {},
     "output_type": "execute_result"
    }
   ],
   "source": [
    "data_num = data.drop('sex', axis=1).drop('smoker', axis=1).drop('bp_meds', axis=1).drop('prevalent_stroke', axis=1)\\\n",
    "    .drop('prevelant_hyp', axis=1).drop('diabetes', axis=1).drop('education', axis=1)\n",
    "\n",
    "data_num.head(5)"
   ]
  },
  {
   "cell_type": "markdown",
   "id": "5added0a",
   "metadata": {},
   "source": [
    "Remove any rows that are missing data. Afterwards there should be no more entries with NaN values. We also drop any duplicate rows."
   ]
  },
  {
   "cell_type": "code",
   "execution_count": 113,
   "id": "81a93713",
   "metadata": {},
   "outputs": [
    {
     "data": {
      "text/plain": [
       "age                    0\n",
       "cigs_per_day           0\n",
       "total_chol             0\n",
       "sys_bp                 0\n",
       "dia_bp                 0\n",
       "bmi                    0\n",
       "heart_rate             0\n",
       "glucose                0\n",
       "heart_disease_label    0\n",
       "dtype: int64"
      ]
     },
     "execution_count": 113,
     "metadata": {},
     "output_type": "execute_result"
    }
   ],
   "source": [
    "data_num = data_num.dropna()\n",
    "data_num = data_num.drop_duplicates()\n",
    "\n",
    "data_num.isnull().sum()"
   ]
  },
  {
   "cell_type": "markdown",
   "id": "62c0e71c",
   "metadata": {},
   "source": [
    "For the experiments, we split the data into features and labels. We also create features and labels for only the first 100 training samples."
   ]
  },
  {
   "cell_type": "code",
   "execution_count": 114,
   "id": "d8caf03e",
   "metadata": {},
   "outputs": [],
   "source": [
    "features = data_num.drop('heart_disease_label', axis=1)\n",
    "labels = data_num['heart_disease_label']\n",
    "\n",
    "# We need to select 200 samples because only half the data will be used as training data. \n",
    "# 200 total samples results in 100 training samples\n",
    "data_num_200 = data_num.sample(n = 200, random_state=13)\n",
    "features_200 = data_num_200.drop('heart_disease_label', axis=1)\n",
    "labels_200 = data_num_200['heart_disease_label']"
   ]
  },
  {
   "cell_type": "markdown",
   "id": "bdb2e40d",
   "metadata": {},
   "source": [
    "Before running the experiment, we we will have a short look at the visual explanation of ICE. The underlying data of these graphs will be our attack vector for membership inference.\n",
    "\n",
    "The dark blue lines represent the average change in predictions for a change in the specified feature. The light blue lines are the change in prediction for single samples from the training data. These are the ICE lines for individual samples from the training data."
   ]
  },
  {
   "cell_type": "code",
   "execution_count": 96,
   "id": "64c4cf59",
   "metadata": {},
   "outputs": [
    {
     "data": {
      "image/png": "[encoded data removed]",
      "text/plain": [
       "<Figure size 1008x1008 with 9 Axes>"
      ]
     },
     "metadata": {
      "needs_background": "light"
     },
     "output_type": "display_data"
    }
   ],
   "source": [
    "# Train a random forest classifier on training data.\n",
    "clf = es.RandomForestClassifier(random_state=0)\n",
    "clf = clf.fit(features, labels)\n",
    "\n",
    "feature_names = ['age', 'cigs_per_day', 'total_chol', 'sys_bp', 'dia_bp', 'bmi', 'heart_rate', 'glucose']\n",
    "\n",
    "fig, ax = plt.subplots(figsize=(14, 14))\n",
    "\n",
    "display = plot_partial_dependence(\n",
    "       clf, features, feature_names, kind=\"both\", subsample=10,\n",
    "       n_jobs=3, grid_resolution=20, random_state=0, percentiles = (0.05, 0.95), ax=ax\n",
    ")"
   ]
  },
  {
   "cell_type": "markdown",
   "id": "883edb84",
   "metadata": {},
   "source": [
    "As a proof of concept for our privacy attack, we run the experiment with a very small amount of repetitions with logging to show that the membership inference function works in principle."
   ]
  },
  {
   "cell_type": "code",
   "execution_count": 145,
   "id": "813b7a63",
   "metadata": {
    "scrolled": false
   },
   "outputs": [
    {
     "name": "stderr",
     "output_type": "stream",
     "text": [
      "DEBUG:root:[ 54.     3.   173.   121.    79.    26.21  75.    68.  ] taken from training data\n",
      "DEBUG:root:[ 60.    20.   285.   131.5   82.    27.87  60.   103.  ] taken from control data\n",
      "DEBUG:root:[ 63.     0.   306.   195.   105.    27.96  75.    87.  ] taken from training data\n",
      "DEBUG:root:[ 54.    30.   215.   117.5   70.5   26.77  60.    75.  ] taken from control data\n",
      "DEBUG:root:[ 48.     0.   237.   124.5   66.5   33.29  80.    91.  ] taken from training data\n",
      "DEBUG:root:[ 60.    0.  278.  160.5  96.   26.4  55.   75. ] taken from control data\n",
      "DEBUG:root:[ 40.    30.   162.   129.    76.5   24.12  70.    73.  ] taken from training data\n",
      "DEBUG:root:[ 44.     0.   190.   122.    81.    36.12  70.   143.  ] taken from control data\n",
      "DEBUG:root:Begin membership inference for selected samples:\n",
      "DEBUG:root:[ 54.     3.   173.   121.    79.    26.21  75.    68.  ] membership inference: True\n",
      "DEBUG:root:[ 60.    20.   285.   131.5   82.    27.87  60.   103.  ] membership inference: False\n",
      "DEBUG:root:[ 48.     0.   237.   124.5   66.5   33.29  80.    91.  ] membership inference: True\n",
      "DEBUG:root:[ 63.     0.   306.   195.   105.    27.96  75.    87.  ] membership inference: True\n",
      "DEBUG:root:[ 40.    30.   162.   129.    76.5   24.12  70.    73.  ] membership inference: True\n",
      "DEBUG:root:[ 54.    30.   215.   117.5   70.5   26.77  60.    75.  ] membership inference: False\n",
      "DEBUG:root:[ 44.     0.   190.   122.    81.    36.12  70.   143.  ] membership inference: False\n",
      "DEBUG:root:[ 60.    0.  278.  160.5  96.   26.4  55.   75. ] membership inference: False\n"
     ]
    },
    {
     "name": "stdout",
     "output_type": "stream",
     "text": [
      "Membership Inference Accuracy: 1.0, Sensitivity: 1.0, Specificity: 1.0\n"
     ]
    }
   ],
   "source": [
    "logging.root.setLevel(logging.DEBUG)\n",
    "\n",
    "experiment(features, labels, 1, repetitions=8, random_state=42)\n",
    "\n",
    "logging.root.setLevel(logging.INFO)"
   ]
  },
  {
   "cell_type": "markdown",
   "id": "3192b2eb",
   "metadata": {},
   "source": [
    "The proof of concept should show that the membership inference function predicts membership very accurately. You can change the random state to try out a few different runs with different tested samples."
   ]
  },
  {
   "cell_type": "markdown",
   "id": "4dcb3db0",
   "metadata": {},
   "source": [
    "Now we begin executing the actual experiment. We begin by defining the matrix that will hold the results for all our different experiment variations. Then we execute the first variation of the experiment for this dataset."
   ]
  },
  {
   "cell_type": "code",
   "execution_count": 150,
   "id": "2afeb15f",
   "metadata": {},
   "outputs": [],
   "source": [
    "results_ = {'dataset': [], 'ice_features': [], 'training_samples': [], 'model': [], \\\n",
    "            'accuracy': [], 'sensitivity': [], 'specificity': []}\n",
    "\n",
    "results = pd.DataFrame(data = results_)"
   ]
  },
  {
   "cell_type": "code",
   "execution_count": 151,
   "id": "2ced13c7",
   "metadata": {},
   "outputs": [
    {
     "name": "stdout",
     "output_type": "stream",
     "text": [
      "features: continuous, ICE plots: one, training samples: all, model: decision tree.\n",
      "Membership Inference Accuracy: 0.5, Sensitivity: 1.0, Specificity: 0.0\n",
      "--- 0.22829580307006836 seconds ---\n"
     ]
    }
   ],
   "source": [
    "print(\"features: continuous, ICE plots: one, training samples: all, model: decision tree.\")\n",
    "\n",
    "start_time = time.time()\n",
    "\n",
    "accuracy, sensitivity, specificity = experiment(features, labels, 1, repetitions=100, random_state=0,\\\n",
    "                                                clf=DecisionTreeClassifier(random_state=0))\n",
    "\n",
    "results.loc[len(results.index)] = ['continuous', '1', 'all', 'decision tree', accuracy, sensitivity, specificity]\n",
    "\n",
    "print(\"--- %s seconds ---\" % (time.time() - start_time))"
   ]
  },
  {
   "cell_type": "markdown",
   "id": "12447755",
   "metadata": {},
   "source": [
    "In the following cells, we vary the number of shown ICE explanations, the number of training samples and the model."
   ]
  },
  {
   "cell_type": "code",
   "execution_count": 152,
   "id": "10f5513d",
   "metadata": {},
   "outputs": [
    {
     "name": "stdout",
     "output_type": "stream",
     "text": [
      "features: continuous, ICE plots: one, training samples: all, model: random forest.\n",
      "Membership Inference Accuracy: 1.0, Sensitivity: 1.0, Specificity: 1.0\n",
      "--- 1.3817002773284912 seconds ---\n"
     ]
    }
   ],
   "source": [
    "print(\"features: continuous, ICE plots: one, training samples: all, model: random forest.\")\n",
    "\n",
    "start_time = time.time()\n",
    "\n",
    "accuracy, sensitivity, specificity = experiment(features, labels, 1, repetitions=100, random_state=0,\\\n",
    "                                                clf=es.RandomForestClassifier(random_state=0))\n",
    "\n",
    "results.loc[len(results.index)] = ['continuous', '1', 'all', 'random forest', accuracy, sensitivity, specificity]\n",
    "\n",
    "print(\"--- %s seconds ---\" % (time.time() - start_time))"
   ]
  },
  {
   "cell_type": "code",
   "execution_count": 153,
   "id": "a812b02e",
   "metadata": {},
   "outputs": [
    {
     "name": "stdout",
     "output_type": "stream",
     "text": [
      "features: continuous, ICE plots: one, training samples: 100, model: decision tree.\n",
      "Membership Inference Accuracy: 0.5, Sensitivity: 1.0, Specificity: 0.0\n",
      "--- 0.19377803802490234 seconds ---\n"
     ]
    }
   ],
   "source": [
    "print(\"features: continuous, ICE plots: one, training samples: 100, model: decision tree.\")\n",
    "\n",
    "start_time = time.time()\n",
    "\n",
    "accuracy, sensitivity, specificity = experiment(features_200, labels_200, 1, repetitions=100, random_state=0, \\\n",
    "                                                clf=DecisionTreeClassifier(random_state=0))\n",
    "\n",
    "results.loc[len(results.index)] = ['continuous', '1', '100', 'decision tree', accuracy, sensitivity, specificity]\n",
    "\n",
    "print(\"--- %s seconds ---\" % (time.time() - start_time))"
   ]
  },
  {
   "cell_type": "code",
   "execution_count": 154,
   "id": "3cf76642",
   "metadata": {},
   "outputs": [
    {
     "name": "stdout",
     "output_type": "stream",
     "text": [
      "features: continuous, ICE plots: one, training samples: 100, model: random forest.\n",
      "Membership Inference Accuracy: 1.0, Sensitivity: 1.0, Specificity: 1.0\n",
      "--- 0.7735249996185303 seconds ---\n"
     ]
    }
   ],
   "source": [
    "print(\"features: continuous, ICE plots: one, training samples: 100, model: random forest.\")\n",
    "\n",
    "start_time = time.time()\n",
    "\n",
    "accuracy, sensitivity, specificity = experiment(features_200, labels_200, 1, repetitions=100, random_state=0,\\\n",
    "                                                clf=es.RandomForestClassifier(random_state=0))\n",
    "\n",
    "results.loc[len(results.index)] = ['continuous', '1', '100', 'random forest', accuracy, sensitivity, specificity]\n",
    "\n",
    "print(\"--- %s seconds ---\" % (time.time() - start_time))"
   ]
  },
  {
   "cell_type": "code",
   "execution_count": 155,
   "id": "d0c1bd98",
   "metadata": {},
   "outputs": [
    {
     "name": "stdout",
     "output_type": "stream",
     "text": [
      "features: continuous, ICE plots: all, training samples: all, model: decision tree.\n",
      "Membership Inference Accuracy: 0.5, Sensitivity: 1.0, Specificity: 0.0\n",
      "--- 0.5764865875244141 seconds ---\n"
     ]
    }
   ],
   "source": [
    "print(\"features: continuous, ICE plots: all, training samples: all, model: decision tree.\")\n",
    "\n",
    "start_time = time.time()\n",
    "\n",
    "accuracy, sensitivity, specificity = experiment(features, labels, 8, repetitions=100, random_state=0, \\\n",
    "                                                clf=DecisionTreeClassifier(random_state=0))\n",
    "\n",
    "results.loc[len(results.index)] = ['continuous', 'all', 'all', 'decision tree', accuracy, sensitivity, specificity]\n",
    "\n",
    "print(\"--- %s seconds ---\" % (time.time() - start_time))"
   ]
  },
  {
   "cell_type": "code",
   "execution_count": 156,
   "id": "6188299c",
   "metadata": {},
   "outputs": [
    {
     "name": "stdout",
     "output_type": "stream",
     "text": [
      "features: continuous, ICE plots: all, training samples: all, model: random forest.\n",
      "Membership Inference Accuracy: 1.0, Sensitivity: 1.0, Specificity: 1.0\n",
      "--- 6.690122365951538 seconds ---\n"
     ]
    }
   ],
   "source": [
    "print(\"features: continuous, ICE plots: all, training samples: all, model: random forest.\")\n",
    "\n",
    "start_time = time.time()\n",
    "\n",
    "accuracy, sensitivity, specificity = experiment(features, labels, 8, repetitions=100, random_state=1,\\\n",
    "                                                clf=es.RandomForestClassifier(random_state=0))\n",
    "\n",
    "results.loc[len(results.index)] = ['continuous', 'all', 'all', 'random forest', accuracy, sensitivity, specificity]\n",
    "\n",
    "print(\"--- %s seconds ---\" % (time.time() - start_time))"
   ]
  },
  {
   "cell_type": "code",
   "execution_count": 157,
   "id": "b16b1388",
   "metadata": {},
   "outputs": [
    {
     "name": "stdout",
     "output_type": "stream",
     "text": [
      "features: continuous, ICE plots: all, training samples: 100, model: decision tree.\n",
      "Membership Inference Accuracy: 0.53, Sensitivity: 1.0, Specificity: 0.06\n",
      "--- 0.44295263290405273 seconds ---\n"
     ]
    }
   ],
   "source": [
    "print(\"features: continuous, ICE plots: all, training samples: 100, model: decision tree.\")\n",
    "\n",
    "start_time = time.time()\n",
    "\n",
    "accuracy, sensitivity, specificity = experiment(features_200, labels_200, 8, repetitions=100, random_state=1,\\\n",
    "                                                clf=DecisionTreeClassifier(random_state=0))\n",
    "\n",
    "results.loc[len(results.index)] = ['continuous', 'all', '100', 'decision tree', accuracy, sensitivity, specificity]\n",
    "\n",
    "print(\"--- %s seconds ---\" % (time.time() - start_time))"
   ]
  },
  {
   "cell_type": "code",
   "execution_count": 158,
   "id": "d502ea16",
   "metadata": {},
   "outputs": [
    {
     "name": "stdout",
     "output_type": "stream",
     "text": [
      "features: continuous, ICE plots: all, training samples: 100, model: random forest.\n",
      "Membership Inference Accuracy: 1.0, Sensitivity: 1.0, Specificity: 1.0\n",
      "--- 3.508394241333008 seconds ---\n"
     ]
    }
   ],
   "source": [
    "print(\"features: continuous, ICE plots: all, training samples: 100, model: random forest.\")\n",
    "\n",
    "start_time = time.time()\n",
    "\n",
    "accuracy, sensitivity, specificity = experiment(features_200, labels_200, 8, repetitions=100, random_state=1,\\\n",
    "                                                clf=es.RandomForestClassifier(random_state=0))\n",
    "\n",
    "results.loc[len(results.index)] = ['continuous', 'all', '100', 'random forest', accuracy, sensitivity, specificity]\n",
    "\n",
    "print(\"--- %s seconds ---\" % (time.time() - start_time))"
   ]
  },
  {
   "cell_type": "markdown",
   "id": "f89a99b4",
   "metadata": {},
   "source": [
    "# Dataset 2: Census Income (categorical)"
   ]
  },
  {
   "cell_type": "markdown",
   "id": "c64670a0",
   "metadata": {},
   "source": [
    "Load dataset two: census income"
   ]
  },
  {
   "cell_type": "code",
   "execution_count": 5,
   "id": "1343af21",
   "metadata": {},
   "outputs": [],
   "source": [
    "filename = '../data/adult.data.csv'\n",
    "\n",
    "names = ['age', 'workclass', 'fnlwgt', 'education', 'education_num', 'marital_status', 'occupation', \\\n",
    "         'relationship', 'race', 'sex', 'capital_gain', 'capital_loss', 'hours_per_week', 'native_country', 'label']\n",
    "\n",
    "data_cat = pd.read_csv(filename, names=names)"
   ]
  },
  {
   "cell_type": "code",
   "execution_count": 6,
   "id": "3779d7c4",
   "metadata": {},
   "outputs": [
    {
     "data": {
      "text/html": [
       "<div>\n",
       "<style scoped>\n",
       "    .dataframe tbody tr th:only-of-type {\n",
       "        vertical-align: middle;\n",
       "    }\n",
       "\n",
       "    .dataframe tbody tr th {\n",
       "        vertical-align: top;\n",
       "    }\n",
       "\n",
       "    .dataframe thead th {\n",
       "        text-align: right;\n",
       "    }\n",
       "</style>\n",
       "<table border=\"1\" class=\"dataframe\">\n",
       "  <thead>\n",
       "    <tr style=\"text-align: right;\">\n",
       "      <th></th>\n",
       "      <th>age</th>\n",
       "      <th>workclass</th>\n",
       "      <th>fnlwgt</th>\n",
       "      <th>education</th>\n",
       "      <th>education_num</th>\n",
       "      <th>marital_status</th>\n",
       "      <th>occupation</th>\n",
       "      <th>relationship</th>\n",
       "      <th>race</th>\n",
       "      <th>sex</th>\n",
       "      <th>capital_gain</th>\n",
       "      <th>capital_loss</th>\n",
       "      <th>hours_per_week</th>\n",
       "      <th>native_country</th>\n",
       "      <th>label</th>\n",
       "    </tr>\n",
       "  </thead>\n",
       "  <tbody>\n",
       "    <tr>\n",
       "      <th>0</th>\n",
       "      <td>39</td>\n",
       "      <td>State-gov</td>\n",
       "      <td>77516</td>\n",
       "      <td>Bachelors</td>\n",
       "      <td>13</td>\n",
       "      <td>Never-married</td>\n",
       "      <td>Adm-clerical</td>\n",
       "      <td>Not-in-family</td>\n",
       "      <td>White</td>\n",
       "      <td>Male</td>\n",
       "      <td>2174</td>\n",
       "      <td>0</td>\n",
       "      <td>40</td>\n",
       "      <td>United-States</td>\n",
       "      <td>&lt;=50K</td>\n",
       "    </tr>\n",
       "    <tr>\n",
       "      <th>1</th>\n",
       "      <td>50</td>\n",
       "      <td>Self-emp-not-inc</td>\n",
       "      <td>83311</td>\n",
       "      <td>Bachelors</td>\n",
       "      <td>13</td>\n",
       "      <td>Married-civ-spouse</td>\n",
       "      <td>Exec-managerial</td>\n",
       "      <td>Husband</td>\n",
       "      <td>White</td>\n",
       "      <td>Male</td>\n",
       "      <td>0</td>\n",
       "      <td>0</td>\n",
       "      <td>13</td>\n",
       "      <td>United-States</td>\n",
       "      <td>&lt;=50K</td>\n",
       "    </tr>\n",
       "    <tr>\n",
       "      <th>2</th>\n",
       "      <td>38</td>\n",
       "      <td>Private</td>\n",
       "      <td>215646</td>\n",
       "      <td>HS-grad</td>\n",
       "      <td>9</td>\n",
       "      <td>Divorced</td>\n",
       "      <td>Handlers-cleaners</td>\n",
       "      <td>Not-in-family</td>\n",
       "      <td>White</td>\n",
       "      <td>Male</td>\n",
       "      <td>0</td>\n",
       "      <td>0</td>\n",
       "      <td>40</td>\n",
       "      <td>United-States</td>\n",
       "      <td>&lt;=50K</td>\n",
       "    </tr>\n",
       "    <tr>\n",
       "      <th>3</th>\n",
       "      <td>53</td>\n",
       "      <td>Private</td>\n",
       "      <td>234721</td>\n",
       "      <td>11th</td>\n",
       "      <td>7</td>\n",
       "      <td>Married-civ-spouse</td>\n",
       "      <td>Handlers-cleaners</td>\n",
       "      <td>Husband</td>\n",
       "      <td>Black</td>\n",
       "      <td>Male</td>\n",
       "      <td>0</td>\n",
       "      <td>0</td>\n",
       "      <td>40</td>\n",
       "      <td>United-States</td>\n",
       "      <td>&lt;=50K</td>\n",
       "    </tr>\n",
       "    <tr>\n",
       "      <th>4</th>\n",
       "      <td>28</td>\n",
       "      <td>Private</td>\n",
       "      <td>338409</td>\n",
       "      <td>Bachelors</td>\n",
       "      <td>13</td>\n",
       "      <td>Married-civ-spouse</td>\n",
       "      <td>Prof-specialty</td>\n",
       "      <td>Wife</td>\n",
       "      <td>Black</td>\n",
       "      <td>Female</td>\n",
       "      <td>0</td>\n",
       "      <td>0</td>\n",
       "      <td>40</td>\n",
       "      <td>Cuba</td>\n",
       "      <td>&lt;=50K</td>\n",
       "    </tr>\n",
       "  </tbody>\n",
       "</table>\n",
       "</div>"
      ],
      "text/plain": [
       "   age          workclass  fnlwgt   education  education_num  \\\n",
       "0   39          State-gov   77516   Bachelors             13   \n",
       "1   50   Self-emp-not-inc   83311   Bachelors             13   \n",
       "2   38            Private  215646     HS-grad              9   \n",
       "3   53            Private  234721        11th              7   \n",
       "4   28            Private  338409   Bachelors             13   \n",
       "\n",
       "        marital_status          occupation    relationship    race      sex  \\\n",
       "0        Never-married        Adm-clerical   Not-in-family   White     Male   \n",
       "1   Married-civ-spouse     Exec-managerial         Husband   White     Male   \n",
       "2             Divorced   Handlers-cleaners   Not-in-family   White     Male   \n",
       "3   Married-civ-spouse   Handlers-cleaners         Husband   Black     Male   \n",
       "4   Married-civ-spouse      Prof-specialty            Wife   Black   Female   \n",
       "\n",
       "   capital_gain  capital_loss  hours_per_week  native_country   label  \n",
       "0          2174             0              40   United-States   <=50K  \n",
       "1             0             0              13   United-States   <=50K  \n",
       "2             0             0              40   United-States   <=50K  \n",
       "3             0             0              40   United-States   <=50K  \n",
       "4             0             0              40            Cuba   <=50K  "
      ]
     },
     "execution_count": 6,
     "metadata": {},
     "output_type": "execute_result"
    }
   ],
   "source": [
    "data_cat.head(5)"
   ]
  },
  {
   "cell_type": "markdown",
   "id": "f12dcbae",
   "metadata": {},
   "source": [
    "There is missing data in the columns workclass and native_country that needs to be removed."
   ]
  },
  {
   "cell_type": "code",
   "execution_count": 7,
   "id": "28568f9c",
   "metadata": {},
   "outputs": [
    {
     "name": "stdout",
     "output_type": "stream",
     "text": [
      "Unique values of columns before removal: \n",
      "[' State-gov' ' Self-emp-not-inc' ' Private' ' Federal-gov' ' Local-gov'\n",
      " ' ?' ' Self-emp-inc' ' Without-pay' ' Never-worked']\n",
      "[' United-States' ' Cuba' ' Jamaica' ' India' ' ?' ' Mexico' ' South'\n",
      " ' Puerto-Rico' ' Honduras' ' England' ' Canada' ' Germany' ' Iran'\n",
      " ' Philippines' ' Italy' ' Poland' ' Columbia' ' Cambodia' ' Thailand'\n",
      " ' Ecuador' ' Laos' ' Taiwan' ' Haiti' ' Portugal' ' Dominican-Republic'\n",
      " ' El-Salvador' ' France' ' Guatemala' ' China' ' Japan' ' Yugoslavia'\n",
      " ' Peru' ' Outlying-US(Guam-USVI-etc)' ' Scotland' ' Trinadad&Tobago'\n",
      " ' Greece' ' Nicaragua' ' Vietnam' ' Hong' ' Ireland' ' Hungary'\n",
      " ' Holand-Netherlands']\n",
      "Unique values of columns after removal: \n",
      "[' State-gov' ' Self-emp-not-inc' ' Private' ' Federal-gov' ' Local-gov'\n",
      " ' Self-emp-inc' ' Without-pay' ' Never-worked']\n",
      "[' United-States' ' Cuba' ' Jamaica' ' India' ' Mexico' ' Puerto-Rico'\n",
      " ' Honduras' ' England' ' Canada' ' Germany' ' Iran' ' Philippines'\n",
      " ' Poland' ' Columbia' ' Cambodia' ' Thailand' ' Ecuador' ' Laos'\n",
      " ' Taiwan' ' Haiti' ' Portugal' ' Dominican-Republic' ' El-Salvador'\n",
      " ' France' ' Guatemala' ' Italy' ' China' ' South' ' Japan' ' Yugoslavia'\n",
      " ' Peru' ' Outlying-US(Guam-USVI-etc)' ' Scotland' ' Trinadad&Tobago'\n",
      " ' Greece' ' Nicaragua' ' Vietnam' ' Hong' ' Ireland' ' Hungary'\n",
      " ' Holand-Netherlands']\n"
     ]
    }
   ],
   "source": [
    "print(\"Unique values of columns before removal: \")\n",
    "print(data_cat.workclass.unique())\n",
    "print(data_cat.native_country.unique())\n",
    "\n",
    "data_cat = data_cat[data_cat.workclass != ' ?']\n",
    "data_cat = data_cat[data_cat.native_country != ' ?']\n",
    "\n",
    "print(\"Unique values of columns after removal: \")\n",
    "print(data_cat.workclass.unique())\n",
    "print(data_cat.native_country.unique())"
   ]
  },
  {
   "cell_type": "markdown",
   "id": "af54af7b",
   "metadata": {},
   "source": [
    "We will only use the categorical features of this dataset. Remove continuous columns:"
   ]
  },
  {
   "cell_type": "code",
   "execution_count": 8,
   "id": "e671dc46",
   "metadata": {
    "scrolled": true
   },
   "outputs": [
    {
     "data": {
      "text/html": [
       "<div>\n",
       "<style scoped>\n",
       "    .dataframe tbody tr th:only-of-type {\n",
       "        vertical-align: middle;\n",
       "    }\n",
       "\n",
       "    .dataframe tbody tr th {\n",
       "        vertical-align: top;\n",
       "    }\n",
       "\n",
       "    .dataframe thead th {\n",
       "        text-align: right;\n",
       "    }\n",
       "</style>\n",
       "<table border=\"1\" class=\"dataframe\">\n",
       "  <thead>\n",
       "    <tr style=\"text-align: right;\">\n",
       "      <th></th>\n",
       "      <th>workclass</th>\n",
       "      <th>education</th>\n",
       "      <th>marital_status</th>\n",
       "      <th>occupation</th>\n",
       "      <th>relationship</th>\n",
       "      <th>race</th>\n",
       "      <th>sex</th>\n",
       "      <th>native_country</th>\n",
       "      <th>label</th>\n",
       "    </tr>\n",
       "  </thead>\n",
       "  <tbody>\n",
       "    <tr>\n",
       "      <th>0</th>\n",
       "      <td>State-gov</td>\n",
       "      <td>Bachelors</td>\n",
       "      <td>Never-married</td>\n",
       "      <td>Adm-clerical</td>\n",
       "      <td>Not-in-family</td>\n",
       "      <td>White</td>\n",
       "      <td>Male</td>\n",
       "      <td>United-States</td>\n",
       "      <td>&lt;=50K</td>\n",
       "    </tr>\n",
       "    <tr>\n",
       "      <th>1</th>\n",
       "      <td>Self-emp-not-inc</td>\n",
       "      <td>Bachelors</td>\n",
       "      <td>Married-civ-spouse</td>\n",
       "      <td>Exec-managerial</td>\n",
       "      <td>Husband</td>\n",
       "      <td>White</td>\n",
       "      <td>Male</td>\n",
       "      <td>United-States</td>\n",
       "      <td>&lt;=50K</td>\n",
       "    </tr>\n",
       "    <tr>\n",
       "      <th>2</th>\n",
       "      <td>Private</td>\n",
       "      <td>HS-grad</td>\n",
       "      <td>Divorced</td>\n",
       "      <td>Handlers-cleaners</td>\n",
       "      <td>Not-in-family</td>\n",
       "      <td>White</td>\n",
       "      <td>Male</td>\n",
       "      <td>United-States</td>\n",
       "      <td>&lt;=50K</td>\n",
       "    </tr>\n",
       "  </tbody>\n",
       "</table>\n",
       "</div>"
      ],
      "text/plain": [
       "           workclass   education       marital_status          occupation  \\\n",
       "0          State-gov   Bachelors        Never-married        Adm-clerical   \n",
       "1   Self-emp-not-inc   Bachelors   Married-civ-spouse     Exec-managerial   \n",
       "2            Private     HS-grad             Divorced   Handlers-cleaners   \n",
       "\n",
       "     relationship    race    sex  native_country   label  \n",
       "0   Not-in-family   White   Male   United-States   <=50K  \n",
       "1         Husband   White   Male   United-States   <=50K  \n",
       "2   Not-in-family   White   Male   United-States   <=50K  "
      ]
     },
     "execution_count": 8,
     "metadata": {},
     "output_type": "execute_result"
    }
   ],
   "source": [
    "data_cat = data_cat.drop('age', axis=1).drop('fnlwgt', axis=1).drop('education_num', axis=1).drop('capital_gain', axis=1)\\\n",
    "    .drop('capital_loss', axis=1).drop('hours_per_week', axis=1)\n",
    "\n",
    "data_cat.head(3)"
   ]
  },
  {
   "cell_type": "markdown",
   "id": "acb9d0da",
   "metadata": {},
   "source": [
    "Transform workclass, education, marital_status, occupation, relationship, race, sex and native_country into one-hot encoded features:"
   ]
  },
  {
   "cell_type": "code",
   "execution_count": 9,
   "id": "b42340a9",
   "metadata": {},
   "outputs": [
    {
     "data": {
      "text/html": [
       "<div>\n",
       "<style scoped>\n",
       "    .dataframe tbody tr th:only-of-type {\n",
       "        vertical-align: middle;\n",
       "    }\n",
       "\n",
       "    .dataframe tbody tr th {\n",
       "        vertical-align: top;\n",
       "    }\n",
       "\n",
       "    .dataframe thead th {\n",
       "        text-align: right;\n",
       "    }\n",
       "</style>\n",
       "<table border=\"1\" class=\"dataframe\">\n",
       "  <thead>\n",
       "    <tr style=\"text-align: right;\">\n",
       "      <th></th>\n",
       "      <th>sex</th>\n",
       "      <th>label</th>\n",
       "      <th>workclass_ Federal-gov</th>\n",
       "      <th>workclass_ Local-gov</th>\n",
       "      <th>workclass_ Never-worked</th>\n",
       "      <th>workclass_ Private</th>\n",
       "      <th>workclass_ Self-emp-inc</th>\n",
       "      <th>workclass_ Self-emp-not-inc</th>\n",
       "      <th>workclass_ State-gov</th>\n",
       "      <th>workclass_ Without-pay</th>\n",
       "      <th>...</th>\n",
       "      <th>native_country_ Portugal</th>\n",
       "      <th>native_country_ Puerto-Rico</th>\n",
       "      <th>native_country_ Scotland</th>\n",
       "      <th>native_country_ South</th>\n",
       "      <th>native_country_ Taiwan</th>\n",
       "      <th>native_country_ Thailand</th>\n",
       "      <th>native_country_ Trinadad&amp;Tobago</th>\n",
       "      <th>native_country_ United-States</th>\n",
       "      <th>native_country_ Vietnam</th>\n",
       "      <th>native_country_ Yugoslavia</th>\n",
       "    </tr>\n",
       "  </thead>\n",
       "  <tbody>\n",
       "    <tr>\n",
       "      <th>0</th>\n",
       "      <td>Male</td>\n",
       "      <td>&lt;=50K</td>\n",
       "      <td>0</td>\n",
       "      <td>0</td>\n",
       "      <td>0</td>\n",
       "      <td>0</td>\n",
       "      <td>0</td>\n",
       "      <td>0</td>\n",
       "      <td>1</td>\n",
       "      <td>0</td>\n",
       "      <td>...</td>\n",
       "      <td>0</td>\n",
       "      <td>0</td>\n",
       "      <td>0</td>\n",
       "      <td>0</td>\n",
       "      <td>0</td>\n",
       "      <td>0</td>\n",
       "      <td>0</td>\n",
       "      <td>1</td>\n",
       "      <td>0</td>\n",
       "      <td>0</td>\n",
       "    </tr>\n",
       "    <tr>\n",
       "      <th>1</th>\n",
       "      <td>Male</td>\n",
       "      <td>&lt;=50K</td>\n",
       "      <td>0</td>\n",
       "      <td>0</td>\n",
       "      <td>0</td>\n",
       "      <td>0</td>\n",
       "      <td>0</td>\n",
       "      <td>1</td>\n",
       "      <td>0</td>\n",
       "      <td>0</td>\n",
       "      <td>...</td>\n",
       "      <td>0</td>\n",
       "      <td>0</td>\n",
       "      <td>0</td>\n",
       "      <td>0</td>\n",
       "      <td>0</td>\n",
       "      <td>0</td>\n",
       "      <td>0</td>\n",
       "      <td>1</td>\n",
       "      <td>0</td>\n",
       "      <td>0</td>\n",
       "    </tr>\n",
       "    <tr>\n",
       "      <th>2</th>\n",
       "      <td>Male</td>\n",
       "      <td>&lt;=50K</td>\n",
       "      <td>0</td>\n",
       "      <td>0</td>\n",
       "      <td>0</td>\n",
       "      <td>1</td>\n",
       "      <td>0</td>\n",
       "      <td>0</td>\n",
       "      <td>0</td>\n",
       "      <td>0</td>\n",
       "      <td>...</td>\n",
       "      <td>0</td>\n",
       "      <td>0</td>\n",
       "      <td>0</td>\n",
       "      <td>0</td>\n",
       "      <td>0</td>\n",
       "      <td>0</td>\n",
       "      <td>0</td>\n",
       "      <td>1</td>\n",
       "      <td>0</td>\n",
       "      <td>0</td>\n",
       "    </tr>\n",
       "  </tbody>\n",
       "</table>\n",
       "<p>3 rows × 100 columns</p>\n",
       "</div>"
      ],
      "text/plain": [
       "     sex   label  workclass_ Federal-gov  workclass_ Local-gov  \\\n",
       "0   Male   <=50K                       0                     0   \n",
       "1   Male   <=50K                       0                     0   \n",
       "2   Male   <=50K                       0                     0   \n",
       "\n",
       "   workclass_ Never-worked  workclass_ Private  workclass_ Self-emp-inc  \\\n",
       "0                        0                   0                        0   \n",
       "1                        0                   0                        0   \n",
       "2                        0                   1                        0   \n",
       "\n",
       "   workclass_ Self-emp-not-inc  workclass_ State-gov  workclass_ Without-pay  \\\n",
       "0                            0                     1                       0   \n",
       "1                            1                     0                       0   \n",
       "2                            0                     0                       0   \n",
       "\n",
       "   ...  native_country_ Portugal  native_country_ Puerto-Rico  \\\n",
       "0  ...                         0                            0   \n",
       "1  ...                         0                            0   \n",
       "2  ...                         0                            0   \n",
       "\n",
       "   native_country_ Scotland  native_country_ South  native_country_ Taiwan  \\\n",
       "0                         0                      0                       0   \n",
       "1                         0                      0                       0   \n",
       "2                         0                      0                       0   \n",
       "\n",
       "   native_country_ Thailand  native_country_ Trinadad&Tobago  \\\n",
       "0                         0                                0   \n",
       "1                         0                                0   \n",
       "2                         0                                0   \n",
       "\n",
       "   native_country_ United-States  native_country_ Vietnam  \\\n",
       "0                              1                        0   \n",
       "1                              1                        0   \n",
       "2                              1                        0   \n",
       "\n",
       "   native_country_ Yugoslavia  \n",
       "0                           0  \n",
       "1                           0  \n",
       "2                           0  \n",
       "\n",
       "[3 rows x 100 columns]"
      ]
     },
     "execution_count": 9,
     "metadata": {},
     "output_type": "execute_result"
    }
   ],
   "source": [
    "data_cat = pd.concat([data_cat, pd.get_dummies(data_cat['workclass'], prefix='workclass')], axis=1)\n",
    "data_cat = pd.concat([data_cat, pd.get_dummies(data_cat['education'], prefix='education')], axis=1)\n",
    "data_cat = pd.concat([data_cat, pd.get_dummies(data_cat['marital_status'], prefix='marital_status')], axis=1)\n",
    "data_cat = pd.concat([data_cat, pd.get_dummies(data_cat['occupation'], prefix='occupation')], axis=1)\n",
    "data_cat = pd.concat([data_cat, pd.get_dummies(data_cat['relationship'], prefix='relationship')], axis=1)\n",
    "data_cat = pd.concat([data_cat, pd.get_dummies(data_cat['race'], prefix='race')], axis=1)\n",
    "data_cat = pd.concat([data_cat, pd.get_dummies(data_cat['native_country'], prefix='native_country')], axis=1)\n",
    "\n",
    "data_cat = data_cat.drop('workclass', axis=1).drop('education', axis=1).drop('marital_status', axis=1)\\\n",
    "    .drop('occupation', axis=1).drop('relationship', axis=1).drop('race', axis=1).drop('native_country', axis=1)\n",
    "\n",
    "data_cat.head(3)"
   ]
  },
  {
   "cell_type": "markdown",
   "id": "a03b1920",
   "metadata": {},
   "source": [
    "Transform label and sex into binary encoding:"
   ]
  },
  {
   "cell_type": "code",
   "execution_count": 10,
   "id": "decaf201",
   "metadata": {},
   "outputs": [
    {
     "data": {
      "text/html": [
       "<div>\n",
       "<style scoped>\n",
       "    .dataframe tbody tr th:only-of-type {\n",
       "        vertical-align: middle;\n",
       "    }\n",
       "\n",
       "    .dataframe tbody tr th {\n",
       "        vertical-align: top;\n",
       "    }\n",
       "\n",
       "    .dataframe thead th {\n",
       "        text-align: right;\n",
       "    }\n",
       "</style>\n",
       "<table border=\"1\" class=\"dataframe\">\n",
       "  <thead>\n",
       "    <tr style=\"text-align: right;\">\n",
       "      <th></th>\n",
       "      <th>workclass_ Federal-gov</th>\n",
       "      <th>workclass_ Local-gov</th>\n",
       "      <th>workclass_ Never-worked</th>\n",
       "      <th>workclass_ Private</th>\n",
       "      <th>workclass_ Self-emp-inc</th>\n",
       "      <th>workclass_ Self-emp-not-inc</th>\n",
       "      <th>workclass_ State-gov</th>\n",
       "      <th>workclass_ Without-pay</th>\n",
       "      <th>education_ 10th</th>\n",
       "      <th>education_ 11th</th>\n",
       "      <th>...</th>\n",
       "      <th>native_country_ Scotland</th>\n",
       "      <th>native_country_ South</th>\n",
       "      <th>native_country_ Taiwan</th>\n",
       "      <th>native_country_ Thailand</th>\n",
       "      <th>native_country_ Trinadad&amp;Tobago</th>\n",
       "      <th>native_country_ United-States</th>\n",
       "      <th>native_country_ Vietnam</th>\n",
       "      <th>native_country_ Yugoslavia</th>\n",
       "      <th>female</th>\n",
       "      <th>&gt;50K</th>\n",
       "    </tr>\n",
       "  </thead>\n",
       "  <tbody>\n",
       "    <tr>\n",
       "      <th>0</th>\n",
       "      <td>0</td>\n",
       "      <td>0</td>\n",
       "      <td>0</td>\n",
       "      <td>0</td>\n",
       "      <td>0</td>\n",
       "      <td>0</td>\n",
       "      <td>1</td>\n",
       "      <td>0</td>\n",
       "      <td>0</td>\n",
       "      <td>0</td>\n",
       "      <td>...</td>\n",
       "      <td>0</td>\n",
       "      <td>0</td>\n",
       "      <td>0</td>\n",
       "      <td>0</td>\n",
       "      <td>0</td>\n",
       "      <td>1</td>\n",
       "      <td>0</td>\n",
       "      <td>0</td>\n",
       "      <td>0</td>\n",
       "      <td>0</td>\n",
       "    </tr>\n",
       "    <tr>\n",
       "      <th>1</th>\n",
       "      <td>0</td>\n",
       "      <td>0</td>\n",
       "      <td>0</td>\n",
       "      <td>0</td>\n",
       "      <td>0</td>\n",
       "      <td>1</td>\n",
       "      <td>0</td>\n",
       "      <td>0</td>\n",
       "      <td>0</td>\n",
       "      <td>0</td>\n",
       "      <td>...</td>\n",
       "      <td>0</td>\n",
       "      <td>0</td>\n",
       "      <td>0</td>\n",
       "      <td>0</td>\n",
       "      <td>0</td>\n",
       "      <td>1</td>\n",
       "      <td>0</td>\n",
       "      <td>0</td>\n",
       "      <td>0</td>\n",
       "      <td>0</td>\n",
       "    </tr>\n",
       "    <tr>\n",
       "      <th>2</th>\n",
       "      <td>0</td>\n",
       "      <td>0</td>\n",
       "      <td>0</td>\n",
       "      <td>1</td>\n",
       "      <td>0</td>\n",
       "      <td>0</td>\n",
       "      <td>0</td>\n",
       "      <td>0</td>\n",
       "      <td>0</td>\n",
       "      <td>0</td>\n",
       "      <td>...</td>\n",
       "      <td>0</td>\n",
       "      <td>0</td>\n",
       "      <td>0</td>\n",
       "      <td>0</td>\n",
       "      <td>0</td>\n",
       "      <td>1</td>\n",
       "      <td>0</td>\n",
       "      <td>0</td>\n",
       "      <td>0</td>\n",
       "      <td>0</td>\n",
       "    </tr>\n",
       "  </tbody>\n",
       "</table>\n",
       "<p>3 rows × 100 columns</p>\n",
       "</div>"
      ],
      "text/plain": [
       "   workclass_ Federal-gov  workclass_ Local-gov  workclass_ Never-worked  \\\n",
       "0                       0                     0                        0   \n",
       "1                       0                     0                        0   \n",
       "2                       0                     0                        0   \n",
       "\n",
       "   workclass_ Private  workclass_ Self-emp-inc  workclass_ Self-emp-not-inc  \\\n",
       "0                   0                        0                            0   \n",
       "1                   0                        0                            1   \n",
       "2                   1                        0                            0   \n",
       "\n",
       "   workclass_ State-gov  workclass_ Without-pay  education_ 10th  \\\n",
       "0                     1                       0                0   \n",
       "1                     0                       0                0   \n",
       "2                     0                       0                0   \n",
       "\n",
       "   education_ 11th  ...  native_country_ Scotland  native_country_ South  \\\n",
       "0                0  ...                         0                      0   \n",
       "1                0  ...                         0                      0   \n",
       "2                0  ...                         0                      0   \n",
       "\n",
       "   native_country_ Taiwan  native_country_ Thailand  \\\n",
       "0                       0                         0   \n",
       "1                       0                         0   \n",
       "2                       0                         0   \n",
       "\n",
       "   native_country_ Trinadad&Tobago  native_country_ United-States  \\\n",
       "0                                0                              1   \n",
       "1                                0                              1   \n",
       "2                                0                              1   \n",
       "\n",
       "   native_country_ Vietnam  native_country_ Yugoslavia  female  >50K  \n",
       "0                        0                           0       0     0  \n",
       "1                        0                           0       0     0  \n",
       "2                        0                           0       0     0  \n",
       "\n",
       "[3 rows x 100 columns]"
      ]
     },
     "execution_count": 10,
     "metadata": {},
     "output_type": "execute_result"
    }
   ],
   "source": [
    "data_cat['female'] = data_cat['sex'].map( {' Male': 0, ' Female': 1} )\n",
    "data_cat['>50K'] = data_cat['label'].map( {' <=50K': 0, ' >50K': 1} )\n",
    "\n",
    "data_cat = data_cat.drop('sex', axis=1).drop('label', axis=1)\n",
    "\n",
    "data_cat.head(3)"
   ]
  },
  {
   "cell_type": "code",
   "execution_count": 131,
   "id": "1c543d66",
   "metadata": {},
   "outputs": [],
   "source": [
    "data_cat = data_cat.drop_duplicates()\n",
    "\n",
    "features_cat = data_cat.drop('>50K', axis=1)\n",
    "labels_cat = data_cat['>50K'] \n",
    "\n",
    "# We need to select 200 samples because only half the data will be used as training data\n",
    "# 200 total samples results in 100 training samples\n",
    "data_cat_200 = data_cat.sample(n = 200, random_state=13)\n",
    "features_cat_200 = data_cat_200.drop('>50K', axis=1)\n",
    "labels_cat_200 = data_cat_200['>50K'] "
   ]
  },
  {
   "cell_type": "markdown",
   "id": "09b86a0e",
   "metadata": {},
   "source": [
    "Now all variations of the membership inference experiment will be executed for the second dataset."
   ]
  },
  {
   "cell_type": "code",
   "execution_count": 159,
   "id": "b0a4ce4a",
   "metadata": {},
   "outputs": [
    {
     "name": "stdout",
     "output_type": "stream",
     "text": [
      "features: categorical, ICE plots: one, training samples: all, model: decision tree.\n",
      "Membership Inference Accuracy: 0.5, Sensitivity: 1.0, Specificity: 0.0\n",
      "--- 0.23042988777160645 seconds ---\n"
     ]
    }
   ],
   "source": [
    "print(\"features: categorical, ICE plots: one, training samples: all, model: decision tree.\")\n",
    "\n",
    "\n",
    "start_time = time.time()\n",
    "\n",
    "accuracy, sensitivity, specificity = experiment(features_cat, labels_cat, 1, repetitions=100, random_state=1,\\\n",
    "                                                clf=DecisionTreeClassifier(random_state=0))\n",
    "\n",
    "results.loc[len(results.index)] = ['categorical', '1', 'all', 'decision tree', accuracy, sensitivity, specificity]\n",
    "\n",
    "print(\"--- %s seconds ---\" % (time.time() - start_time))"
   ]
  },
  {
   "cell_type": "code",
   "execution_count": 160,
   "id": "da0bce0b",
   "metadata": {},
   "outputs": [
    {
     "name": "stdout",
     "output_type": "stream",
     "text": [
      "features: categorical, ICE plots: one, training samples: all, model: random forest.\n",
      "Membership Inference Accuracy: 0.76, Sensitivity: 1.0, Specificity: 0.52\n",
      "--- 1.3187973499298096 seconds ---\n"
     ]
    }
   ],
   "source": [
    "print(\"features: categorical, ICE plots: one, training samples: all, model: random forest.\")\n",
    "\n",
    "start_time = time.time()\n",
    "\n",
    "accuracy, sensitivity, specificity = experiment(features_cat, labels_cat, 1, repetitions=100, random_state=1,\\\n",
    "                                                clf=es.RandomForestClassifier(random_state=0))\n",
    "\n",
    "results.loc[len(results.index)] = ['categorical', '1', 'all', 'random forest', accuracy, sensitivity, specificity]\n",
    "\n",
    "print(\"--- %s seconds ---\" % (time.time() - start_time))"
   ]
  },
  {
   "cell_type": "code",
   "execution_count": 161,
   "id": "fe02d813",
   "metadata": {},
   "outputs": [
    {
     "name": "stdout",
     "output_type": "stream",
     "text": [
      "features: categorical, ICE plots: one, training samples: 100, model: decision tree.\n",
      "Membership Inference Accuracy: 0.5, Sensitivity: 1.0, Specificity: 0.0\n",
      "--- 0.17108893394470215 seconds ---\n"
     ]
    }
   ],
   "source": [
    "print(\"features: categorical, ICE plots: one, training samples: 100, model: decision tree.\")\n",
    "\n",
    "start_time = time.time()\n",
    "\n",
    "accuracy, sensitivity, specificity = experiment(features_cat_200, labels_cat_200, 1, repetitions=100, random_state=1,\\\n",
    "                                                clf=DecisionTreeClassifier(random_state=0))\n",
    "\n",
    "results.loc[len(results.index)] = ['categorical', '1', '100', 'decision tree', accuracy, sensitivity, specificity]\n",
    "\n",
    "print(\"--- %s seconds ---\" % (time.time() - start_time))"
   ]
  },
  {
   "cell_type": "code",
   "execution_count": 162,
   "id": "cd3ff4dc",
   "metadata": {},
   "outputs": [
    {
     "name": "stdout",
     "output_type": "stream",
     "text": [
      "features: categorical, ICE plots: one, training samples: 100, model: random forest.\n",
      "Membership Inference Accuracy: 0.87, Sensitivity: 1.0, Specificity: 0.74\n",
      "--- 0.5967433452606201 seconds ---\n"
     ]
    }
   ],
   "source": [
    "print(\"features: categorical, ICE plots: one, training samples: 100, model: random forest.\")\n",
    "\n",
    "start_time = time.time()\n",
    "\n",
    "accuracy, sensitivity, specificity = experiment(features_cat_200, labels_cat_200, 1, repetitions=100, random_state=1,\\\n",
    "                                                clf=es.RandomForestClassifier(random_state=0))\n",
    "\n",
    "results.loc[len(results.index)] = ['categorical', '1', '100', 'random forest', accuracy, sensitivity, specificity]\n",
    "\n",
    "print(\"--- %s seconds ---\" % (time.time() - start_time))"
   ]
  },
  {
   "cell_type": "code",
   "execution_count": 163,
   "id": "342ee4a5",
   "metadata": {},
   "outputs": [
    {
     "name": "stdout",
     "output_type": "stream",
     "text": [
      "features: categorical, ICE plots: all, training samples: all, model: decision tree.\n",
      "Membership Inference Accuracy: 0.5, Sensitivity: 1.0, Specificity: 0.0\n",
      "--- 1.734576940536499 seconds ---\n"
     ]
    }
   ],
   "source": [
    "print(\"features: categorical, ICE plots: all, training samples: all, model: decision tree.\")\n",
    "\n",
    "start_time = time.time()\n",
    "\n",
    "accuracy, sensitivity, specificity = experiment(features_cat, labels_cat, 99, repetitions=100, random_state=1,\\\n",
    "                                                clf=DecisionTreeClassifier(random_state=0))\n",
    "\n",
    "results.loc[len(results.index)] = ['categorical', 'all', 'all', 'decision tree', accuracy, sensitivity, specificity]\n",
    "\n",
    "print(\"--- %s seconds ---\" % (time.time() - start_time))"
   ]
  },
  {
   "cell_type": "code",
   "execution_count": 164,
   "id": "71000bf6",
   "metadata": {},
   "outputs": [
    {
     "name": "stdout",
     "output_type": "stream",
     "text": [
      "features: categorical, ICE plots: all, training samples: all, model: random forest.\n",
      "Membership Inference Accuracy: 0.95, Sensitivity: 1.0, Specificity: 0.9\n",
      "--- 33.55830383300781 seconds ---\n"
     ]
    }
   ],
   "source": [
    "print(\"features: categorical, ICE plots: all, training samples: all, model: random forest.\")\n",
    "\n",
    "start_time = time.time()\n",
    "\n",
    "accuracy, sensitivity, specificity = experiment(features_cat, labels_cat, 99, repetitions=100, random_state=1,\\\n",
    "                                                clf=es.RandomForestClassifier(random_state=0))\n",
    "\n",
    "results.loc[len(results.index)] = ['categorical', 'all', 'all', 'random forest', accuracy, sensitivity, specificity]\n",
    "\n",
    "print(\"--- %s seconds ---\" % (time.time() - start_time))"
   ]
  },
  {
   "cell_type": "code",
   "execution_count": 165,
   "id": "d06b792a",
   "metadata": {},
   "outputs": [
    {
     "name": "stdout",
     "output_type": "stream",
     "text": [
      "features: categorical, ICE plots: all, training samples: 100, model: decision tree.\n",
      "Membership Inference Accuracy: 0.5, Sensitivity: 1.0, Specificity: 0.0\n",
      "--- 0.8738939762115479 seconds ---\n"
     ]
    }
   ],
   "source": [
    "print(\"features: categorical, ICE plots: all, training samples: 100, model: decision tree.\")\n",
    "\n",
    "start_time = time.time()\n",
    "\n",
    "accuracy, sensitivity, specificity = experiment(features_cat_200, labels_cat_200, 99, repetitions=100, random_state=1,\\\n",
    "                                                clf=DecisionTreeClassifier(random_state=0))\n",
    "\n",
    "results.loc[len(results.index)] = ['categorical', 'all', '100', 'decision tree', accuracy, sensitivity, specificity]\n",
    "\n",
    "print(\"--- %s seconds ---\" % (time.time() - start_time))"
   ]
  },
  {
   "cell_type": "code",
   "execution_count": 166,
   "id": "45bd4d16",
   "metadata": {},
   "outputs": [
    {
     "name": "stdout",
     "output_type": "stream",
     "text": [
      "features: categorical, ICE plots: all, training samples: 100, model: random forest.\n",
      "Membership Inference Accuracy: 1.0, Sensitivity: 1.0, Specificity: 1.0\n",
      "--- 16.10212779045105 seconds ---\n"
     ]
    }
   ],
   "source": [
    "print(\"features: categorical, ICE plots: all, training samples: 100, model: random forest.\")\n",
    "\n",
    "start_time = time.time()\n",
    "\n",
    "accuracy, sensitivity, specificity = experiment(features_cat_200, labels_cat_200, 99, repetitions=100, random_state=1,\\\n",
    "                                                clf=es.RandomForestClassifier(random_state=0))\n",
    "\n",
    "results.loc[len(results.index)] = ['categorical', 'all', '100', 'random forest', accuracy, sensitivity, specificity]\n",
    "\n",
    "print(\"--- %s seconds ---\" % (time.time() - start_time))"
   ]
  },
  {
   "cell_type": "markdown",
   "id": "b7f06a08",
   "metadata": {},
   "source": [
    "# Results\n",
    "\n",
    "The results of all variations of the membership inference experiment with ICE. In each experiment, half the samples were picked randomly from the training data, while the other half were picked randomly from the control data not used for training. Both datasets originate from the same source dataset.\n",
    "\n",
    "Accuracy is the percentage of samples whose membership (true or false) was correctly inferred. An algorithm guessing at random would achieve an accuracy of 50 percent.\n",
    "\n",
    "Sensitivity is the percentage of training samples whose membership (true) was correctly inferred.\n",
    "\n",
    "Specificity is the percentage of control samples (not used for training) whose membership (false) was correctly inferred."
   ]
  },
  {
   "cell_type": "code",
   "execution_count": 167,
   "id": "e8cd69e3",
   "metadata": {},
   "outputs": [
    {
     "data": {
      "text/html": [
       "<div>\n",
       "<style scoped>\n",
       "    .dataframe tbody tr th:only-of-type {\n",
       "        vertical-align: middle;\n",
       "    }\n",
       "\n",
       "    .dataframe tbody tr th {\n",
       "        vertical-align: top;\n",
       "    }\n",
       "\n",
       "    .dataframe thead th {\n",
       "        text-align: right;\n",
       "    }\n",
       "</style>\n",
       "<table border=\"1\" class=\"dataframe\">\n",
       "  <thead>\n",
       "    <tr style=\"text-align: right;\">\n",
       "      <th></th>\n",
       "      <th>dataset</th>\n",
       "      <th>ice_features</th>\n",
       "      <th>training_samples</th>\n",
       "      <th>model</th>\n",
       "      <th>accuracy</th>\n",
       "      <th>sensitivity</th>\n",
       "      <th>specificity</th>\n",
       "    </tr>\n",
       "  </thead>\n",
       "  <tbody>\n",
       "    <tr>\n",
       "      <th>0</th>\n",
       "      <td>continuous</td>\n",
       "      <td>1</td>\n",
       "      <td>all</td>\n",
       "      <td>decision tree</td>\n",
       "      <td>0.50</td>\n",
       "      <td>1.0</td>\n",
       "      <td>0.00</td>\n",
       "    </tr>\n",
       "    <tr>\n",
       "      <th>1</th>\n",
       "      <td>continuous</td>\n",
       "      <td>1</td>\n",
       "      <td>all</td>\n",
       "      <td>random forest</td>\n",
       "      <td>1.00</td>\n",
       "      <td>1.0</td>\n",
       "      <td>1.00</td>\n",
       "    </tr>\n",
       "    <tr>\n",
       "      <th>2</th>\n",
       "      <td>continuous</td>\n",
       "      <td>1</td>\n",
       "      <td>100</td>\n",
       "      <td>decision tree</td>\n",
       "      <td>0.50</td>\n",
       "      <td>1.0</td>\n",
       "      <td>0.00</td>\n",
       "    </tr>\n",
       "    <tr>\n",
       "      <th>3</th>\n",
       "      <td>continuous</td>\n",
       "      <td>1</td>\n",
       "      <td>100</td>\n",
       "      <td>random forest</td>\n",
       "      <td>1.00</td>\n",
       "      <td>1.0</td>\n",
       "      <td>1.00</td>\n",
       "    </tr>\n",
       "    <tr>\n",
       "      <th>4</th>\n",
       "      <td>continuous</td>\n",
       "      <td>all</td>\n",
       "      <td>all</td>\n",
       "      <td>decision tree</td>\n",
       "      <td>0.50</td>\n",
       "      <td>1.0</td>\n",
       "      <td>0.00</td>\n",
       "    </tr>\n",
       "    <tr>\n",
       "      <th>5</th>\n",
       "      <td>continuous</td>\n",
       "      <td>all</td>\n",
       "      <td>all</td>\n",
       "      <td>random forest</td>\n",
       "      <td>1.00</td>\n",
       "      <td>1.0</td>\n",
       "      <td>1.00</td>\n",
       "    </tr>\n",
       "    <tr>\n",
       "      <th>6</th>\n",
       "      <td>continuous</td>\n",
       "      <td>all</td>\n",
       "      <td>100</td>\n",
       "      <td>decision tree</td>\n",
       "      <td>0.53</td>\n",
       "      <td>1.0</td>\n",
       "      <td>0.06</td>\n",
       "    </tr>\n",
       "    <tr>\n",
       "      <th>7</th>\n",
       "      <td>continuous</td>\n",
       "      <td>all</td>\n",
       "      <td>100</td>\n",
       "      <td>random forest</td>\n",
       "      <td>1.00</td>\n",
       "      <td>1.0</td>\n",
       "      <td>1.00</td>\n",
       "    </tr>\n",
       "    <tr>\n",
       "      <th>8</th>\n",
       "      <td>categorical</td>\n",
       "      <td>1</td>\n",
       "      <td>all</td>\n",
       "      <td>decision tree</td>\n",
       "      <td>0.50</td>\n",
       "      <td>1.0</td>\n",
       "      <td>0.00</td>\n",
       "    </tr>\n",
       "    <tr>\n",
       "      <th>9</th>\n",
       "      <td>categorical</td>\n",
       "      <td>1</td>\n",
       "      <td>all</td>\n",
       "      <td>random forest</td>\n",
       "      <td>0.76</td>\n",
       "      <td>1.0</td>\n",
       "      <td>0.52</td>\n",
       "    </tr>\n",
       "    <tr>\n",
       "      <th>10</th>\n",
       "      <td>categorical</td>\n",
       "      <td>1</td>\n",
       "      <td>100</td>\n",
       "      <td>decision tree</td>\n",
       "      <td>0.50</td>\n",
       "      <td>1.0</td>\n",
       "      <td>0.00</td>\n",
       "    </tr>\n",
       "    <tr>\n",
       "      <th>11</th>\n",
       "      <td>categorical</td>\n",
       "      <td>1</td>\n",
       "      <td>100</td>\n",
       "      <td>random forest</td>\n",
       "      <td>0.87</td>\n",
       "      <td>1.0</td>\n",
       "      <td>0.74</td>\n",
       "    </tr>\n",
       "    <tr>\n",
       "      <th>12</th>\n",
       "      <td>categorical</td>\n",
       "      <td>all</td>\n",
       "      <td>all</td>\n",
       "      <td>decision tree</td>\n",
       "      <td>0.50</td>\n",
       "      <td>1.0</td>\n",
       "      <td>0.00</td>\n",
       "    </tr>\n",
       "    <tr>\n",
       "      <th>13</th>\n",
       "      <td>categorical</td>\n",
       "      <td>all</td>\n",
       "      <td>all</td>\n",
       "      <td>random forest</td>\n",
       "      <td>0.95</td>\n",
       "      <td>1.0</td>\n",
       "      <td>0.90</td>\n",
       "    </tr>\n",
       "    <tr>\n",
       "      <th>14</th>\n",
       "      <td>categorical</td>\n",
       "      <td>all</td>\n",
       "      <td>100</td>\n",
       "      <td>decision tree</td>\n",
       "      <td>0.50</td>\n",
       "      <td>1.0</td>\n",
       "      <td>0.00</td>\n",
       "    </tr>\n",
       "    <tr>\n",
       "      <th>15</th>\n",
       "      <td>categorical</td>\n",
       "      <td>all</td>\n",
       "      <td>100</td>\n",
       "      <td>random forest</td>\n",
       "      <td>1.00</td>\n",
       "      <td>1.0</td>\n",
       "      <td>1.00</td>\n",
       "    </tr>\n",
       "  </tbody>\n",
       "</table>\n",
       "</div>"
      ],
      "text/plain": [
       "        dataset ice_features training_samples          model  accuracy  \\\n",
       "0    continuous            1              all  decision tree      0.50   \n",
       "1    continuous            1              all  random forest      1.00   \n",
       "2    continuous            1              100  decision tree      0.50   \n",
       "3    continuous            1              100  random forest      1.00   \n",
       "4    continuous          all              all  decision tree      0.50   \n",
       "5    continuous          all              all  random forest      1.00   \n",
       "6    continuous          all              100  decision tree      0.53   \n",
       "7    continuous          all              100  random forest      1.00   \n",
       "8   categorical            1              all  decision tree      0.50   \n",
       "9   categorical            1              all  random forest      0.76   \n",
       "10  categorical            1              100  decision tree      0.50   \n",
       "11  categorical            1              100  random forest      0.87   \n",
       "12  categorical          all              all  decision tree      0.50   \n",
       "13  categorical          all              all  random forest      0.95   \n",
       "14  categorical          all              100  decision tree      0.50   \n",
       "15  categorical          all              100  random forest      1.00   \n",
       "\n",
       "    sensitivity  specificity  \n",
       "0           1.0         0.00  \n",
       "1           1.0         1.00  \n",
       "2           1.0         0.00  \n",
       "3           1.0         1.00  \n",
       "4           1.0         0.00  \n",
       "5           1.0         1.00  \n",
       "6           1.0         0.06  \n",
       "7           1.0         1.00  \n",
       "8           1.0         0.00  \n",
       "9           1.0         0.52  \n",
       "10          1.0         0.00  \n",
       "11          1.0         0.74  \n",
       "12          1.0         0.00  \n",
       "13          1.0         0.90  \n",
       "14          1.0         0.00  \n",
       "15          1.0         1.00  "
      ]
     },
     "execution_count": 167,
     "metadata": {},
     "output_type": "execute_result"
    }
   ],
   "source": [
    "results"
   ]
  },
  {
   "cell_type": "code",
   "execution_count": null,
   "id": "0ff0de03",
   "metadata": {},
   "outputs": [],
   "source": []
  }
 ],
 "metadata": {
  "kernelspec": {
   "display_name": "Python 3 (ipykernel)",
   "language": "python",
   "name": "python3"
  },
  "language_info": {
   "codemirror_mode": {
    "name": "ipython",
    "version": 3
   },
   "file_extension": ".py",
   "mimetype": "text/x-python",
   "name": "python",
   "nbconvert_exporter": "python",
   "pygments_lexer": "ipython3",
   "version": "3.9.5"
  }
 },
 "nbformat": 4,
 "nbformat_minor": 5
}
