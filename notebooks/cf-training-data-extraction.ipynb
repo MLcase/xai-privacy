{
 "cells": [
  {
   "cell_type": "markdown",
   "id": "75916e17",
   "metadata": {},
   "source": [
    "# Counterfactuals Training Data Extraction Demonstration"
   ]
  },
  {
   "cell_type": "code",
   "execution_count": 27,
   "id": "f6661d3f",
   "metadata": {},
   "outputs": [],
   "source": [
    "import pandas as pd\n",
    "import sklearn.ensemble as es\n",
    "from sklearn.compose import ColumnTransformer\n",
    "from sklearn.tree import DecisionTreeClassifier\n",
    "from sklearn.model_selection import train_test_split\n",
    "import matplotlib.pyplot as plt\n",
    "from sklearn.preprocessing import LabelEncoder\n",
    "from sklearn.pipeline import Pipeline\n",
    "from sklearn.preprocessing import OneHotEncoder\n",
    "from sklearn.preprocessing import LabelEncoder\n",
    "import numpy as np\n",
    "import random\n",
    "import logging\n",
    "import sys\n",
    "import time\n",
    "import multiprocessing\n",
    "import dice_ml"
   ]
  },
  {
   "cell_type": "markdown",
   "id": "c6a61bbc",
   "metadata": {},
   "source": [
    "This notebook will test whether training data extraction is possible with counterfactuals (CF) that are drawn from the training data. Training data extraction means an attacker can find out the feature values of samples from the training data without prior knowledge of them. The attacker only has access to the model's prediction function and the explanation.\n",
    "\n",
    "This attack should be trivial because any counterfactual that is shown as an explanation was picked directly from the training data.\n",
    "\n",
    "First we define the function that will run the experiment for the different variations. The attacker makes repeated queries to the model with random input values. In order to do this, the attacker knows the maximum and minimum value of each feature in the training data. Each counterfactual is recorded and in the end, it is checked what percentage of them is contained in the training data."
   ]
  },
  {
   "cell_type": "code",
   "execution_count": 28,
   "id": "937b3caf",
   "metadata": {},
   "outputs": [],
   "source": [
    "# data: pandas dataframe of the training data\n",
    "# repetitions: number of experiment repetitions = number of queries to the model\n",
    "# continuous_features: names of the continuous features in the training data\n",
    "# outcome_name: name of the label in the training data\n",
    "# classifier: machine learning classifier to train on the training data\n",
    "# random_state: seed for random decisions\n",
    "# returns: accuracy of training data extraction with counterfactuals\n",
    "def experiment(data, repetitions, continuous_features, outcome_name, classifier, random_state=0):\n",
    "    rng = np.random.default_rng(random_state)\n",
    "    \n",
    "    data_np = data.to_numpy().astype(float)\n",
    "    \n",
    "    features = data.drop(outcome_name, axis=1)\n",
    "    labels = data[outcome_name]\n",
    "    \n",
    "    features_np = features.to_numpy().astype(float)\n",
    "    \n",
    "    num_features =  features.shape[1]\n",
    "    \n",
    "    # names of the categorical features\n",
    "    categorical_features = features.columns.difference(continuous_features)\n",
    "    \n",
    "    logging.debug(\"Categorical features: %s\" % categorical_features)\n",
    "    \n",
    "    # DiCE needs categorical features to be strings:\n",
    "    for col in categorical_features:\n",
    "        data[col]= data[col].astype(str)\n",
    "        features[col] = features[col].astype(str)\n",
    "    \n",
    "    if len(categorical_features) > 0:\n",
    "        # DiCE did not work without this pipeline for categorical features\n",
    "        # Define transformer to transform categorical features into one-hot encoding\n",
    "        categorical_transformer = Pipeline(steps=[\n",
    "            ('onehot', OneHotEncoder(handle_unknown='ignore'))\n",
    "        ])\n",
    "\n",
    "        transformations = ColumnTransformer(transformers=[\n",
    "            ('cat', categorical_transformer, categorical_features)\n",
    "        ])\n",
    "\n",
    "        # Train classifier on given data\n",
    "        clf = Pipeline(steps=[('preprocessor', transformations),\n",
    "                              ('classifier', classifier)])\n",
    "        clf = clf.fit(features, labels)\n",
    "    else:\n",
    "        # If there are no categorical features, then nothing needs to be transformed\n",
    "        clf = classifier.fit(features, labels)\n",
    "    \n",
    "    # Train explainer on given data and use method \"kd-tree\" to get counterfactuals drawn from the training data\n",
    "    d = dice_ml.Data(dataframe=data, continuous_features=continuous_features, outcome_name=outcome_name)\n",
    "    m = dice_ml.Model(model=clf, backend=\"sklearn\", model_type='classifier')\n",
    "    exp = dice_ml.Dice(d, m, method=\"kdtree\")\n",
    "    \n",
    "    # Get the minimum and maximum value for all features in the training data. The attacker needs this information to \n",
    "    # create random samples for queries.\n",
    "    feature_mins = np.amin(features_np, axis=0)\n",
    "    feature_maxs = np.amax(features_np, axis=0)\n",
    "    \n",
    "    logging.debug(\"Minimum values of features: %s \" % feature_mins)\n",
    "    logging.debug(\"Maximum values of features: %s \" % feature_maxs)\n",
    "    \n",
    "    # Generate random samples:\n",
    "    samples_float = rng.uniform(feature_mins, feature_maxs, (repetitions, num_features))\n",
    "    samples = np.rint(samples_float)\n",
    "    samples = samples.astype(int)\n",
    "    \n",
    "    logging.debug(\"Getting counterfactuals for following random samples: \\n %s\" % samples)\n",
    "\n",
    "    # Create dataframe from numpy array of random samples\n",
    "    samples_df = pd.DataFrame(data=samples, columns=list(features.columns.values))\n",
    "    \n",
    "    # Cast categorical features to string again because of DiCE peculiarities\n",
    "    for col in categorical_features:\n",
    "        samples_df[col]= samples_df[col].astype(str)\n",
    "\n",
    "    # Get five counterfactuals for each random sample\n",
    "    e1 = exp.generate_counterfactuals(samples_df, total_CFs=5, desired_class=\"opposite\")\n",
    "    \n",
    "    list_of_counterfactuals = []\n",
    "    \n",
    "    for cf_examples in e1.cf_examples_list:\n",
    "        # Get counterfactuals as dataframe. See https://github.com/interpretml/DiCE/issues/174\n",
    "        # Use sparse final cfs instead of just final_cfs_df because those are the counterfactuals that are also shown by default\n",
    "        # with the function visualize_as_dataframe()\n",
    "        list_of_counterfactuals.append(cf_examples.final_cfs_df_sparse.to_numpy())\n",
    "\n",
    "    counterfactuals = np.concatenate(list_of_counterfactuals)\n",
    "    counterfactuals = counterfactuals.astype(float)\n",
    "        \n",
    "    number_of_cfs_in_training_data = 0\n",
    "    number_of_cfs = counterfactuals.shape[0]\n",
    "\n",
    "    # Check how many counterfactuals can be found in the training data\n",
    "    for counterfactual in counterfactuals:\n",
    "\n",
    "        # Get all indices of the counterfactual in the given training data. data_np == row creates a boolean array with\n",
    "        # True if the cells match and False otherwise. all(axis=1) returns for each row if all elements in the row are True.\n",
    "        # np.where returns an array of indices where the boolean array contains the value True.\n",
    "        indices_of_counterfactual = np.where(np.isclose(data_np, counterfactual).all(axis=1))[0]\n",
    "\n",
    "        if indices_of_counterfactual.shape[0] > 0:\n",
    "            logging.debug(\"Counterfactual %s appears in training data at indices %s\" % (counterfactual,\\\n",
    "                                                                                        indices_of_counterfactual))\n",
    "            number_of_cfs_in_training_data += 1\n",
    "        else:\n",
    "            logging.debug(\"Counterfactual %s does not appear in training data\" % counterfactual)\n",
    "\n",
    "    # Calculate percentage of counterfactuals that appear in the training data\n",
    "    accuracy = number_of_cfs_in_training_data / number_of_cfs\n",
    "            \n",
    "    print(\"Percentage of counterfactuals that appear in training data: %s\" % accuracy)\n",
    "    \n",
    "    return accuracy"
   ]
  },
  {
   "cell_type": "markdown",
   "id": "d2ef61e5",
   "metadata": {},
   "source": [
    "# Dataset 1: Heart Disease"
   ]
  },
  {
   "cell_type": "markdown",
   "id": "eec7e1e9",
   "metadata": {},
   "source": [
    "Load dataset one: heart disease"
   ]
  },
  {
   "cell_type": "code",
   "execution_count": 29,
   "id": "035f86f2",
   "metadata": {},
   "outputs": [],
   "source": [
    "filename = '../data/framingham.csv'\n",
    "\n",
    "names = ['sex', 'age', 'education', 'smoker', 'cigs_per_day', 'bp_meds', 'prevalent_stroke', 'prevelant_hyp', 'diabetes', \\\n",
    "         'total_chol', 'sys_bp', 'dia_bp', 'bmi', 'heart_rate', 'glucose', 'heart_disease_label']\n",
    "\n",
    "data = pd.read_csv(filename, names=names)"
   ]
  },
  {
   "cell_type": "markdown",
   "id": "fc59b38b",
   "metadata": {},
   "source": [
    "For this dataset we only look at numerical data so we drop the categorical columns. We also drop the column \"education\" for which there is no feature description on kaggle: https://www.kaggle.com/dileep070/heart-disease-prediction-using-logistic-regression"
   ]
  },
  {
   "cell_type": "code",
   "execution_count": 30,
   "id": "c74db71d",
   "metadata": {},
   "outputs": [
    {
     "data": {
      "text/html": [
       "<div>\n",
       "<style scoped>\n",
       "    .dataframe tbody tr th:only-of-type {\n",
       "        vertical-align: middle;\n",
       "    }\n",
       "\n",
       "    .dataframe tbody tr th {\n",
       "        vertical-align: top;\n",
       "    }\n",
       "\n",
       "    .dataframe thead th {\n",
       "        text-align: right;\n",
       "    }\n",
       "</style>\n",
       "<table border=\"1\" class=\"dataframe\">\n",
       "  <thead>\n",
       "    <tr style=\"text-align: right;\">\n",
       "      <th></th>\n",
       "      <th>age</th>\n",
       "      <th>cigs_per_day</th>\n",
       "      <th>total_chol</th>\n",
       "      <th>sys_bp</th>\n",
       "      <th>dia_bp</th>\n",
       "      <th>bmi</th>\n",
       "      <th>heart_rate</th>\n",
       "      <th>glucose</th>\n",
       "      <th>heart_disease_label</th>\n",
       "    </tr>\n",
       "  </thead>\n",
       "  <tbody>\n",
       "    <tr>\n",
       "      <th>0</th>\n",
       "      <td>39</td>\n",
       "      <td>0.0</td>\n",
       "      <td>195.0</td>\n",
       "      <td>106.0</td>\n",
       "      <td>70.0</td>\n",
       "      <td>26.97</td>\n",
       "      <td>80.0</td>\n",
       "      <td>77.0</td>\n",
       "      <td>0</td>\n",
       "    </tr>\n",
       "    <tr>\n",
       "      <th>1</th>\n",
       "      <td>46</td>\n",
       "      <td>0.0</td>\n",
       "      <td>250.0</td>\n",
       "      <td>121.0</td>\n",
       "      <td>81.0</td>\n",
       "      <td>28.73</td>\n",
       "      <td>95.0</td>\n",
       "      <td>76.0</td>\n",
       "      <td>0</td>\n",
       "    </tr>\n",
       "    <tr>\n",
       "      <th>2</th>\n",
       "      <td>48</td>\n",
       "      <td>20.0</td>\n",
       "      <td>245.0</td>\n",
       "      <td>127.5</td>\n",
       "      <td>80.0</td>\n",
       "      <td>25.34</td>\n",
       "      <td>75.0</td>\n",
       "      <td>70.0</td>\n",
       "      <td>0</td>\n",
       "    </tr>\n",
       "    <tr>\n",
       "      <th>3</th>\n",
       "      <td>61</td>\n",
       "      <td>30.0</td>\n",
       "      <td>225.0</td>\n",
       "      <td>150.0</td>\n",
       "      <td>95.0</td>\n",
       "      <td>28.58</td>\n",
       "      <td>65.0</td>\n",
       "      <td>103.0</td>\n",
       "      <td>1</td>\n",
       "    </tr>\n",
       "    <tr>\n",
       "      <th>4</th>\n",
       "      <td>46</td>\n",
       "      <td>23.0</td>\n",
       "      <td>285.0</td>\n",
       "      <td>130.0</td>\n",
       "      <td>84.0</td>\n",
       "      <td>23.10</td>\n",
       "      <td>85.0</td>\n",
       "      <td>85.0</td>\n",
       "      <td>0</td>\n",
       "    </tr>\n",
       "  </tbody>\n",
       "</table>\n",
       "</div>"
      ],
      "text/plain": [
       "   age  cigs_per_day  total_chol  sys_bp  dia_bp    bmi  heart_rate  glucose  \\\n",
       "0   39           0.0       195.0   106.0    70.0  26.97        80.0     77.0   \n",
       "1   46           0.0       250.0   121.0    81.0  28.73        95.0     76.0   \n",
       "2   48          20.0       245.0   127.5    80.0  25.34        75.0     70.0   \n",
       "3   61          30.0       225.0   150.0    95.0  28.58        65.0    103.0   \n",
       "4   46          23.0       285.0   130.0    84.0  23.10        85.0     85.0   \n",
       "\n",
       "   heart_disease_label  \n",
       "0                    0  \n",
       "1                    0  \n",
       "2                    0  \n",
       "3                    1  \n",
       "4                    0  "
      ]
     },
     "execution_count": 30,
     "metadata": {},
     "output_type": "execute_result"
    }
   ],
   "source": [
    "data_num = data.drop('sex', axis=1).drop('smoker', axis=1).drop('bp_meds', axis=1).drop('prevalent_stroke', axis=1)\\\n",
    "    .drop('prevelant_hyp', axis=1).drop('diabetes', axis=1).drop('education', axis=1)\n",
    "\n",
    "data_num.head(5)"
   ]
  },
  {
   "cell_type": "markdown",
   "id": "5added0a",
   "metadata": {},
   "source": [
    "Remove any rows that are missing data. Afterwards there should be no more entries with NaN values. We also drop any duplicate rows."
   ]
  },
  {
   "cell_type": "code",
   "execution_count": 31,
   "id": "81a93713",
   "metadata": {},
   "outputs": [
    {
     "data": {
      "text/plain": [
       "age                    0\n",
       "cigs_per_day           0\n",
       "total_chol             0\n",
       "sys_bp                 0\n",
       "dia_bp                 0\n",
       "bmi                    0\n",
       "heart_rate             0\n",
       "glucose                0\n",
       "heart_disease_label    0\n",
       "dtype: int64"
      ]
     },
     "execution_count": 31,
     "metadata": {},
     "output_type": "execute_result"
    }
   ],
   "source": [
    "data_num = data_num.dropna()\n",
    "data_num = data_num.drop_duplicates()\n",
    "\n",
    "data_num_100 = data_num.sample(n = 100, random_state=13)\n",
    "\n",
    "continuous_features_num = ['age', 'cigs_per_day', 'total_chol', 'sys_bp', 'dia_bp', 'bmi', 'heart_rate', 'glucose']\n",
    "outcome_name_num = 'heart_disease_label'\n",
    "\n",
    "data_num.isnull().sum()"
   ]
  },
  {
   "cell_type": "markdown",
   "id": "d02a2083",
   "metadata": {},
   "source": [
    "We now generate five counterfactuals for the first sample from the training data to demonstrate counterfactual explanations in general."
   ]
  },
  {
   "cell_type": "code",
   "execution_count": 32,
   "id": "64c4cf59",
   "metadata": {},
   "outputs": [],
   "source": [
    "features = data_num.drop('heart_disease_label', axis=1)\n",
    "labels = data_num['heart_disease_label']\n",
    "\n",
    "# Train a random forest classifier on training data.\n",
    "clf = es.RandomForestClassifier(random_state=0)\n",
    "clf = clf.fit(features, labels)\n",
    "\n",
    "# Train explainer\n",
    "d = dice_ml.Data(dataframe=data_num, continuous_features=continuous_features_num, outcome_name=outcome_name_num)\n",
    "\n",
    "\n",
    "m = dice_ml.Model(model=clf, backend=\"sklearn\", model_type='classifier')\n",
    "# Generating counterfactuals from training data (kd-tree)\n",
    "exp = dice_ml.Dice(d, m, method=\"kdtree\")"
   ]
  },
  {
   "cell_type": "code",
   "execution_count": 33,
   "id": "508a451a",
   "metadata": {},
   "outputs": [
    {
     "name": "stderr",
     "output_type": "stream",
     "text": [
      "  0%|          | 0/1 [00:00<?, ?it/s]WARNING:root: MAD for feature cigs_per_day is 0, so replacing it with 1.0 to avoid error.\n",
      "100%|██████████| 1/1 [00:03<00:00,  3.23s/it]"
     ]
    },
    {
     "name": "stdout",
     "output_type": "stream",
     "text": [
      "Query instance (original outcome : 0)\n"
     ]
    },
    {
     "name": "stderr",
     "output_type": "stream",
     "text": [
      "\n"
     ]
    },
    {
     "data": {
      "text/html": [
       "<div>\n",
       "<style scoped>\n",
       "    .dataframe tbody tr th:only-of-type {\n",
       "        vertical-align: middle;\n",
       "    }\n",
       "\n",
       "    .dataframe tbody tr th {\n",
       "        vertical-align: top;\n",
       "    }\n",
       "\n",
       "    .dataframe thead th {\n",
       "        text-align: right;\n",
       "    }\n",
       "</style>\n",
       "<table border=\"1\" class=\"dataframe\">\n",
       "  <thead>\n",
       "    <tr style=\"text-align: right;\">\n",
       "      <th></th>\n",
       "      <th>age</th>\n",
       "      <th>cigs_per_day</th>\n",
       "      <th>total_chol</th>\n",
       "      <th>sys_bp</th>\n",
       "      <th>dia_bp</th>\n",
       "      <th>bmi</th>\n",
       "      <th>heart_rate</th>\n",
       "      <th>glucose</th>\n",
       "      <th>heart_disease_label</th>\n",
       "    </tr>\n",
       "  </thead>\n",
       "  <tbody>\n",
       "    <tr>\n",
       "      <th>0</th>\n",
       "      <td>39</td>\n",
       "      <td>0.0</td>\n",
       "      <td>195.0</td>\n",
       "      <td>106.0</td>\n",
       "      <td>70.0</td>\n",
       "      <td>26.97</td>\n",
       "      <td>80.0</td>\n",
       "      <td>77.0</td>\n",
       "      <td>0</td>\n",
       "    </tr>\n",
       "  </tbody>\n",
       "</table>\n",
       "</div>"
      ],
      "text/plain": [
       "   age  cigs_per_day  total_chol  sys_bp  dia_bp    bmi  heart_rate  glucose  \\\n",
       "0   39           0.0       195.0   106.0    70.0  26.97        80.0     77.0   \n",
       "\n",
       "   heart_disease_label  \n",
       "0                    0  "
      ]
     },
     "metadata": {},
     "output_type": "display_data"
    },
    {
     "name": "stdout",
     "output_type": "stream",
     "text": [
      "\n",
      "Diverse Counterfactual set (new outcome: 1.0)\n"
     ]
    },
    {
     "data": {
      "text/html": [
       "<div>\n",
       "<style scoped>\n",
       "    .dataframe tbody tr th:only-of-type {\n",
       "        vertical-align: middle;\n",
       "    }\n",
       "\n",
       "    .dataframe tbody tr th {\n",
       "        vertical-align: top;\n",
       "    }\n",
       "\n",
       "    .dataframe thead th {\n",
       "        text-align: right;\n",
       "    }\n",
       "</style>\n",
       "<table border=\"1\" class=\"dataframe\">\n",
       "  <thead>\n",
       "    <tr style=\"text-align: right;\">\n",
       "      <th></th>\n",
       "      <th>age</th>\n",
       "      <th>cigs_per_day</th>\n",
       "      <th>total_chol</th>\n",
       "      <th>sys_bp</th>\n",
       "      <th>dia_bp</th>\n",
       "      <th>bmi</th>\n",
       "      <th>heart_rate</th>\n",
       "      <th>glucose</th>\n",
       "      <th>heart_disease_label</th>\n",
       "    </tr>\n",
       "  </thead>\n",
       "  <tbody>\n",
       "    <tr>\n",
       "      <th>0</th>\n",
       "      <td>44.0</td>\n",
       "      <td>-</td>\n",
       "      <td>180.0</td>\n",
       "      <td>-</td>\n",
       "      <td>-</td>\n",
       "      <td>23.98</td>\n",
       "      <td>92.0</td>\n",
       "      <td>67.0</td>\n",
       "      <td>1.0</td>\n",
       "    </tr>\n",
       "    <tr>\n",
       "      <th>1</th>\n",
       "      <td>64.0</td>\n",
       "      <td>-</td>\n",
       "      <td>210.0</td>\n",
       "      <td>120.0</td>\n",
       "      <td>-</td>\n",
       "      <td>24.77</td>\n",
       "      <td>-</td>\n",
       "      <td>-</td>\n",
       "      <td>1.0</td>\n",
       "    </tr>\n",
       "    <tr>\n",
       "      <th>2</th>\n",
       "      <td>43.0</td>\n",
       "      <td>-</td>\n",
       "      <td>-</td>\n",
       "      <td>121.5</td>\n",
       "      <td>86.5</td>\n",
       "      <td>20.82</td>\n",
       "      <td>92.0</td>\n",
       "      <td>-</td>\n",
       "      <td>-</td>\n",
       "    </tr>\n",
       "    <tr>\n",
       "      <th>3</th>\n",
       "      <td>49.0</td>\n",
       "      <td>-</td>\n",
       "      <td>211.0</td>\n",
       "      <td>104.2</td>\n",
       "      <td>66.7</td>\n",
       "      <td>24.17</td>\n",
       "      <td>75.0</td>\n",
       "      <td>87.0</td>\n",
       "      <td>1.0</td>\n",
       "    </tr>\n",
       "    <tr>\n",
       "      <th>4</th>\n",
       "      <td>50.0</td>\n",
       "      <td>-</td>\n",
       "      <td>-</td>\n",
       "      <td>126.0</td>\n",
       "      <td>88.0</td>\n",
       "      <td>-</td>\n",
       "      <td>-</td>\n",
       "      <td>-</td>\n",
       "      <td>1.0</td>\n",
       "    </tr>\n",
       "  </tbody>\n",
       "</table>\n",
       "</div>"
      ],
      "text/plain": [
       "    age cigs_per_day total_chol sys_bp dia_bp    bmi heart_rate glucose  \\\n",
       "0  44.0            -      180.0      -      -  23.98       92.0    67.0   \n",
       "1  64.0            -      210.0  120.0      -  24.77          -       -   \n",
       "2  43.0            -          -  121.5   86.5  20.82       92.0       -   \n",
       "3  49.0            -      211.0  104.2   66.7  24.17       75.0    87.0   \n",
       "4  50.0            -          -  126.0   88.0      -          -       -   \n",
       "\n",
       "  heart_disease_label  \n",
       "0                 1.0  \n",
       "1                 1.0  \n",
       "2                   -  \n",
       "3                 1.0  \n",
       "4                 1.0  "
      ]
     },
     "metadata": {},
     "output_type": "display_data"
    }
   ],
   "source": [
    "e1 = exp.generate_counterfactuals(features[0:1], total_CFs=5, desired_class=\"opposite\")\n",
    "e1.visualize_as_dataframe(show_only_changes=True)"
   ]
  },
  {
   "cell_type": "markdown",
   "id": "084cf1e0",
   "metadata": {},
   "source": [
    "We can see that the counterfactuals are similar to the query sample and that most of them have a flipped prediction. These are the two general properties of counterfactual explanations.\n",
    "\n",
    "We will now do a small proof of concept of the experiment with logging enabled to demonstrate how it works."
   ]
  },
  {
   "cell_type": "code",
   "execution_count": 34,
   "id": "cacf1093",
   "metadata": {},
   "outputs": [
    {
     "name": "stderr",
     "output_type": "stream",
     "text": [
      "DEBUG:root:Categorical features: Index([], dtype='object')\n",
      "DEBUG:root:Minimum values of features: [ 32.           0.         113.          83.5         48.\n",
      "  15.53999996  44.          40.        ] \n",
      "DEBUG:root:Maximum values of features: [ 70.          70.         696.         295.         142.5\n",
      "  56.79999924 143.         394.        ] \n",
      "DEBUG:root:Getting counterfactuals for following random samples: \n",
      " [[ 56  19 137  87 125  53 104 298]\n",
      " [ 53  65 589  84 129  17 116 102]]\n",
      "  0%|          | 0/2 [00:00<?, ?it/s]WARNING:root: MAD for feature cigs_per_day is 0, so replacing it with 1.0 to avoid error.\n",
      " 50%|█████     | 1/2 [00:01<00:01,  1.15s/it]WARNING:root: MAD for feature cigs_per_day is 0, so replacing it with 1.0 to avoid error.\n",
      "100%|██████████| 2/2 [00:02<00:00,  1.38s/it]\n",
      "DEBUG:root:Counterfactual [ 56.     0.   214.   115.    80.    25.09  70.   298.     1.  ] does not appear in training data\n",
      "DEBUG:root:Counterfactual [ 56.     0.   273.   136.    80.    27.73  90.   210.     1.  ] appears in training data at indices [3667]\n",
      "DEBUG:root:Counterfactual [ 61.    0.  265.  200.  125.   29.5  68.  256.    1. ] appears in training data at indices [3648]\n",
      "DEBUG:root:Counterfactual [ 56.    10.   241.   174.    97.    29.22  90.   135.     1.  ] appears in training data at indices [3085]\n",
      "DEBUG:root:Counterfactual [ 56.    19.   205.   210.   130.    25.49  95.   127.     1.  ] does not appear in training data\n",
      "DEBUG:root:Counterfactual [ 53.     0.   370.   123.    83.    24.64  63.    74.     1.  ] appears in training data at indices [480]\n",
      "DEBUG:root:Counterfactual [ 53.    0.  310.  146.   91.   29.3  75.   72.    1. ] appears in training data at indices [2135]\n",
      "DEBUG:root:Counterfactual [ 53.     0.   588.9  159.5   94.    28.27  78.   140.     1.  ] does not appear in training data\n",
      "DEBUG:root:Counterfactual [ 42.    0.  464.  128.   87.   22.9  72.   72.    1. ] appears in training data at indices [182]\n",
      "DEBUG:root:Counterfactual [ 47.    18.   439.   145.    74.    22.42 100.    90.     1.  ] appears in training data at indices [489]\n"
     ]
    },
    {
     "name": "stdout",
     "output_type": "stream",
     "text": [
      "Percentage of counterfactuals that appear in training data: 0.7\n"
     ]
    }
   ],
   "source": [
    "logging.root.setLevel(logging.DEBUG)\n",
    "\n",
    "experiment(data_num, repetitions=2, continuous_features=continuous_features_num, outcome_name=outcome_name_num,\\\n",
    "           random_state=0, classifier=es.RandomForestClassifier(random_state=0))\n",
    "\n",
    "logging.root.setLevel(logging.ERROR)"
   ]
  },
  {
   "cell_type": "markdown",
   "id": "8ff16a3c",
   "metadata": {},
   "source": [
    "We can see that some counterfactuals can be found in the training data, while others cannot. This is due to the sparsity induced by the counterfactual explainer. Some counterfactuals do not retain all their original feature values from the training data. Instead, feature values that lie close to the feature values of the query instance are replaced by those original values. Therefore, some counterfactuals may not appear in the training data.\n",
    "\n",
    "We can now begin with the actual experiments."
   ]
  },
  {
   "cell_type": "code",
   "execution_count": 35,
   "id": "10674b35",
   "metadata": {
    "scrolled": true
   },
   "outputs": [],
   "source": [
    "results_ = {'dataset': [], 'training_samples': [], 'model': [], 'accuracy': []}\n",
    "\n",
    "results = pd.DataFrame(data = results_)"
   ]
  },
  {
   "cell_type": "code",
   "execution_count": 36,
   "id": "eca0a6ed",
   "metadata": {
    "scrolled": true
   },
   "outputs": [
    {
     "name": "stdout",
     "output_type": "stream",
     "text": [
      "features: continuous, training samples: all, model: decision tree.\n"
     ]
    },
    {
     "name": "stderr",
     "output_type": "stream",
     "text": [
      "100%|██████████| 100/100 [00:26<00:00,  3.81it/s]\n"
     ]
    },
    {
     "name": "stdout",
     "output_type": "stream",
     "text": [
      "Percentage of counterfactuals that appear in training data: 0.6\n",
      "--- 26.528949975967407 seconds ---\n"
     ]
    }
   ],
   "source": [
    "print(\"features: continuous, training samples: all, model: decision tree.\")\n",
    "\n",
    "start_time = time.time()\n",
    "\n",
    "accuracy = experiment(data_num, repetitions=100, continuous_features=continuous_features_num, outcome_name=outcome_name_num,\\\n",
    "                      classifier=DecisionTreeClassifier(random_state=0), random_state=0)\n",
    "\n",
    "results.loc[len(results.index)] = ['continuous', 'all', 'decision tree', accuracy]\n",
    "\n",
    "print(\"--- %s seconds ---\" % (time.time() - start_time))"
   ]
  },
  {
   "cell_type": "code",
   "execution_count": 37,
   "id": "209abdac",
   "metadata": {
    "scrolled": true
   },
   "outputs": [
    {
     "name": "stdout",
     "output_type": "stream",
     "text": [
      "features: continuous, training samples: all, model: random forest.\n"
     ]
    },
    {
     "name": "stderr",
     "output_type": "stream",
     "text": [
      "100%|██████████| 100/100 [02:12<00:00,  1.33s/it]\n"
     ]
    },
    {
     "name": "stdout",
     "output_type": "stream",
     "text": [
      "Percentage of counterfactuals that appear in training data: 0.598\n",
      "--- 133.6598916053772 seconds ---\n"
     ]
    }
   ],
   "source": [
    "print(\"features: continuous, training samples: all, model: random forest.\")\n",
    "\n",
    "start_time = time.time()\n",
    "\n",
    "accuracy = experiment(data_num, repetitions=100, continuous_features=continuous_features_num, outcome_name=outcome_name_num,\\\n",
    "                      classifier=es.RandomForestClassifier(random_state=0), random_state=0)\n",
    "\n",
    "results.loc[len(results.index)] = ['continuous', 'all', 'random forest', accuracy]\n",
    "\n",
    "print(\"--- %s seconds ---\" % (time.time() - start_time))"
   ]
  },
  {
   "cell_type": "code",
   "execution_count": 38,
   "id": "e3a8cb6a",
   "metadata": {
    "scrolled": true
   },
   "outputs": [
    {
     "name": "stdout",
     "output_type": "stream",
     "text": [
      "features: continuous, training samples: 100, model: decision tree.\n"
     ]
    },
    {
     "name": "stderr",
     "output_type": "stream",
     "text": [
      "100%|██████████| 100/100 [00:14<00:00,  6.77it/s]\n"
     ]
    },
    {
     "name": "stdout",
     "output_type": "stream",
     "text": [
      "Percentage of counterfactuals that appear in training data: 0.648\n",
      "--- 14.971148252487183 seconds ---\n"
     ]
    }
   ],
   "source": [
    "print(\"features: continuous, training samples: 100, model: decision tree.\")\n",
    "\n",
    "start_time = time.time()\n",
    "\n",
    "accuracy = experiment(data_num_100, repetitions=100, continuous_features=continuous_features_num, outcome_name=outcome_name_num,\\\n",
    "                      classifier=DecisionTreeClassifier(random_state=0), random_state=0)\n",
    "\n",
    "results.loc[len(results.index)] = ['continuous', '100', 'decision tree', accuracy]\n",
    "\n",
    "print(\"--- %s seconds ---\" % (time.time() - start_time))"
   ]
  },
  {
   "cell_type": "code",
   "execution_count": 39,
   "id": "099719a4",
   "metadata": {},
   "outputs": [
    {
     "name": "stdout",
     "output_type": "stream",
     "text": [
      "features: continuous, training samples: 100, model: random forest.\n"
     ]
    },
    {
     "name": "stderr",
     "output_type": "stream",
     "text": [
      "100%|██████████| 100/100 [01:00<00:00,  1.64it/s]"
     ]
    },
    {
     "name": "stdout",
     "output_type": "stream",
     "text": [
      "Percentage of counterfactuals that appear in training data: 0.646\n",
      "--- 61.261871099472046 seconds ---\n"
     ]
    },
    {
     "name": "stderr",
     "output_type": "stream",
     "text": [
      "\n"
     ]
    }
   ],
   "source": [
    "print(\"features: continuous, training samples: 100, model: random forest.\")\n",
    "\n",
    "start_time = time.time()\n",
    "\n",
    "accuracy = experiment(data_num_100, repetitions=100, continuous_features=continuous_features_num, outcome_name=outcome_name_num,\\\n",
    "                      classifier=es.RandomForestClassifier(random_state=0), random_state=0)\n",
    "\n",
    "results.loc[len(results.index)] = ['continuous', '100', 'random forest', accuracy]\n",
    "\n",
    "print(\"--- %s seconds ---\" % (time.time() - start_time))"
   ]
  },
  {
   "cell_type": "markdown",
   "id": "f30466d5",
   "metadata": {},
   "source": [
    "# Dataset 2: Census Income (categorical)"
   ]
  },
  {
   "cell_type": "markdown",
   "id": "b4191a6b",
   "metadata": {},
   "source": [
    "Load dataset two: census income"
   ]
  },
  {
   "cell_type": "code",
   "execution_count": 40,
   "id": "5caa753d",
   "metadata": {},
   "outputs": [],
   "source": [
    "filename = '../data/adult.data.csv'\n",
    "\n",
    "names = ['age', 'workclass', 'fnlwgt', 'education', 'education_num', 'marital_status', 'occupation', \\\n",
    "         'relationship', 'race', 'sex', 'capital_gain', 'capital_loss', 'hours_per_week', 'native_country', 'label']\n",
    "\n",
    "data_cat = pd.read_csv(filename, names=names)"
   ]
  },
  {
   "cell_type": "code",
   "execution_count": 41,
   "id": "85b3f6b4",
   "metadata": {},
   "outputs": [
    {
     "data": {
      "text/html": [
       "<div>\n",
       "<style scoped>\n",
       "    .dataframe tbody tr th:only-of-type {\n",
       "        vertical-align: middle;\n",
       "    }\n",
       "\n",
       "    .dataframe tbody tr th {\n",
       "        vertical-align: top;\n",
       "    }\n",
       "\n",
       "    .dataframe thead th {\n",
       "        text-align: right;\n",
       "    }\n",
       "</style>\n",
       "<table border=\"1\" class=\"dataframe\">\n",
       "  <thead>\n",
       "    <tr style=\"text-align: right;\">\n",
       "      <th></th>\n",
       "      <th>age</th>\n",
       "      <th>workclass</th>\n",
       "      <th>fnlwgt</th>\n",
       "      <th>education</th>\n",
       "      <th>education_num</th>\n",
       "      <th>marital_status</th>\n",
       "      <th>occupation</th>\n",
       "      <th>relationship</th>\n",
       "      <th>race</th>\n",
       "      <th>sex</th>\n",
       "      <th>capital_gain</th>\n",
       "      <th>capital_loss</th>\n",
       "      <th>hours_per_week</th>\n",
       "      <th>native_country</th>\n",
       "      <th>label</th>\n",
       "    </tr>\n",
       "  </thead>\n",
       "  <tbody>\n",
       "    <tr>\n",
       "      <th>0</th>\n",
       "      <td>39</td>\n",
       "      <td>State-gov</td>\n",
       "      <td>77516</td>\n",
       "      <td>Bachelors</td>\n",
       "      <td>13</td>\n",
       "      <td>Never-married</td>\n",
       "      <td>Adm-clerical</td>\n",
       "      <td>Not-in-family</td>\n",
       "      <td>White</td>\n",
       "      <td>Male</td>\n",
       "      <td>2174</td>\n",
       "      <td>0</td>\n",
       "      <td>40</td>\n",
       "      <td>United-States</td>\n",
       "      <td>&lt;=50K</td>\n",
       "    </tr>\n",
       "    <tr>\n",
       "      <th>1</th>\n",
       "      <td>50</td>\n",
       "      <td>Self-emp-not-inc</td>\n",
       "      <td>83311</td>\n",
       "      <td>Bachelors</td>\n",
       "      <td>13</td>\n",
       "      <td>Married-civ-spouse</td>\n",
       "      <td>Exec-managerial</td>\n",
       "      <td>Husband</td>\n",
       "      <td>White</td>\n",
       "      <td>Male</td>\n",
       "      <td>0</td>\n",
       "      <td>0</td>\n",
       "      <td>13</td>\n",
       "      <td>United-States</td>\n",
       "      <td>&lt;=50K</td>\n",
       "    </tr>\n",
       "    <tr>\n",
       "      <th>2</th>\n",
       "      <td>38</td>\n",
       "      <td>Private</td>\n",
       "      <td>215646</td>\n",
       "      <td>HS-grad</td>\n",
       "      <td>9</td>\n",
       "      <td>Divorced</td>\n",
       "      <td>Handlers-cleaners</td>\n",
       "      <td>Not-in-family</td>\n",
       "      <td>White</td>\n",
       "      <td>Male</td>\n",
       "      <td>0</td>\n",
       "      <td>0</td>\n",
       "      <td>40</td>\n",
       "      <td>United-States</td>\n",
       "      <td>&lt;=50K</td>\n",
       "    </tr>\n",
       "    <tr>\n",
       "      <th>3</th>\n",
       "      <td>53</td>\n",
       "      <td>Private</td>\n",
       "      <td>234721</td>\n",
       "      <td>11th</td>\n",
       "      <td>7</td>\n",
       "      <td>Married-civ-spouse</td>\n",
       "      <td>Handlers-cleaners</td>\n",
       "      <td>Husband</td>\n",
       "      <td>Black</td>\n",
       "      <td>Male</td>\n",
       "      <td>0</td>\n",
       "      <td>0</td>\n",
       "      <td>40</td>\n",
       "      <td>United-States</td>\n",
       "      <td>&lt;=50K</td>\n",
       "    </tr>\n",
       "    <tr>\n",
       "      <th>4</th>\n",
       "      <td>28</td>\n",
       "      <td>Private</td>\n",
       "      <td>338409</td>\n",
       "      <td>Bachelors</td>\n",
       "      <td>13</td>\n",
       "      <td>Married-civ-spouse</td>\n",
       "      <td>Prof-specialty</td>\n",
       "      <td>Wife</td>\n",
       "      <td>Black</td>\n",
       "      <td>Female</td>\n",
       "      <td>0</td>\n",
       "      <td>0</td>\n",
       "      <td>40</td>\n",
       "      <td>Cuba</td>\n",
       "      <td>&lt;=50K</td>\n",
       "    </tr>\n",
       "  </tbody>\n",
       "</table>\n",
       "</div>"
      ],
      "text/plain": [
       "   age          workclass  fnlwgt   education  education_num  \\\n",
       "0   39          State-gov   77516   Bachelors             13   \n",
       "1   50   Self-emp-not-inc   83311   Bachelors             13   \n",
       "2   38            Private  215646     HS-grad              9   \n",
       "3   53            Private  234721        11th              7   \n",
       "4   28            Private  338409   Bachelors             13   \n",
       "\n",
       "        marital_status          occupation    relationship    race      sex  \\\n",
       "0        Never-married        Adm-clerical   Not-in-family   White     Male   \n",
       "1   Married-civ-spouse     Exec-managerial         Husband   White     Male   \n",
       "2             Divorced   Handlers-cleaners   Not-in-family   White     Male   \n",
       "3   Married-civ-spouse   Handlers-cleaners         Husband   Black     Male   \n",
       "4   Married-civ-spouse      Prof-specialty            Wife   Black   Female   \n",
       "\n",
       "   capital_gain  capital_loss  hours_per_week  native_country   label  \n",
       "0          2174             0              40   United-States   <=50K  \n",
       "1             0             0              13   United-States   <=50K  \n",
       "2             0             0              40   United-States   <=50K  \n",
       "3             0             0              40   United-States   <=50K  \n",
       "4             0             0              40            Cuba   <=50K  "
      ]
     },
     "execution_count": 41,
     "metadata": {},
     "output_type": "execute_result"
    }
   ],
   "source": [
    "data_cat.head(5)"
   ]
  },
  {
   "cell_type": "markdown",
   "id": "00adfdcb",
   "metadata": {},
   "source": [
    "There is missing data in the columns workclass and native_country that needs to be removed."
   ]
  },
  {
   "cell_type": "code",
   "execution_count": 42,
   "id": "64057c61",
   "metadata": {},
   "outputs": [
    {
     "name": "stdout",
     "output_type": "stream",
     "text": [
      "Unique values of columns before removal: \n",
      "[' State-gov' ' Self-emp-not-inc' ' Private' ' Federal-gov' ' Local-gov'\n",
      " ' ?' ' Self-emp-inc' ' Without-pay' ' Never-worked']\n",
      "[' United-States' ' Cuba' ' Jamaica' ' India' ' ?' ' Mexico' ' South'\n",
      " ' Puerto-Rico' ' Honduras' ' England' ' Canada' ' Germany' ' Iran'\n",
      " ' Philippines' ' Italy' ' Poland' ' Columbia' ' Cambodia' ' Thailand'\n",
      " ' Ecuador' ' Laos' ' Taiwan' ' Haiti' ' Portugal' ' Dominican-Republic'\n",
      " ' El-Salvador' ' France' ' Guatemala' ' China' ' Japan' ' Yugoslavia'\n",
      " ' Peru' ' Outlying-US(Guam-USVI-etc)' ' Scotland' ' Trinadad&Tobago'\n",
      " ' Greece' ' Nicaragua' ' Vietnam' ' Hong' ' Ireland' ' Hungary'\n",
      " ' Holand-Netherlands']\n",
      "Unique values of columns after removal: \n",
      "[' State-gov' ' Self-emp-not-inc' ' Private' ' Federal-gov' ' Local-gov'\n",
      " ' Self-emp-inc' ' Without-pay' ' Never-worked']\n",
      "[' United-States' ' Cuba' ' Jamaica' ' India' ' Mexico' ' Puerto-Rico'\n",
      " ' Honduras' ' England' ' Canada' ' Germany' ' Iran' ' Philippines'\n",
      " ' Poland' ' Columbia' ' Cambodia' ' Thailand' ' Ecuador' ' Laos'\n",
      " ' Taiwan' ' Haiti' ' Portugal' ' Dominican-Republic' ' El-Salvador'\n",
      " ' France' ' Guatemala' ' Italy' ' China' ' South' ' Japan' ' Yugoslavia'\n",
      " ' Peru' ' Outlying-US(Guam-USVI-etc)' ' Scotland' ' Trinadad&Tobago'\n",
      " ' Greece' ' Nicaragua' ' Vietnam' ' Hong' ' Ireland' ' Hungary'\n",
      " ' Holand-Netherlands']\n"
     ]
    }
   ],
   "source": [
    "print(\"Unique values of columns before removal: \")\n",
    "print(data_cat.workclass.unique())\n",
    "print(data_cat.native_country.unique())\n",
    "\n",
    "data_cat = data_cat[data_cat.workclass != ' ?']\n",
    "data_cat = data_cat[data_cat.native_country != ' ?']\n",
    "\n",
    "print(\"Unique values of columns after removal: \")\n",
    "print(data_cat.workclass.unique())\n",
    "print(data_cat.native_country.unique())"
   ]
  },
  {
   "cell_type": "markdown",
   "id": "0a412dc0",
   "metadata": {},
   "source": [
    "We will only use the categorical features of this dataset. Remove continuous columns:"
   ]
  },
  {
   "cell_type": "code",
   "execution_count": 43,
   "id": "0845aec7",
   "metadata": {
    "scrolled": true
   },
   "outputs": [
    {
     "data": {
      "text/html": [
       "<div>\n",
       "<style scoped>\n",
       "    .dataframe tbody tr th:only-of-type {\n",
       "        vertical-align: middle;\n",
       "    }\n",
       "\n",
       "    .dataframe tbody tr th {\n",
       "        vertical-align: top;\n",
       "    }\n",
       "\n",
       "    .dataframe thead th {\n",
       "        text-align: right;\n",
       "    }\n",
       "</style>\n",
       "<table border=\"1\" class=\"dataframe\">\n",
       "  <thead>\n",
       "    <tr style=\"text-align: right;\">\n",
       "      <th></th>\n",
       "      <th>workclass</th>\n",
       "      <th>education</th>\n",
       "      <th>marital_status</th>\n",
       "      <th>occupation</th>\n",
       "      <th>relationship</th>\n",
       "      <th>race</th>\n",
       "      <th>sex</th>\n",
       "      <th>native_country</th>\n",
       "      <th>label</th>\n",
       "    </tr>\n",
       "  </thead>\n",
       "  <tbody>\n",
       "    <tr>\n",
       "      <th>0</th>\n",
       "      <td>State-gov</td>\n",
       "      <td>Bachelors</td>\n",
       "      <td>Never-married</td>\n",
       "      <td>Adm-clerical</td>\n",
       "      <td>Not-in-family</td>\n",
       "      <td>White</td>\n",
       "      <td>Male</td>\n",
       "      <td>United-States</td>\n",
       "      <td>&lt;=50K</td>\n",
       "    </tr>\n",
       "    <tr>\n",
       "      <th>1</th>\n",
       "      <td>Self-emp-not-inc</td>\n",
       "      <td>Bachelors</td>\n",
       "      <td>Married-civ-spouse</td>\n",
       "      <td>Exec-managerial</td>\n",
       "      <td>Husband</td>\n",
       "      <td>White</td>\n",
       "      <td>Male</td>\n",
       "      <td>United-States</td>\n",
       "      <td>&lt;=50K</td>\n",
       "    </tr>\n",
       "    <tr>\n",
       "      <th>2</th>\n",
       "      <td>Private</td>\n",
       "      <td>HS-grad</td>\n",
       "      <td>Divorced</td>\n",
       "      <td>Handlers-cleaners</td>\n",
       "      <td>Not-in-family</td>\n",
       "      <td>White</td>\n",
       "      <td>Male</td>\n",
       "      <td>United-States</td>\n",
       "      <td>&lt;=50K</td>\n",
       "    </tr>\n",
       "  </tbody>\n",
       "</table>\n",
       "</div>"
      ],
      "text/plain": [
       "           workclass   education       marital_status          occupation  \\\n",
       "0          State-gov   Bachelors        Never-married        Adm-clerical   \n",
       "1   Self-emp-not-inc   Bachelors   Married-civ-spouse     Exec-managerial   \n",
       "2            Private     HS-grad             Divorced   Handlers-cleaners   \n",
       "\n",
       "     relationship    race    sex  native_country   label  \n",
       "0   Not-in-family   White   Male   United-States   <=50K  \n",
       "1         Husband   White   Male   United-States   <=50K  \n",
       "2   Not-in-family   White   Male   United-States   <=50K  "
      ]
     },
     "execution_count": 43,
     "metadata": {},
     "output_type": "execute_result"
    }
   ],
   "source": [
    "data_cat = data_cat.drop('age', axis=1).drop('fnlwgt', axis=1).drop('education_num', axis=1).drop('capital_gain', axis=1)\\\n",
    "    .drop('capital_loss', axis=1).drop('hours_per_week', axis=1)\n",
    "\n",
    "data_cat.head(3)"
   ]
  },
  {
   "cell_type": "markdown",
   "id": "6d97aed2",
   "metadata": {},
   "source": [
    "Drop duplicates and create version with only 100 samples."
   ]
  },
  {
   "cell_type": "code",
   "execution_count": 44,
   "id": "d6e8e817",
   "metadata": {},
   "outputs": [],
   "source": [
    "data_cat.drop_duplicates()\n",
    "\n",
    "# This needs to be done before the transformations to label encoding. This smaller dataset will contain fewer categories\n",
    "# Otherwise, DiCE will later throw an error if random samples with categories are created, that do not exist in this dataset\n",
    "data_cat_100 = data_cat.sample(n = 100, random_state=0)"
   ]
  },
  {
   "cell_type": "markdown",
   "id": "f08b8cff",
   "metadata": {},
   "source": [
    "Transform workclass, education, marital_status, occupation, relationship, race, sex and native_country into label encoded features:"
   ]
  },
  {
   "cell_type": "code",
   "execution_count": 45,
   "id": "d11586fe",
   "metadata": {},
   "outputs": [
    {
     "data": {
      "text/html": [
       "<div>\n",
       "<style scoped>\n",
       "    .dataframe tbody tr th:only-of-type {\n",
       "        vertical-align: middle;\n",
       "    }\n",
       "\n",
       "    .dataframe tbody tr th {\n",
       "        vertical-align: top;\n",
       "    }\n",
       "\n",
       "    .dataframe thead th {\n",
       "        text-align: right;\n",
       "    }\n",
       "</style>\n",
       "<table border=\"1\" class=\"dataframe\">\n",
       "  <thead>\n",
       "    <tr style=\"text-align: right;\">\n",
       "      <th></th>\n",
       "      <th>sex</th>\n",
       "      <th>label</th>\n",
       "      <th>workclass_encoded</th>\n",
       "      <th>education_encoded</th>\n",
       "      <th>marital_status_encoded</th>\n",
       "      <th>occupation_encoded</th>\n",
       "      <th>relationship_encoded</th>\n",
       "      <th>race_encoded</th>\n",
       "      <th>native_country_encoded</th>\n",
       "    </tr>\n",
       "  </thead>\n",
       "  <tbody>\n",
       "    <tr>\n",
       "      <th>0</th>\n",
       "      <td>Male</td>\n",
       "      <td>&lt;=50K</td>\n",
       "      <td>6</td>\n",
       "      <td>9</td>\n",
       "      <td>4</td>\n",
       "      <td>1</td>\n",
       "      <td>1</td>\n",
       "      <td>4</td>\n",
       "      <td>38</td>\n",
       "    </tr>\n",
       "    <tr>\n",
       "      <th>1</th>\n",
       "      <td>Male</td>\n",
       "      <td>&lt;=50K</td>\n",
       "      <td>5</td>\n",
       "      <td>9</td>\n",
       "      <td>2</td>\n",
       "      <td>4</td>\n",
       "      <td>0</td>\n",
       "      <td>4</td>\n",
       "      <td>38</td>\n",
       "    </tr>\n",
       "    <tr>\n",
       "      <th>2</th>\n",
       "      <td>Male</td>\n",
       "      <td>&lt;=50K</td>\n",
       "      <td>3</td>\n",
       "      <td>11</td>\n",
       "      <td>0</td>\n",
       "      <td>6</td>\n",
       "      <td>1</td>\n",
       "      <td>4</td>\n",
       "      <td>38</td>\n",
       "    </tr>\n",
       "  </tbody>\n",
       "</table>\n",
       "</div>"
      ],
      "text/plain": [
       "     sex   label  workclass_encoded  education_encoded  \\\n",
       "0   Male   <=50K                  6                  9   \n",
       "1   Male   <=50K                  5                  9   \n",
       "2   Male   <=50K                  3                 11   \n",
       "\n",
       "   marital_status_encoded  occupation_encoded  relationship_encoded  \\\n",
       "0                       4                   1                     1   \n",
       "1                       2                   4                     0   \n",
       "2                       0                   6                     1   \n",
       "\n",
       "   race_encoded  native_country_encoded  \n",
       "0             4                      38  \n",
       "1             4                      38  \n",
       "2             4                      38  "
      ]
     },
     "execution_count": 45,
     "metadata": {},
     "output_type": "execute_result"
    }
   ],
   "source": [
    "def transform_dataset(dataset):\n",
    "\n",
    "    dataset['workclass_encoded'] = LabelEncoder().fit_transform(dataset['workclass'])\n",
    "    dataset['education_encoded'] = LabelEncoder().fit_transform(dataset['education'])\n",
    "    dataset['marital_status_encoded'] = LabelEncoder().fit_transform(dataset['marital_status'])\n",
    "    dataset['occupation_encoded'] = LabelEncoder().fit_transform(dataset['occupation'])\n",
    "    dataset['relationship_encoded'] = LabelEncoder().fit_transform(dataset['relationship'])\n",
    "    dataset['race_encoded'] = LabelEncoder().fit_transform(dataset['race'])\n",
    "    dataset['native_country_encoded'] = LabelEncoder().fit_transform(dataset['native_country'])\n",
    "\n",
    "    dataset = dataset.drop('workclass', axis=1).drop('education', axis=1).drop('marital_status', axis=1)\\\n",
    "        .drop('occupation', axis=1).drop('relationship', axis=1).drop('race', axis=1).drop('native_country', axis=1)\n",
    "    \n",
    "    return dataset\n",
    "\n",
    "data_cat = transform_dataset(data_cat)\n",
    "data_cat_100 = transform_dataset(data_cat_100)\n",
    "    \n",
    "data_cat.head(3)"
   ]
  },
  {
   "cell_type": "markdown",
   "id": "98357919",
   "metadata": {},
   "source": [
    "Transform label and sex into binary encoding:"
   ]
  },
  {
   "cell_type": "code",
   "execution_count": 46,
   "id": "166b24eb",
   "metadata": {},
   "outputs": [
    {
     "data": {
      "text/html": [
       "<div>\n",
       "<style scoped>\n",
       "    .dataframe tbody tr th:only-of-type {\n",
       "        vertical-align: middle;\n",
       "    }\n",
       "\n",
       "    .dataframe tbody tr th {\n",
       "        vertical-align: top;\n",
       "    }\n",
       "\n",
       "    .dataframe thead th {\n",
       "        text-align: right;\n",
       "    }\n",
       "</style>\n",
       "<table border=\"1\" class=\"dataframe\">\n",
       "  <thead>\n",
       "    <tr style=\"text-align: right;\">\n",
       "      <th></th>\n",
       "      <th>workclass_encoded</th>\n",
       "      <th>education_encoded</th>\n",
       "      <th>marital_status_encoded</th>\n",
       "      <th>occupation_encoded</th>\n",
       "      <th>relationship_encoded</th>\n",
       "      <th>race_encoded</th>\n",
       "      <th>native_country_encoded</th>\n",
       "      <th>female</th>\n",
       "      <th>income</th>\n",
       "    </tr>\n",
       "  </thead>\n",
       "  <tbody>\n",
       "    <tr>\n",
       "      <th>0</th>\n",
       "      <td>6</td>\n",
       "      <td>9</td>\n",
       "      <td>4</td>\n",
       "      <td>1</td>\n",
       "      <td>1</td>\n",
       "      <td>4</td>\n",
       "      <td>38</td>\n",
       "      <td>0</td>\n",
       "      <td>0</td>\n",
       "    </tr>\n",
       "    <tr>\n",
       "      <th>1</th>\n",
       "      <td>5</td>\n",
       "      <td>9</td>\n",
       "      <td>2</td>\n",
       "      <td>4</td>\n",
       "      <td>0</td>\n",
       "      <td>4</td>\n",
       "      <td>38</td>\n",
       "      <td>0</td>\n",
       "      <td>0</td>\n",
       "    </tr>\n",
       "    <tr>\n",
       "      <th>2</th>\n",
       "      <td>3</td>\n",
       "      <td>11</td>\n",
       "      <td>0</td>\n",
       "      <td>6</td>\n",
       "      <td>1</td>\n",
       "      <td>4</td>\n",
       "      <td>38</td>\n",
       "      <td>0</td>\n",
       "      <td>0</td>\n",
       "    </tr>\n",
       "  </tbody>\n",
       "</table>\n",
       "</div>"
      ],
      "text/plain": [
       "   workclass_encoded  education_encoded  marital_status_encoded  \\\n",
       "0                  6                  9                       4   \n",
       "1                  5                  9                       2   \n",
       "2                  3                 11                       0   \n",
       "\n",
       "   occupation_encoded  relationship_encoded  race_encoded  \\\n",
       "0                   1                     1             4   \n",
       "1                   4                     0             4   \n",
       "2                   6                     1             4   \n",
       "\n",
       "   native_country_encoded  female  income  \n",
       "0                      38       0       0  \n",
       "1                      38       0       0  \n",
       "2                      38       0       0  "
      ]
     },
     "execution_count": 46,
     "metadata": {},
     "output_type": "execute_result"
    }
   ],
   "source": [
    "data_cat['female'] = data_cat['sex'].map( {' Male': 0, ' Female': 1} )\n",
    "data_cat['income'] = data_cat['label'].map( {' <=50K': 0, ' >50K': 1} )\n",
    "\n",
    "data_cat = data_cat.drop('sex', axis=1).drop('label', axis=1)\n",
    "\n",
    "data_cat_100['female'] = data_cat_100['sex'].map( {' Male': 0, ' Female': 1} )\n",
    "data_cat_100['income'] = data_cat_100['label'].map( {' <=50K': 0, ' >50K': 1} )\n",
    "\n",
    "data_cat_100 = data_cat_100.drop('sex', axis=1).drop('label', axis=1)\n",
    "\n",
    "data_cat.head(3)"
   ]
  },
  {
   "cell_type": "markdown",
   "id": "93d86940",
   "metadata": {},
   "source": [
    "Begin with the experiments:"
   ]
  },
  {
   "cell_type": "code",
   "execution_count": 47,
   "id": "4970b064",
   "metadata": {},
   "outputs": [],
   "source": [
    "continuous_features_cat = []\n",
    "\n",
    "outcome_name_cat = 'income'"
   ]
  },
  {
   "cell_type": "code",
   "execution_count": 48,
   "id": "b7c5bad2",
   "metadata": {
    "scrolled": true
   },
   "outputs": [
    {
     "name": "stdout",
     "output_type": "stream",
     "text": [
      "features: categorical, training samples: all, model: decision tree.\n"
     ]
    },
    {
     "name": "stderr",
     "output_type": "stream",
     "text": [
      "100%|██████████| 100/100 [00:37<00:00,  2.66it/s]\n"
     ]
    },
    {
     "name": "stdout",
     "output_type": "stream",
     "text": [
      "Percentage of counterfactuals that appear in training data: 1.0\n",
      "--- 39.624513149261475 seconds ---\n"
     ]
    }
   ],
   "source": [
    "print(\"features: categorical, training samples: all, model: decision tree.\")\n",
    "\n",
    "start_time = time.time()\n",
    "\n",
    "accuracy = experiment(data_cat, repetitions=100, continuous_features=continuous_features_cat, outcome_name=outcome_name_cat,\\\n",
    "                      classifier=DecisionTreeClassifier(random_state=0), random_state=0)\n",
    "\n",
    "results.loc[len(results.index)] = ['categorical', 'all', 'decision tree', accuracy]\n",
    "\n",
    "print(\"--- %s seconds ---\" % (time.time() - start_time))"
   ]
  },
  {
   "cell_type": "code",
   "execution_count": 49,
   "id": "bb513d54",
   "metadata": {},
   "outputs": [
    {
     "name": "stdout",
     "output_type": "stream",
     "text": [
      "features: categorical, training samples: all, model: random forest.\n"
     ]
    },
    {
     "name": "stderr",
     "output_type": "stream",
     "text": [
      "100%|██████████| 100/100 [01:39<00:00,  1.01it/s]\n"
     ]
    },
    {
     "name": "stdout",
     "output_type": "stream",
     "text": [
      "Percentage of counterfactuals that appear in training data: 1.0\n",
      "--- 113.70071315765381 seconds ---\n"
     ]
    }
   ],
   "source": [
    "print(\"features: categorical, training samples: all, model: random forest.\")\n",
    "\n",
    "start_time = time.time()\n",
    "\n",
    "accuracy = experiment(data_cat, repetitions=100, continuous_features=continuous_features_cat, outcome_name=outcome_name_cat,\\\n",
    "                      classifier=es.RandomForestClassifier(random_state=0), random_state=0)\n",
    "\n",
    "results.loc[len(results.index)] = ['categorical', 'all', 'random forest', accuracy]\n",
    "\n",
    "print(\"--- %s seconds ---\" % (time.time() - start_time))"
   ]
  },
  {
   "cell_type": "code",
   "execution_count": 50,
   "id": "3632b3a4",
   "metadata": {
    "scrolled": true
   },
   "outputs": [
    {
     "name": "stdout",
     "output_type": "stream",
     "text": [
      "features: categorical, training samples: 100, model: decision tree.\n"
     ]
    },
    {
     "name": "stderr",
     "output_type": "stream",
     "text": [
      "100%|██████████| 100/100 [00:13<00:00,  7.36it/s]\n"
     ]
    },
    {
     "name": "stdout",
     "output_type": "stream",
     "text": [
      "Percentage of counterfactuals that appear in training data: 1.0\n",
      "--- 13.892636060714722 seconds ---\n"
     ]
    }
   ],
   "source": [
    "print(\"features: categorical, training samples: 100, model: decision tree.\")\n",
    "\n",
    "start_time = time.time()\n",
    "\n",
    "accuracy = experiment(data_cat_100, repetitions=100, continuous_features=continuous_features_cat, outcome_name=outcome_name_cat,\\\n",
    "                      classifier=DecisionTreeClassifier(random_state=0), random_state=0)\n",
    "\n",
    "results.loc[len(results.index)] = ['categorical', '100', 'decision tree', accuracy]\n",
    "\n",
    "print(\"--- %s seconds ---\" % (time.time() - start_time))"
   ]
  },
  {
   "cell_type": "code",
   "execution_count": 51,
   "id": "ebce37b5",
   "metadata": {
    "scrolled": true
   },
   "outputs": [
    {
     "name": "stdout",
     "output_type": "stream",
     "text": [
      "features: categorical, training samples: all, model: random forest.\n"
     ]
    },
    {
     "name": "stderr",
     "output_type": "stream",
     "text": [
      "100%|██████████| 100/100 [00:25<00:00,  3.94it/s]"
     ]
    },
    {
     "name": "stdout",
     "output_type": "stream",
     "text": [
      "Percentage of counterfactuals that appear in training data: 1.0\n",
      "--- 25.81084895133972 seconds ---\n"
     ]
    },
    {
     "name": "stderr",
     "output_type": "stream",
     "text": [
      "\n"
     ]
    }
   ],
   "source": [
    "print(\"features: categorical, training samples: all, model: random forest.\")\n",
    "\n",
    "start_time = time.time()\n",
    "\n",
    "accuracy = experiment(data_cat_100, repetitions=100, continuous_features=continuous_features_cat, outcome_name=outcome_name_cat,\\\n",
    "                      classifier=es.RandomForestClassifier(random_state=0), random_state=0)\n",
    "\n",
    "results.loc[len(results.index)] = ['categorical', '100', 'random forest', accuracy]\n",
    "\n",
    "print(\"--- %s seconds ---\" % (time.time() - start_time))"
   ]
  },
  {
   "cell_type": "markdown",
   "id": "a1feb9a8",
   "metadata": {},
   "source": [
    "# Results\n",
    "\n",
    "\"Accuracy\" describes the percentage of counterfactuals that matched a sample in the training data exactly."
   ]
  },
  {
   "cell_type": "code",
   "execution_count": 52,
   "id": "39bb0af8",
   "metadata": {},
   "outputs": [
    {
     "data": {
      "text/html": [
       "<div>\n",
       "<style scoped>\n",
       "    .dataframe tbody tr th:only-of-type {\n",
       "        vertical-align: middle;\n",
       "    }\n",
       "\n",
       "    .dataframe tbody tr th {\n",
       "        vertical-align: top;\n",
       "    }\n",
       "\n",
       "    .dataframe thead th {\n",
       "        text-align: right;\n",
       "    }\n",
       "</style>\n",
       "<table border=\"1\" class=\"dataframe\">\n",
       "  <thead>\n",
       "    <tr style=\"text-align: right;\">\n",
       "      <th></th>\n",
       "      <th>dataset</th>\n",
       "      <th>training_samples</th>\n",
       "      <th>model</th>\n",
       "      <th>accuracy</th>\n",
       "    </tr>\n",
       "  </thead>\n",
       "  <tbody>\n",
       "    <tr>\n",
       "      <th>0</th>\n",
       "      <td>continuous</td>\n",
       "      <td>all</td>\n",
       "      <td>decision tree</td>\n",
       "      <td>0.600</td>\n",
       "    </tr>\n",
       "    <tr>\n",
       "      <th>1</th>\n",
       "      <td>continuous</td>\n",
       "      <td>all</td>\n",
       "      <td>random forest</td>\n",
       "      <td>0.598</td>\n",
       "    </tr>\n",
       "    <tr>\n",
       "      <th>2</th>\n",
       "      <td>continuous</td>\n",
       "      <td>100</td>\n",
       "      <td>decision tree</td>\n",
       "      <td>0.648</td>\n",
       "    </tr>\n",
       "    <tr>\n",
       "      <th>3</th>\n",
       "      <td>continuous</td>\n",
       "      <td>100</td>\n",
       "      <td>random forest</td>\n",
       "      <td>0.646</td>\n",
       "    </tr>\n",
       "    <tr>\n",
       "      <th>4</th>\n",
       "      <td>categorical</td>\n",
       "      <td>all</td>\n",
       "      <td>decision tree</td>\n",
       "      <td>1.000</td>\n",
       "    </tr>\n",
       "    <tr>\n",
       "      <th>5</th>\n",
       "      <td>categorical</td>\n",
       "      <td>all</td>\n",
       "      <td>random forest</td>\n",
       "      <td>1.000</td>\n",
       "    </tr>\n",
       "    <tr>\n",
       "      <th>6</th>\n",
       "      <td>categorical</td>\n",
       "      <td>100</td>\n",
       "      <td>decision tree</td>\n",
       "      <td>1.000</td>\n",
       "    </tr>\n",
       "    <tr>\n",
       "      <th>7</th>\n",
       "      <td>categorical</td>\n",
       "      <td>100</td>\n",
       "      <td>random forest</td>\n",
       "      <td>1.000</td>\n",
       "    </tr>\n",
       "  </tbody>\n",
       "</table>\n",
       "</div>"
      ],
      "text/plain": [
       "       dataset training_samples          model  accuracy\n",
       "0   continuous              all  decision tree     0.600\n",
       "1   continuous              all  random forest     0.598\n",
       "2   continuous              100  decision tree     0.648\n",
       "3   continuous              100  random forest     0.646\n",
       "4  categorical              all  decision tree     1.000\n",
       "5  categorical              all  random forest     1.000\n",
       "6  categorical              100  decision tree     1.000\n",
       "7  categorical              100  random forest     1.000"
      ]
     },
     "execution_count": 52,
     "metadata": {},
     "output_type": "execute_result"
    }
   ],
   "source": [
    "results"
   ]
  },
  {
   "cell_type": "code",
   "execution_count": null,
   "id": "31380dcf",
   "metadata": {},
   "outputs": [],
   "source": []
  }
 ],
 "metadata": {
  "kernelspec": {
   "display_name": "Python 3 (ipykernel)",
   "language": "python",
   "name": "python3"
  },
  "language_info": {
   "codemirror_mode": {
    "name": "ipython",
    "version": 3
   },
   "file_extension": ".py",
   "mimetype": "text/x-python",
   "name": "python",
   "nbconvert_exporter": "python",
   "pygments_lexer": "ipython3",
   "version": "3.9.5"
  }
 },
 "nbformat": 4,
 "nbformat_minor": 5
}
